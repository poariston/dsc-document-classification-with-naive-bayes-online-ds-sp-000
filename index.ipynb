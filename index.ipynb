{
 "cells": [
  {
   "cell_type": "markdown",
   "metadata": {},
   "source": [
    "# Document Classification with Naive Bayes\n",
    "\n",
    "## Introduction\n",
    "\n",
    "In this lesson, you'll investigate another implementation of the Bayesian framework in order to classify YouTube videos into the appropriate topic. The dataset you'll be investigating again comes from Kaggle. For further information, you can check out the original dataset here: https://www.kaggle.com/extralime/math-lectures .\n",
    "\n",
    "## Objectives\n",
    "\n",
    "You will be able to:  \n",
    "\n",
    "- Implement document classification using Naive Bayes \n",
    "- Explain how to code a bag of words representation\n",
    "- Explain why it is necessary to use Laplacian smoothing correction"
   ]
  },
  {
   "cell_type": "markdown",
   "metadata": {},
   "source": [
    "## Bayes theorem for document classification\n",
    "\n",
    "A common example of using Bayes' theorem to classify documents is a spam filtering algorithm. You'll be exploring this application in the upcoming lab. To do this, you examine the question \"given this word (in the document) what is the probability that it is spam versus not spam?\" For example, perhaps you get a lot of \"special offer\" spam. In that case, the words \"special\" and \"offer\" may increase the probability that a given message is spam.\n",
    "\n",
    "Recall Bayes theorem:\n",
    "\n",
    " $$ \\large  P(A|B) = \\dfrac{P(B|A)P(A)}{P(B)}$$\n",
    "\n",
    "Applied to a document, one common implementation of Bayes' theorem is to use a bag of words representation. A bag of words representation takes a text document and converts it into a word frequency representation. For example, in a bag of words representation, the message:\n",
    "\n",
    "> \"Thomas Bayes was born in the early 1700s, although his exact date of birth is unknown. As a Presbyterian in England, he took an unconventional approach to education for his day since Oxford and Cambridge were tied to the Church of England.\"\n",
    "\n",
    "Would look like this:"
   ]
  },
  {
   "cell_type": "code",
   "execution_count": 2,
   "metadata": {},
   "outputs": [
    {
     "data": {
      "text/plain": [
       "{'Thomas': 1,\n",
       " 'Bayes': 1,\n",
       " 'was': 1,\n",
       " 'born': 1,\n",
       " 'in': 2,\n",
       " 'the': 2,\n",
       " 'early': 1,\n",
       " '1700s,': 1,\n",
       " 'although': 1,\n",
       " 'his': 2,\n",
       " 'exact': 1,\n",
       " 'date': 1,\n",
       " 'of': 2,\n",
       " 'birth': 1,\n",
       " 'is': 1,\n",
       " 'unknown.': 1,\n",
       " 'As': 1,\n",
       " 'a': 1,\n",
       " 'Presbyterian': 1,\n",
       " 'England,': 1,\n",
       " 'he': 1,\n",
       " 'took': 1,\n",
       " 'an': 1,\n",
       " 'unconventional': 1,\n",
       " 'approach': 1,\n",
       " 'to': 2,\n",
       " 'education': 1,\n",
       " 'for': 1,\n",
       " 'day': 1,\n",
       " 'since': 1,\n",
       " 'Oxford': 1,\n",
       " 'and': 1,\n",
       " 'Cambridge': 1,\n",
       " 'were': 1,\n",
       " 'tied': 1,\n",
       " 'Church': 1,\n",
       " 'England.': 1}"
      ]
     },
     "execution_count": 2,
     "metadata": {},
     "output_type": "execute_result"
    }
   ],
   "source": [
    "doc = \"Thomas Bayes was born in the early 1700s, although his exact date of birth is unknown. As a Presbyterian in England, he took an unconventional approach to education for his day since Oxford and Cambridge were tied to the Church of England.\"\n",
    "bag = {}\n",
    "for word in doc.split():\n",
    "    # Get the previous entry, or 0 if not yet documented; add 1\n",
    "    bag[word] = bag.get(word, 0) + 1 \n",
    "bag"
   ]
  },
  {
   "cell_type": "code",
   "execution_count": 3,
   "metadata": {},
   "outputs": [
    {
     "data": {
      "text/plain": [
       "1"
      ]
     },
     "execution_count": 3,
     "metadata": {},
     "output_type": "execute_result"
    }
   ],
   "source": [
    "bag.get('England.',0)"
   ]
  },
  {
   "cell_type": "code",
   "execution_count": 4,
   "metadata": {},
   "outputs": [
    {
     "data": {
      "text/plain": [
       "dict_values([1, 1, 1, 1, 2, 2, 1, 1, 1, 2, 1, 1, 2, 1, 1, 1, 1, 1, 1, 1, 1, 1, 1, 1, 1, 2, 1, 1, 1, 1, 1, 1, 1, 1, 1, 1, 1])"
      ]
     },
     "execution_count": 4,
     "metadata": {},
     "output_type": "execute_result"
    }
   ],
   "source": [
    "\n",
    "\n",
    "bag.keys()\n",
    "bag.values()"
   ]
  },
  {
   "cell_type": "code",
   "execution_count": null,
   "metadata": {},
   "outputs": [],
   "source": []
  },
  {
   "cell_type": "markdown",
   "metadata": {},
   "source": [
    "Additional preprocessing techniques can also be applied to the document before applying a bag of words representation, many of which you'll explore later when further investigating Natural Language Processing (NLP) techniques. \n",
    "\n",
    "\n",
    "Once you've converted the document into a bag of words representation, you can then implement Bayes' theorem.\n",
    "Returning to the case of 'Spam' and 'Not Spam', you would have:\n",
    "\n",
    " $$ P(\\text{Spam | Word}) = \\dfrac{P(\\text{Word | Spam})P(\\text{Spam})}{P(\\text{Word})}$$  \n",
    "\n",
    "Using the bag of words representation, you can then define $P(\\text{Word | Spam})$ as\n",
    "\n",
    " $$P(\\text{Word | Spam}) = \\dfrac{\\text{Word Frequency in Document}}{\\text{Word Frequency Across All Spam Documents}}$$  \n",
    "\n",
    "However, this formulation has a problem: what if you encounter a word in the test set that was not present in the training set? This new word would have a frequency of zero! This would commit two grave sins. First, there would be a division by zero error. Secondly, the numerator would also be zero; if you were to simply modify the denominator, having a term with zero probability would cause the probability for the entire document to also be zero when you subsequently multiplied the conditional probabilities in Multinomial Bayes. To effectively counteract these issues, Laplacian smoothing is often used giving:   \n",
    "\n",
    " $$P(\\text{Word | Spam}) = \\dfrac{\\text{Word Frequency in Document} + 1}{\\text{Word Frequency Across All Spam Documents + Number of Words in Corpus Vocabulary}}$$  \n",
    "\n",
    "Now, to implement this in Python!"
   ]
  },
  {
   "cell_type": "code",
   "execution_count": null,
   "metadata": {},
   "outputs": [],
   "source": []
  },
  {
   "cell_type": "markdown",
   "metadata": {},
   "source": [
    "## Load the dataset"
   ]
  },
  {
   "cell_type": "code",
   "execution_count": 5,
   "metadata": {},
   "outputs": [
    {
     "data": {
      "text/html": [
       "<div>\n",
       "<style scoped>\n",
       "    .dataframe tbody tr th:only-of-type {\n",
       "        vertical-align: middle;\n",
       "    }\n",
       "\n",
       "    .dataframe tbody tr th {\n",
       "        vertical-align: top;\n",
       "    }\n",
       "\n",
       "    .dataframe thead th {\n",
       "        text-align: right;\n",
       "    }\n",
       "</style>\n",
       "<table border=\"1\" class=\"dataframe\">\n",
       "  <thead>\n",
       "    <tr style=\"text-align: right;\">\n",
       "      <th></th>\n",
       "      <th>text</th>\n",
       "      <th>label</th>\n",
       "    </tr>\n",
       "  </thead>\n",
       "  <tbody>\n",
       "    <tr>\n",
       "      <th>0</th>\n",
       "      <td>The following content is\\r\\nprovided under a C...</td>\n",
       "      <td>Calculus</td>\n",
       "    </tr>\n",
       "    <tr>\n",
       "      <th>1</th>\n",
       "      <td>In this sequence of segments,\\r\\nwe review som...</td>\n",
       "      <td>Probability</td>\n",
       "    </tr>\n",
       "    <tr>\n",
       "      <th>2</th>\n",
       "      <td>The following content is\\r\\nprovided under a C...</td>\n",
       "      <td>CS</td>\n",
       "    </tr>\n",
       "    <tr>\n",
       "      <th>3</th>\n",
       "      <td>The following\\r\\ncontent is provided under a C...</td>\n",
       "      <td>Algorithms</td>\n",
       "    </tr>\n",
       "    <tr>\n",
       "      <th>4</th>\n",
       "      <td>The following\\r\\ncontent is provided under a C...</td>\n",
       "      <td>Algorithms</td>\n",
       "    </tr>\n",
       "  </tbody>\n",
       "</table>\n",
       "</div>"
      ],
      "text/plain": [
       "                                                text        label\n",
       "0  The following content is\\r\\nprovided under a C...     Calculus\n",
       "1  In this sequence of segments,\\r\\nwe review som...  Probability\n",
       "2  The following content is\\r\\nprovided under a C...           CS\n",
       "3  The following\\r\\ncontent is provided under a C...   Algorithms\n",
       "4  The following\\r\\ncontent is provided under a C...   Algorithms"
      ]
     },
     "execution_count": 5,
     "metadata": {},
     "output_type": "execute_result"
    }
   ],
   "source": [
    "import pandas as pd\n",
    "df = pd.read_csv('raw_text.csv')\n",
    "df.head()"
   ]
  },
  {
   "cell_type": "code",
   "execution_count": 6,
   "metadata": {},
   "outputs": [
    {
     "name": "stdout",
     "output_type": "stream",
     "text": [
      "In this sequence of segments,\r\n",
      "we review some mathematical background that will be\r\n",
      "useful at various places in this course. Most of what is covered, with\r\n",
      "the exception of the last segment, is material that you\r\n",
      "may have seen before. But this could still be an\r\n",
      "opportunity to refresh some of these concepts. I should say that\r\n",
      "this is intended to be just a refresher. Our coverage is not going to\r\n",
      "be complete in any sense. What we will talk about is\r\n",
      "sets, various definitions related to sets, and some basic\r\n",
      "properties, including De Morgan's laws. We will talk about what a\r\n",
      "sequence is and what it means for a sequence to converge\r\n",
      "to something. We will talk about\r\n",
      "infinite series. And as an example, we will look\r\n",
      "at the geometric series. Then we will talk about some\r\n",
      "subtleties that arise when you have sums of terms that are\r\n",
      "indexed with multiple indices. And finally, probably the most\r\n",
      "sophisticated part, will be a discussion of countable versus\r\n",
      "uncountable sets. Countable sets are like\r\n",
      "the integers. Uncountable sets are\r\n",
      "like the real line. And they're fundamentally\r\n",
      "different. And this fundamental difference\r\n",
      "reflects itself into fundamentally different\r\n",
      "probabilistic models-- models that involve discrete\r\n",
      "experiments and outcomes versus models that involve\r\n",
      "continuous outcomes.\n"
     ]
    }
   ],
   "source": [
    "print(df.iloc[1,0])"
   ]
  },
  {
   "cell_type": "code",
   "execution_count": 7,
   "metadata": {},
   "outputs": [
    {
     "data": {
      "text/plain": [
       "Linear Algebra     152\n",
       "Probability        124\n",
       "CS                 104\n",
       "Diff. Eq.           93\n",
       "Algorithms          81\n",
       "Statistics          79\n",
       "Calculus            70\n",
       "Data Structures     62\n",
       "AI                  48\n",
       "Math for Eng.       28\n",
       "NLP                 19\n",
       "Name: label, dtype: int64"
      ]
     },
     "execution_count": 7,
     "metadata": {},
     "output_type": "execute_result"
    }
   ],
   "source": [
    "df['label'].value_counts()"
   ]
  },
  {
   "cell_type": "markdown",
   "metadata": {},
   "source": [
    "## Simple two-class case\n",
    "\n",
    "To simplify the problem, you can start by subsetting to two specific classes: "
   ]
  },
  {
   "cell_type": "code",
   "execution_count": 8,
   "metadata": {},
   "outputs": [
    {
     "data": {
      "text/plain": [
       "Algorithms    81\n",
       "Statistics    79\n",
       "Name: label, dtype: int64"
      ]
     },
     "execution_count": 8,
     "metadata": {},
     "output_type": "execute_result"
    }
   ],
   "source": [
    "df2 = df[df['label'].isin(['Algorithms', 'Statistics'])]\n",
    "df2['label'].value_counts()"
   ]
  },
  {
   "cell_type": "code",
   "execution_count": 9,
   "metadata": {},
   "outputs": [
    {
     "data": {
      "text/html": [
       "<div>\n",
       "<style scoped>\n",
       "    .dataframe tbody tr th:only-of-type {\n",
       "        vertical-align: middle;\n",
       "    }\n",
       "\n",
       "    .dataframe tbody tr th {\n",
       "        vertical-align: top;\n",
       "    }\n",
       "\n",
       "    .dataframe thead th {\n",
       "        text-align: right;\n",
       "    }\n",
       "</style>\n",
       "<table border=\"1\" class=\"dataframe\">\n",
       "  <thead>\n",
       "    <tr style=\"text-align: right;\">\n",
       "      <th></th>\n",
       "      <th>text</th>\n",
       "      <th>label</th>\n",
       "    </tr>\n",
       "  </thead>\n",
       "  <tbody>\n",
       "    <tr>\n",
       "      <th>3</th>\n",
       "      <td>The following\\r\\ncontent is provided under a C...</td>\n",
       "      <td>Algorithms</td>\n",
       "    </tr>\n",
       "    <tr>\n",
       "      <th>4</th>\n",
       "      <td>The following\\r\\ncontent is provided under a C...</td>\n",
       "      <td>Algorithms</td>\n",
       "    </tr>\n",
       "    <tr>\n",
       "      <th>6</th>\n",
       "      <td>The following content is\\r\\nprovided under a C...</td>\n",
       "      <td>Algorithms</td>\n",
       "    </tr>\n",
       "    <tr>\n",
       "      <th>16</th>\n",
       "      <td>The following content is\\r\\nprovided under a C...</td>\n",
       "      <td>Algorithms</td>\n",
       "    </tr>\n",
       "    <tr>\n",
       "      <th>18</th>\n",
       "      <td>The following content is\\r\\nprovided under a C...</td>\n",
       "      <td>Algorithms</td>\n",
       "    </tr>\n",
       "  </tbody>\n",
       "</table>\n",
       "</div>"
      ],
      "text/plain": [
       "                                                 text       label\n",
       "3   The following\\r\\ncontent is provided under a C...  Algorithms\n",
       "4   The following\\r\\ncontent is provided under a C...  Algorithms\n",
       "6   The following content is\\r\\nprovided under a C...  Algorithms\n",
       "16  The following content is\\r\\nprovided under a C...  Algorithms\n",
       "18  The following content is\\r\\nprovided under a C...  Algorithms"
      ]
     },
     "execution_count": 9,
     "metadata": {},
     "output_type": "execute_result"
    }
   ],
   "source": [
    "df2.head()"
   ]
  },
  {
   "cell_type": "code",
   "execution_count": 10,
   "metadata": {},
   "outputs": [
    {
     "data": {
      "text/plain": [
       "((860, 2), (160, 2))"
      ]
     },
     "execution_count": 10,
     "metadata": {},
     "output_type": "execute_result"
    }
   ],
   "source": [
    "df.shape,df2.shape"
   ]
  },
  {
   "cell_type": "code",
   "execution_count": 11,
   "metadata": {},
   "outputs": [
    {
     "data": {
      "text/plain": [
       "0      False\n",
       "1      False\n",
       "2      False\n",
       "3       True\n",
       "4       True\n",
       "       ...  \n",
       "855    False\n",
       "856    False\n",
       "857    False\n",
       "858    False\n",
       "859    False\n",
       "Name: label, Length: 860, dtype: bool"
      ]
     },
     "execution_count": 11,
     "metadata": {},
     "output_type": "execute_result"
    }
   ],
   "source": [
    "df['label'].isin(['Algorithms', 'Statistics'])"
   ]
  },
  {
   "cell_type": "code",
   "execution_count": 12,
   "metadata": {},
   "outputs": [
    {
     "data": {
      "text/plain": [
       "Algorithms    0.50625\n",
       "Statistics    0.49375\n",
       "Name: label, dtype: float64"
      ]
     },
     "execution_count": 12,
     "metadata": {},
     "output_type": "execute_result"
    }
   ],
   "source": [
    "df2['label'].value_counts(normalize=True)\n"
   ]
  },
  {
   "cell_type": "code",
   "execution_count": 13,
   "metadata": {},
   "outputs": [
    {
     "data": {
      "text/plain": [
       "{'Algorithms': 0.50625, 'Statistics': 0.49375}"
      ]
     },
     "execution_count": 13,
     "metadata": {},
     "output_type": "execute_result"
    }
   ],
   "source": [
    "p_classes = dict(df2['label'].value_counts(normalize=True))\n",
    "p_classes"
   ]
  },
  {
   "cell_type": "code",
   "execution_count": 14,
   "metadata": {},
   "outputs": [
    {
     "data": {
      "text/plain": [
       "text     The following\\r\\ncontent is provided under a C...\n",
       "label                                           Algorithms\n",
       "Name: 3, dtype: object"
      ]
     },
     "execution_count": 14,
     "metadata": {},
     "output_type": "execute_result"
    }
   ],
   "source": [
    "df2.iloc[0]"
   ]
  },
  {
   "cell_type": "markdown",
   "metadata": {},
   "source": [
    "## Train-test split"
   ]
  },
  {
   "cell_type": "code",
   "execution_count": 15,
   "metadata": {},
   "outputs": [],
   "source": [
    "from sklearn.model_selection import train_test_split\n",
    "X = df2['text']\n",
    "y = df2['label']\n",
    "X_train, X_test, y_train, y_test = train_test_split(X, y, random_state=17)\n",
    "train_df = pd.concat([X_train, y_train], axis=1) \n",
    "test_df = pd.concat([X_test, y_test], axis=1)"
   ]
  },
  {
   "cell_type": "code",
   "execution_count": 16,
   "metadata": {},
   "outputs": [
    {
     "data": {
      "text/html": [
       "<div>\n",
       "<style scoped>\n",
       "    .dataframe tbody tr th:only-of-type {\n",
       "        vertical-align: middle;\n",
       "    }\n",
       "\n",
       "    .dataframe tbody tr th {\n",
       "        vertical-align: top;\n",
       "    }\n",
       "\n",
       "    .dataframe thead th {\n",
       "        text-align: right;\n",
       "    }\n",
       "</style>\n",
       "<table border=\"1\" class=\"dataframe\">\n",
       "  <thead>\n",
       "    <tr style=\"text-align: right;\">\n",
       "      <th></th>\n",
       "      <th>text</th>\n",
       "      <th>label</th>\n",
       "    </tr>\n",
       "  </thead>\n",
       "  <tbody>\n",
       "    <tr>\n",
       "      <th>196</th>\n",
       "      <td>In our previous lesson, we saw what binary\\r\\n...</td>\n",
       "      <td>Algorithms</td>\n",
       "    </tr>\n",
       "    <tr>\n",
       "      <th>729</th>\n",
       "      <td>The following content is\\r\\nprovided under a C...</td>\n",
       "      <td>Statistics</td>\n",
       "    </tr>\n",
       "    <tr>\n",
       "      <th>261</th>\n",
       "      <td>OK, here we go with, quiz\\r\\nreview for the th...</td>\n",
       "      <td>Algorithms</td>\n",
       "    </tr>\n",
       "    <tr>\n",
       "      <th>185</th>\n",
       "      <td>A lot of what we do with Laplace\\r\\ntransforms...</td>\n",
       "      <td>Statistics</td>\n",
       "    </tr>\n",
       "    <tr>\n",
       "      <th>294</th>\n",
       "      <td>Let us now discuss an\\r\\ninteresting fact abou...</td>\n",
       "      <td>Statistics</td>\n",
       "    </tr>\n",
       "  </tbody>\n",
       "</table>\n",
       "</div>"
      ],
      "text/plain": [
       "                                                  text       label\n",
       "196  In our previous lesson, we saw what binary\\r\\n...  Algorithms\n",
       "729  The following content is\\r\\nprovided under a C...  Statistics\n",
       "261  OK, here we go with, quiz\\r\\nreview for the th...  Algorithms\n",
       "185  A lot of what we do with Laplace\\r\\ntransforms...  Statistics\n",
       "294  Let us now discuss an\\r\\ninteresting fact abou...  Statistics"
      ]
     },
     "execution_count": 16,
     "metadata": {},
     "output_type": "execute_result"
    }
   ],
   "source": [
    "train_df.head()"
   ]
  },
  {
   "cell_type": "code",
   "execution_count": 17,
   "metadata": {},
   "outputs": [
    {
     "data": {
      "text/html": [
       "<div>\n",
       "<style scoped>\n",
       "    .dataframe tbody tr th:only-of-type {\n",
       "        vertical-align: middle;\n",
       "    }\n",
       "\n",
       "    .dataframe tbody tr th {\n",
       "        vertical-align: top;\n",
       "    }\n",
       "\n",
       "    .dataframe thead th {\n",
       "        text-align: right;\n",
       "    }\n",
       "</style>\n",
       "<table border=\"1\" class=\"dataframe\">\n",
       "  <thead>\n",
       "    <tr style=\"text-align: right;\">\n",
       "      <th></th>\n",
       "      <th>text</th>\n",
       "      <th>label</th>\n",
       "    </tr>\n",
       "  </thead>\n",
       "  <tbody>\n",
       "    <tr>\n",
       "      <th>685</th>\n",
       "      <td>OPERATOR: -- The following content is\\r\\nprovi...</td>\n",
       "      <td>Algorithms</td>\n",
       "    </tr>\n",
       "    <tr>\n",
       "      <th>375</th>\n",
       "      <td>[SOUND] Stanford University. &amp;gt;&amp;gt; We'll ge...</td>\n",
       "      <td>Statistics</td>\n",
       "    </tr>\n",
       "    <tr>\n",
       "      <th>338</th>\n",
       "      <td>Okay, this is linear\\r\\nalgebra, lecture four....</td>\n",
       "      <td>Statistics</td>\n",
       "    </tr>\n",
       "    <tr>\n",
       "      <th>80</th>\n",
       "      <td>The following content is\\r\\nprovided under a C...</td>\n",
       "      <td>Algorithms</td>\n",
       "    </tr>\n",
       "    <tr>\n",
       "      <th>828</th>\n",
       "      <td>The following content is\\r\\nprovided under a C...</td>\n",
       "      <td>Statistics</td>\n",
       "    </tr>\n",
       "  </tbody>\n",
       "</table>\n",
       "</div>"
      ],
      "text/plain": [
       "                                                  text       label\n",
       "685  OPERATOR: -- The following content is\\r\\nprovi...  Algorithms\n",
       "375  [SOUND] Stanford University. &gt;&gt; We'll ge...  Statistics\n",
       "338  Okay, this is linear\\r\\nalgebra, lecture four....  Statistics\n",
       "80   The following content is\\r\\nprovided under a C...  Algorithms\n",
       "828  The following content is\\r\\nprovided under a C...  Statistics"
      ]
     },
     "execution_count": 17,
     "metadata": {},
     "output_type": "execute_result"
    }
   ],
   "source": [
    "test_df.head()"
   ]
  },
  {
   "cell_type": "markdown",
   "metadata": {},
   "source": [
    "## Create the word frequency dictionary for each class"
   ]
  },
  {
   "cell_type": "code",
   "execution_count": 18,
   "metadata": {},
   "outputs": [],
   "source": [
    "# Will be a nested dictionary of class_i : {word1:freq, word2:freq..., wordn:freq},.... class_m : {}\n",
    "class_word_freq = {} \n",
    "classes = train_df['label'].unique()\n",
    "for class_ in classes:\n",
    "    temp_df = train_df[train_df.label == class_]\n",
    "    bag = {}\n",
    "    for row in temp_df.index:\n",
    "        doc = temp_df['text'][row]\n",
    "        for word in doc.split():\n",
    "            bag[word] = bag.get(word, 0) + 1\n",
    "    class_word_freq[class_] = bag"
   ]
  },
  {
   "cell_type": "code",
   "execution_count": 19,
   "metadata": {},
   "outputs": [
    {
     "data": {
      "text/plain": [
       "dict_keys(['In', 'our', 'previous', 'lesson,', 'we', 'saw', 'what', 'binary', 'search', 'trees', 'are,', 'now', 'in', 'this', 'lesson', 'are', 'going', 'to', 'implement', 'tree.', 'We', 'will', 'be', 'writing', 'some', 'code', 'for', 'prerequisite', 'is', 'that', 'you', 'must', 'understand', 'the', 'concepts', 'of', 'pointers', 'and', 'dynamic', 'memory', 'allocation', 'C/C++.', 'If', 'have', 'already', 'followed', 'series', 'seen', 'lessons', 'on', 'linked', 'list,', 'then', 'implementation', 'tree', 'or', 'general', 'not', 'very', 'different.', 'nodes', 'links', 'here', 'as', 'well.', 'Ok,', 'so', 'lets', 'get', 'started.', 'Binary', 'BST', 'know', 'a', 'which', 'each', 'node,', 'value', 'all', 'left', 'subtree', 'lesser', 'equal', 'right', 'greater.', 'can', 'draw', 'recursive', 'structure', 'like', 'this.', 'Value', 'greater', 'true', 'just', 'root', 'node.', 'So,', 'definition', 'here,', 'both', 'subtrees', 'also', 'trees.', 'I', 'drawn', 'integers', 'here.', 'Now,', 'question', 'is,', 'how', 'create', 'non-linear', 'logical', \"computer's\", 'memory.', 'had', 'talked', 'about', 'briefly', 'when', 'discussed', 'The', 'most', 'popular', 'way', '-', 'dynamically', 'created', 'other', 'using', 'references', 'do', 'it', 'lists.', 'Because', 'tree,', 'general,', 'node', 'at', '2', 'children,', 'define', 'an', 'object', 'with', '3', 'fields', 'something', \"I'm\", 'showing', 'field', 'store', 'data,', 'another', 'address', 'reference', 'child', 'child.', 'there', 'no', 'set', 'NULL.', 'C', 'C++,', 'There', 'data.', 'Here', 'data', 'type', 'integer,', 'but', 'anything.', 'one', 'pointer', 'Node', 'asterisk', 'means', 'This', 'similar', 'doubly', 'list.', 'Remember', 'list', 'also,', 'two', 'next', 'was', 'linear', 'arrangement.', 'could', 'name', 'BstNode,', 'fine,', 'go', 'Node.', 'implementation,', 'heap', 'section', \"application's\", 'malloc', 'function', \"'C'\", 'new', 'operator', 'C++.', 'use', 'C++', 'any', 'applications', 'cannot', 'identifier.', 'It', 'has', 'accessed', 'through', 'pointer.', 'return', 'us', 'heap.', 'if', 'want', 'revise', 'these', 'allocation,', 'check', 'description', 'video', 'link', 'lesson.', 'Its', 'really', 'important', 'concept', 'stack', 'remember,', 'information', 'always', 'keep', 'head', 'access', 'links.', 'case', 'trees,', 'To', 'first', 'need', 'declare', 'BstNode.', \"I'll\", 'rather', 'call', 'BstNode', 'declared', 'named', 'rootPtr', 'Ptr', 'C,', \"can't\", 'write', 'rootPtr.', 'You', 'struct', 'space', 'asterisk,', 'am', 'gonna', 'anyway', 'trying', 'explain', 'logic.', 'bother', 'minute', 'details', 'implementation.', 'see', 'fields,', 'cells.', 'leftmost', 'cell', 'rightmost', 'Lets', 'say', '200', 'assume', 'random', 'addresses', 'fill', 'cells', 'children.', 'definition,', 'field,', 'structure,', 'middle.', 'Node,', 'filled', 'Address', '0', 'NULL', 'were', 'saying,', 'identity', 'variable', 'All', 'rectangles', 'Nodes.', 'They', 'live', 'identifier', 'them.', 'pointers.', 'rootPtr,', 'local', 'global', 'variable.', 'discuss', 'little', 'more', 'detail', 'time.', 'Quite', 'often,', 'pointer,', 'root.', 'so,', 'confuse.', 'itself.', 'BST,', 'Initially,', 'empty.', 'A', 'called', 'empty', 'should', 'declaration', 'setting', 'main', 'program.', 'Actually,', 'real', 'compiler.', 'As', 'see,', 'my', 'initially', 'With', 'much', 'code,', 'But,', 'whats', 'point', 'having', 'it.', 'able', 'insert', 'Insert', 'take', 'inserted', 'argument', 'appropriate', 'position', 'function,', 'make', 'calls', 'passing', 'inserted,', 'number', '15', '10', '20.', 'more,', 'logic', 'function.', 'Before', 'GetNewNode', 'argument,', 'back', 'creating', 'operator.', 'me', 'newly', 'collecting', 'instead', 'operator,', 'malloc.', 'C++as', 'only', 'super-set', 'C.', 'anything', 'newNode,', 'dereference', 'i', 'newNode', 'fields.', ',', 'right;.', 'Instead', 'dot', 'alternate', 'syntax', 'use.', 'simply', 'newNode-&gt;data', 'mean', 'same.', 'used', 'quite', 'lot', 'finally', 'coming', 'couple', 'cases', 'insertion.', 'First', 'all,', 'may', 'For', 'insertion,', 'inserting', '15,', 'empty,', 'statement,', 'GetNewNode,', 'But', 'alright', 'its', 'scope', 'within', 'root,', 'modified.', 'guy', 'ways', 'doing', 'either', 'void.', 'And', 'statement', 'arguments.', 'collect', 'update', 'Another', 'that,', 'pass', 'collected', 'address.', 'ampersand', 'whatever.', 'main.', 'thing', 'gets', 'tricky.', 'former', 'approach.', 'way.', 'declaring', 'Global', 'variable,', 'outside', 'functions.', 'would', 'accessible', 'functions', 'stored', 'argument.', 'Anyway,', 'At', 'stage,', 'wanted', '15.', 'macro', 'second', 'inserted.', 'say,', 'got', '200.', 'actually', 'Insert.', 'building', 'link.', '10.', 'do.', 'basically', 'cases.', 'equal,', 'greater,', 'reduce', 'problem', 'self', 'manner,', 'manner.', 'Recursion', 'almost', 'time', 'while', 'working', 'less', 'than', 'subtree.', 'call,', 'after', 'subtree,', 'change.', 'current', 'example', 'now,', '10,', 'made', 'From', 'control', 'come', 'line', '0.', 'Data', 'passed,', 'passed', 'wait', 'below', 'finish', 'return.', 'last,', '150.', '150', 'execution', 'resume', 'particular', 'build', 'finish.', 'Actually', 'cases,', 'taking', 'out', 'conditions.', 'Of', 'course,', 'else', 'third', 'Now', 'time,', 'else.', '300.', '200,', '300', 'stage', '25.', '25', 'Right', 'once', 'again,', 'else,', 'last', 'because', 'tot', 'if.', 'created,', '500.', 'Insert(0,25)', '500', '300,', 'built.', 'changed.', 'wrap', 'up.', 'looking', 'good', 'work', 'without', 'recursion.', 'encourage', 'so.', 'temporary', 'loops.', 'intuitive', 'recursion', 'pretty', 'everything', 'BST.', 'Search', 'searched', 'false', 'otherwise.', 'Once', 'NULL,', 'false.', 'for,', 'true.', 'Else,', 'making', 'understood', 'recursion,', 'similar.Lets', 'test', 'now.', 'dine', 'asked', 'user', 'enter', 'returning', 'true,', 'printing', '\"Found\",', '\"NotFound\".', 'run', 'happens.', 'moved', 'multiple', 'statements', 'short', '8.', '8', 'found.', '22.', '22', 'good.', 'stop', 'source', 'code.', 'lessons.', 'deeper', 'try', 'things', 'move', 'various', 'sections', 'How', 'execute', 'give', 'clarity.', 'Thanks', 'watching', '!', 'OK,', 'with,', 'quiz', 'review', \"that's\", 'Friday.', 'key', 'covers', 'chapter', 'six.', 'Chapter', 'seven', 'transformations', 'appear', 'final', 'exam,', 'quiz.', 'So', \"won't\", 'today,', \"they'll\", 'into', 'full', 'course', 'lecture.', 'reviewing', 'six,', 'old', 'exams,', 'ready', 'answer', 'questions.', 'thought,', 'kind', 'help', 'memories', 'down', 'topics', 'already,', 'quiz,', 'knew', 'find', 'eigenvalues', 'eigenvectors.', 'Well,', 'them', 'by', 'determinant', 'minus', 'lambda', 'equals', 'zero.', 'shortcuts.', 'be,', 'like,', 'useful', 'speed', 'up', 'with.', 'OK.', 'Then,', 'stuff', 'starts', 'differential', 'equation,', 'problem.', 'equation', 'first.', \"What's\", 'special', 'symmetric', 'matrices?', 'Can', 'words?', \"I'd\", 'better', 'down,', 'though.', 'Their', 'real.', 'matrix', 'real,', 'enough', 'Even', 'repeated', 'eigenvalues,', 'eigenvectors,', 'choose', 'those', 'eigenvectors', 'orthogonal.', 'transposed,', 'big', 'fact', 'diagonalize', 'it,', 'eigenvector', 'matrix,', 'column,', 'orthogonal', 'matrix.', 'Q', 'transpose.', 'That,', 'three', 'symbols,', 'expresses', 'wonderful', 'fact,', 'fundamental', 'matrices.', 'went', 'beyond', 'ask', 'positive', 'definite', 'matrices,', 'positive.', 'that.', \"we've\", 'symmetry.', 'Similar', 'matrices', 'square', \"they're\", 'related', \"what's\", 'Somehow,', 'representing', 'same', 'different', 'basis,', 'language.', 'six', 'language,', 'eigenvalues.', 'Same', 'grows,', 'grows.', 'decays', 'zero,', 'Powers', 'look', 'powers', 'B,', 'B', 'differ', 'M', 'inverse', 'outside.', 'similar,', 'k-th', 'power', 'M.', 'why', 'eh,', 'M,', 'does', 'change', \"doesn't\", 'lambdas.', 'then,', 'finally,', \"I've\", 'SVD,', 'Singular', 'Decomposition.', 'cover,', 'problems', 'from', 'earlier', 'starting', 'equation.', 'exam', 'year', 'three.', '--', \"it's\", 'special-looking', 'zeroes', 'diagonal,', 'ones', 'above,', 'plus', 'A.', 'Step', 'well,', 'solve', 'solution.', \"haven't\", 'given', 'u(0)', 'solution,', 'form', 'solution?', 'arbitrary', 'constants', 'inside', 'match', 'initial', 'condition.', 'u', 't', 'solution', 'growing', 'eigenvalue,', 'eigenvector.', 'pure', 'exponential', 'staying', 'found,', 'yet,', \"That's,\", 'normally,', 'job.', 'one,', 'e', 'two,', \"we're\", 'done', 'actually.', 'choosing', 'constants.', 'matrix?', 'Um,', 'guess', 'might', 'ourselves', 'away,', 'singular?', 'Is', 'Because,', 'start,', 'Eh,', \"don't\", 'know,', 'out?', 'Or', 'maybe', 'row', 'hey,', 'opposite', 'signs,', 'linear-dependent?', 'column', 'dependent', 'singular.', 'eigenvalue', \"Let's\", 'one.', 'Lambda', 'find,', 'and,', 'suppose', 'simplest', 'let', 'put', 'below.', 'actually,', 'before', 'symmetric,', 'sure,', 'right?', 'symmetric.', 'That', 'transpose,', 'transpose', 'connected', 'A?', \"It's\", 'negative', 'anti-symmetric', 'skew-symmetric', 'met,', 'maybe,', 'two-by-two', 'deal', 'their', 'eigenvalues?', \"They're\", 'imaginary.', \"They'll\", 'imaginary', 'axis,', 'anti-symmetric,', 'multiples', 'I,', 'zero', 'times', 'out,', 'cubed.', 'cubed,', 'Zero,', 'lambda,', 'sign.', 'Am', 'getting', 'zero?', 'So.', 'solving', 'cube', 'factors', 'rest', 'squared', 'two.', 'expect,', 'gives', 'roots,', 'what?', 'solutions', 'guys,', 'they?', 'i,', 'i.', 'When', 'roots', 'are.', 'in,', 'Either', \"That's\", 'I.', 'decaying', 'completely', 'stable', 'where', 'No.', 'size.', 'multiplied', 'number.', 't,', 'magnitude', 'sort', 'wanders', 'around', 'unit', 'circle.', 'blow', 'up,', 'plug', 'value?', 'even', 'value.', 'think', 'periodic', 'after.', 'c1,', 'c2,', 'c3,', 'comes', 'question,', \"let's\", 'seconds,', \"isn't\", 'likely', 'when?', 'whenever', 'pi', 'again.', 'start.', 'periodic,', 'shall', 'capital', 'T,', 'period?', 'period', 'T', 'determined', 'cancel', 'i-s,', 'neat.', 'solutions,', 'fixed', 'probably', 'chance', 'whole', 'family', 'asked,', '(again,', 'computed', 'eigenvectors)', 'turns', 'conscience', 'makes', 'tell', 'you,', 'eigenvectors?', 'class,', 'spoken', 'about.', 'Orthogonal', 'x-s.', 'exact', 'condition', 'beautiful', 'exactly', 'happens', 'Any', 'interested', 'families', 'vectors,', 'fit.', 'requirement.', 'requirement', 'have.', 'average', 'three-by-three', 'commute', 'wonderfully,', 'test?', 'course.', 'A,', 'sides', 'squared,', 'sides.', 'group.', 'favorite', 'family,', 'Do', 'test,', 'Q,', 'they', 'Q?', 'transpose?', 'talking', 'yes,', 'passes', 'test.', \"(I'll\", 'skew-symmetric,)', 'Those', 'classes', 'family.', 'comment', 'been', 'four.', 'pursue', 'equations,', \"didn't\", 'me,', 'exponential,', 'At?', 'erase', 'this?', 'stay', 'same...', 'in?', 'u(t)', 'e^(At)', 'u(0).', 'multiplies', 'answer.', 'compute', 'that?', 'At,', 'directly', 'At-s,', 'hiding', 'it?', 'diagonalizable.', 'usual', 'diagonalized', '(and', 'everybody', 'remember', 'there,', 'enough,', 'enough.', 'diagonalize,', 'nice', 'formula', 'this,', 'S', 'beginning,', 'end,', 'lambda.', 'diagonal', 'guys', 'nt.', 'OK?', 'quick', 'formula.', 'quickly', 'part.', 'hard', 'step.', 'comments', 'equations.', 'started', \"it's,\", 'several', 'parts,', 'read', 'out.', 'What', 'told', 'except', 'question.', 'diagonalizable?', 'c,', 'questions', 'c', 'work.', 'your', 'c-s', 'asking', 'four,', 'checks', 'care', 'count', 'diagonalizable,', 'independent', 'ones,', 'independent?', 'Yes.', 'moment.', 'vectors', 'away?', 'independent.', 'chosen?', 'part,', 'certainly', 'diagonalizable', 'c.', \"Doesn't\", 'matter.', 'guy,', 'values', 'symmetric?', 'one?', 'setup', 'noticed', 'orthogonal,', 'work?', \"wouldn't\", 'number,', 'definite.', 'sub-case', 'tests', 'definite,', 'them,', 'good,', 'quick,', 'clean', 'Could', 'definite?', 'No,', 'semi-definite,', 'consolation', 'prize,', 'semi-definite.', 'not,', 'no.', 'Semi-definite,', 'right.', 'Next', 'Markov', 'Hm.', 'correctly,', 'Mainly,', 'One', 'smaller.', 'Not', 'larger.', 'happen.', 'no,', 'ma-', 'never', 'half', 'projection', 'it-', 'eh-eh', 'twice', 'over', 'mean,', 'th-', 'be.', 'be?', 'See,', 'idea', 'Zero', 'only.', 'P', 'P,', 'there?', 'work,', 'divide', 'Eigenvalue', 'drop', 'carried', 'way,', \"weren't\", 'dead,', 'dead.', 'came', 'chapter.', 'Shall', 'jump', 'singular', 'decomposition,', 'third,', 'topic', 'review?', 'to.', 'known', 'SVD.', 'factorization', 'U', 'sigma', 'V', 'every', 'Rectangular,', 'matter,', 'whatever,', 'decomposition.', 'important.', 'multiplying', 'U,', 'result', 'outside,', 's-', 'identity,', 'middle,', 'possibly', 'rectangular', 'result,', 'guess,', 'SVD', 'Great.', 'happening.', 'difference', 'seeing', 'here?', 'case,', 'V.', 'tells', 'us,', 'is.', 'lectured', 'topic,', 'gave', 'decompositions,', \"you'll\", 'trouble.', 'sorry', 'myself,', 'happened.', 'did', 'happen?', 'great', 'shape', 'while,', 'cruising', 'along.', 'found', 'Good.', 'values,', 'values?', 'rank,', 'r,', 'non-zero', 'ones.', 'those,', 'Remind', 'squares', 'sigmas', 'these,', 'Where', 'trouble?', 'step', 'U.', 'book.', 'practically', 'right,', 'happened', 'looked', 'Let', 'feel', \"here's\", 'Fine.', 'middle', 'looks', 'great.', 'columns', 'guy.', 'correct,', 'fine.', 'wrong?', 'sign', 'wrong.', 'wrong', 'somebody', 'still', \"wasn't\", 'determine', 'fifty-fifty', 'life', 'down,)', 'signs', 'pick', 'reversed', 'whether', 'there.', 'to,', 'settled', 'Vs', 'choose,', 'instead,', 'rule', 'decided', 'V,', 'multiply', 'notice', 'factor', 'vector', 'diagonalized,', 'sigmas.', \"that's,\", 'correcting', 'complete', 'final.', 'ahead.', 'Sometimes,', 'back,', 'board', 'or,', 'pieces.', 'example,', 'oh,', 'example.', 'Suppose', 'these.', 'columns,', 'columns.', 'of,', 'lecture', 'homework,', 'interesting', 'non-singular,', 'invertible,', \"there's\", 'typical', 'non-singular', 'invertible', \"you'd\", 'Us', 'spoke.', 'extreme', 'five.', 'wrong,', 'away.', 'negative.', 'forget', 'singular,', 'rank?', 'rank', 'clearly', 'thanks.', 'null', 'space,', 'dimension', 'space?', 'One.', 'Right?', \"We've\", 'beginning', 'us.', 'dimensions', 'spaces', 'central,', 'basis', 'v2.', 'v2', 'eigenvalue.', 'Have', 'space.', 'stuff.', 'Everything', 'sitting', 'takes', 'compute,', 'displays', 'SVD?', 'further', 'topics.', 'see.', 'about,', 'another,', \"Here's\", 'false,', 'easily.', 'Question,', 'given.', 'along', 'day.', 'intersection.', 'neat', 'possible', 'Eigenvalues', 'Ha.', 'Maybe', 'nothing.', 'feels', 'Basing', 'mathematics', 'gut', 'instinct', 'ought', 'rotations,', 'changing', 'length,', 'show', 'why.', 'Why?', 'moment?', 'x', 'x,', 'length', 'lengths,', 'whatever', 'x.', 'know.', 'lengths.', 'Right.', 'worth', 'committing', 'memory,', \"There's\", 'possibilities,', 'possibility', 'magnitude,', 'TK.', 'True', 'false?', 'sure', 'too.', 'three,', 'c-', 'least,', 'repeated.', 'Sure.', 'but,', 'many,', 'fifty', 'fifty,', 'repetitions.', 'diagonalized.', 'And,', 'chosen', 'best', 'S.', 'non-singular?', 'non-singular.', 'obviously,', 'Eigenvalues.', 'one-half', 'prove', 'do?', 'properties', 'property?', 'hopefully', 'back.', 'back?', 'one-quarter', 'agree', 'p-', 'itself?', 'One-half', 'squared.', 'squared?', 'given,', 'own', 'inverse,', 'identities', 'turned', 'safely.', 'said,', 'thing?', 'I?', 'Just', 'thirty', 'seconds', 'add', \"you're\", 'luck', 'events', 'become', 'conditional', 'model.', '[independence]', 'independence', 'situation', 'obtained.', 'follows.', 'coins,', 'coin', 'B.', 'model', 'world', 'chosen.', 'hands', 'model,', 'probability', 'heads', '0.9.', 'moreover,', '0.9', 'toss', 'matter', 'continue.', 'coin,', 'tosses.', 'saying', 'assuming', 'independence.', 'Within', 'flips', 'assumption', 'universe.', 'universe', 'dealing', 'have,', 'conditionally', '0.1.', 'coins.', 'Each', 'probability,', '0.5.', 'equally', 'obtain', 'coin--', 'start', 'flipping', 'over--', 'over.', 'tosses', 'refers', 'overall', 'ahead', 'approach', 'compare', 'unconditional', 'probabilities.', 'Independence', 'certain', 'probabilities', 'being', 'comparison', 'essentially', '11th', 'calculate', 'total', 'theorem.', 'probablility', 'numbers', '0.5', 'obtaining', '0.1', 'indeed', 'arithmetic,', '0.5,', 'perfect', 'sense.', 'coins', 'biases,', 'bias', 'someone', 'heads.', 'Will', 'affect', 'beliefs', 'happen', 'toss?', 'quantity', 'probabilities,', \"Bayes'\", 'rule,', 'intuitively.', 'extremely', 'unlikely.', 'row,', 'conclude', 'certainty', 'well', 'equivalent', 'probability.', 'therefore,', 'affects', '[11th]', 'toss.', 'between', 'Chains.', 'homework', 'due', 'day', 'Almost', 'meeting', 'today', 'tomorrow', 'too', 'material', 'section.', 'week', \"we'll\", 'focus', 'law', 'large', 'numbers,', 'central', 'limit', 'theorem,', 'multivariate', 'normal,', 'doing.', 'Then', 'TFs', 'examples', 'chains,', 'topic.', 'Okay,', 'chains.', 'handout', 'wrote', 'chains', 'posted', 'under', 'notes.', 'scare', 'anyone', 'Thanksgiving,', 'finals', 'December', '15th,', 'soon', 'thinking', 'post', 'handout,', '66', 'pages,', 'study.', 'pages', 'consist', '23', 'consists', 'literally', 'past', '110', 'Harvard', 'since', '2006.', 'teaching', 'Fall,', 'believe', 'withholding', 'information,', 'people', 'exams', 'others', 'cuz', 'friend', 'entire', 'history', 'finals,', 'five', 'practice', 'can,', 'practice,', 'practice.', 'resist', 'answers', 'really,', 'stuck.', 'highly', 'recommend', 'least', 'close', 'yourself', 'strictly.', 'four', 'notes', 'double-sided,', 'thing.', 'done,', 'spend', 'study', 'notes,', 'improve.', 'covered', 'gotten', 'far', 'intended', 'order', 'on,', 'chronological', \"Markov's\", 'skip', 'year.', 'Until', 'farther', 'sooner', 'practicing', 'better.', 'style', 'sense', 'everything.', 'invented', 'discovered', 'depending', 'philosophical', 'view.', 'who', 'heard', 'through,', 'inequality.', 'He', 'introduced', 'hundred', 'years', 'ago.', '1906.', 'original', 'reason', 'studying', 'unbelievable', 'directions', 'gone', 'anticipated.', 'chain,', 'stochastic', 'process.', 'process', 'processes.', 'process,', 'dealing,', 'originally', 'sometimes', 'theorem', 'sequences', 'variables.', 'variables,', 'sample', 'n', 'infinity,', 'considering', 'sequence', 'mostly', 'i.i.d.', 'versions', 'theorems,', 'i.i.d', 'strong', 'assumption.', 'Independent', 'identically', 'distributed.', 'chain', 'Which', 'variables', 'evolving', 'mean?', 'common', 'interpretation.', 'X0,', 'X1,', 'X2,', 'blah,', 'blah.', 'subscript', 'resetting', 'fresh', 'Stochastic', 'view', 'evolved', 'dependence.', 'allow', 'arbitrarily', 'complicated', 'complicated.', 'relate', 'compromise.', 'dependent.', 'properties.', 'Xn', 'state', 'system.', 'interpreted', 'generally.', 'system,', 'examples,', 'imagining', 'particle', 'wandering', 'randomly', 'state.', 'jumping', 'state,', 'n,', 'discrete', 'non-negative', 'integer.', 'consider', 'processes', 'continuous-time', 'continuous-space.', 'Continuous-time', 'discrete-time,', 'continuous-space', 'discreet-space,', 'possibilities.', 'index', 'X2.', 'continuous', 'Xt,', 'continuous.', \"we'd\", 'collection', 'indexed', 'indexing', 'discretely,', 'STAT', '110,', 'wanna', 'processes,', '171,', \"We're\", 'Continuous', 'Xs', 'allowed', 'purposes', 'j', 'discreet', 'finite', 'easier.', 'finitely', 'many', 'states', 'states.', 'bouncing', 'describe', 'property.', 'mark', 'off', 'property,', 'Markovian', 'bit', 'introduce', 'examples.', 'property', 'statement.', 'says', 'next,', 'interpretation', 'word', 'conception', 'present,', 'future.', 'past,', 'intuitively', 'present', 'predict', 'N', 'letting', 'discrete.', 'future', 'tomorrow.', 'Okay', 'J.', 'J', 'usually', 'numbered', '1', 'convention,', 'system', 'J,', 'everything?', 'today?', '=', 'yesterday?', 'Yesterday', 'xn', 'xn-', '1,', 'n-', 'in-', '2,', 'beginning.', 'conditional,', 'tomorrow,', 'complicated,', 'took', 'dots,', 'simplify', 'much.', 'recent', 'matters.', 'rid', 'becomes', 'X', 'n+1', 'rest.', 'semester', 'future,', 'holds', \"where's\", 'present?', 'handy', 'present.', 'says.', 'Given', 'value,', 'Xn,', 'obsolete,', 'outdated', 'of.', 'crossed', 'Only', 'Conditionally', '+', ',then', 'xn,', 'Whether', 'depends', 'problem,', 'okay?', 'purposes,', 'depend', 'n.', 'Ii,', 'want.', 'transition', 'homogeneous', 'chain.', 'homogeneous,', 'careful', 'context,', 'assumed', 'not?', 'Homogeneous', 'point?', 'j.', 'qij,', 'homogeneous.', 'qujs', 'N,', 'nicer', 'at,', 'mental', 'picture', 'mind,', 'simple', 'helps', 'pictures', 'own,', 'represent', 'ovals.', '4,', 'specify', 'step,', 'possible.', '1.', 'thirds', '2.', 'drawing', 'arrows', 'putting', 'reflect', 'transitions.', 'above', 'arrow.', 'goes', '3.', '3,', '4', 'quarter.', 'half,', 'stays', 'easier', '4.', 'infinitely', 'states,', 'always,', 'imagine', 'following', 'arrows,', 'picture.', 'picture,', 'say?', 'long', 'wanderings', 'throughout', 'matters', 'q', 'ij,', 'encode', 'written', 'form.', 'qijs,', 'write,', '1?', 'one-third,', 'loop', 'one-third.', 'Probability', 'two-thirds,', '0,', 'be,1/2', '1/2', 'ijs', '1/4', '1/4.', 'Notice', 'sums', 'sum', 'convention.', 'convention', 'entry', 'therefore', 'Columns', 'rows', 'valid', 'blank', 'easily', 'convert', 'errors', 'By', 'basic', 'need,', \"one's\", 'stationary', 'distribution,', 'talk', 'later.', 'history,', 'ways.', 'social', 'sciences,', 'physical', 'biology,', 'approximation', 'very,', 'useful.', 'limited', 'seems', 'thousands', 'debates', 'stock', 'price', 'weather', 'Markov,', 'empirical', 'questions,', 'though,', 'limiting', 'Order', 'Chain,', 'generalize', 'Xn-', 'works,', 'anyway.', 'extend', 'consider,', 'goes,', 'ten', 'steps', 'Anyway', 'independence?', 'Monte', 'Carlo', 'revolution', 'scientific', 'computing', 'everywhere.', 'challenge', 'finding', 'major', 'applied,', 'successfully', 'met', 'yet.', 'French', 'poetry,', 'applied', 'poetry.', 'poetry', 'model?', 'Chain', 'worry', 'actual', 'observing', 'follows', 'Chain.', 'synthetically', 'construct', 'argue', 'built', 'Why', 'chain?', 'idea,', 'beautiful,', 'ideas', '20th', 'century,', 'opinion.', 'converge', 'distribution', 'in.', 'Cuz', 'simulate', 'computations', 'analytically', 'explicitly.', 'clever', 'synthetically,', 'program', 'computer,', 'thing,', 'fast', 'computers', 'acronym,', 'MCMC.', 'MCMC', 'popular.', 'Widely', 'simulations,', 'impossible,', '50', '30', 'Carlo.', 'application', 'natural', 'important,', 'uses', 'himself', 'mind.', 'he', 'settle', 'religious', 'debate', 'existence', 'free', 'will.', 'Kind', 'early', '1900s,', 'recently', 'proven.', 'Like', 'proved', 'numbers.', 'story', 'athlete', 'upset', 'said', 'run,', \"he'd\", 'average,', \"couldn't\", 'hated', 'statistics.', 'ridiculous.', 'concern', 'philosophers', 'prevent', 'mean.', \"Where's\", 'will,', 'rivals', 'tried', 'rescue', 'assumes', 'IID.', 'human', 'behavior', 'IID,', 'okay,', 'convincing', 'holds.', 'hold', 'versions.', 'complexity', 'IID', 'conditioning', 'on.', 'backward,', 'forward', 'backward', 'conditioning.', \"You're\", 'version', 'applies', 'hold,', 'Russian', 'novel', 'empirically', 'consonants', 'vowels.', 'okay.', 'states:', 'vowel', 'consonant,', 'consonant.', 'consonant', 'vowel,', 'vowels', 'simpler.', 'drew', 'conceptually,', 'much,', '100', 'defined', 'higher', 'things,', 'steps,', 'steps?', 'Things', 'answered', 'terms', 's,', 'vector.', 'as,', 'words,', '1xM', 'PMF,', 'assuming.', 'ovals', 'PMF', 'discrete,', 'listed', 'probabilities,okay?', 'particular,', 's', 'row.', 'entries', 'stand', '(Xn', 'j).', 'convenient.', 'Condition', 'wish', 'knew,', 'convenient', 'useful,', 'condition,', 'P(Xn', 'i)', 'i),', 'qij.', 'j,', 'SI,', 'ith', 'SI.', 'left,', 'me.', 'sum,', 'jth', 'Q.', 'm', 'inner', 'outer', 'class', 'product', 'adding', 'Therefore,', 'Okay?', 'playing', 'role', 'SQ', 'sorry,', 'cubed', 'S,', 'calculation', 'powers,', 'power,', 'by,', 'tedious', 'hand', 'problems.', 'calculator', 'computer', 'evolve.', 'similarly,', 'Probabilities,', 'did.', 'ahead?', 'Well', 'figure', 'missing', '=,', 'k,', 'intermediary', 'Times', 'k', 'i).', 'loyalty', 'interpretable.', 'obsolete.', 'irrelevant', 'independence,', 'qkj.', 'again', 'side', 'qik,', 'swapped', 'nicer.', 'expressed', 'one-step', 'form,', 'multiplication', 'ij', 'entry,', 'true?', 'q.', '.product', 'q,', 'similarly', 'repeating', 'X,', \"it'll\", 'future?', 'm.', 'works', 'nicely', 'information.', 'separate', 'steps.', 'nice.', 'concepts.', 'notion', 'distribution.', 'mention', 'ideas.', 'Transition', 'definition.', 'steady', 'equilibrium,', 'supposed', 'capture', 'distribution?', 'mild', 'conditions,', 'describing', 'behaves.', 'Especially', 'stationary,', 'considering.', '*', 'intuition', \"who've\", 'before,', 'reminiscent', 'Usually', 'learn', 'intuition,', 'showed', 'few', 'minutes', 'ago,', 'F', 'later', 'according', 'forever.', 'change,', 'stationary.', 'cliffhanger', 'ask,', 'exist?', 'equation?', 'non', 'adds', 'such', 'exist', 'Does', 'Secondly,', 'unique?', 'Thirdly,', 'seem', 'limits,', 'sense?', 'practical', 'Assuming', 'exists', 'behavior,', 'distributions,', 'conditions', 'technical', 'exist.', 'unique.', 'behavior.', 'principle,', 'principle.', 'Solve', 'before.', 'enormous', 'principle', 'eliminate', 'hundreds', 'years,', 'efficiently', 'spending', 'calculations?', 'nasty', 'calculation.', 'difficult', 'computational', 'all.', 'at.', 'though', 'happy', 'everyone.', 'equations', 'bags', 'tricks.', 'when,', 'day,', 'mathematician', 'physicist,', 'unsolved', 'Some', 'tricks', 'solved', 'simpler', 'education', 'trick', 'solves', 'exam.', 'learn.', 'integrating', 'factors.', '3xy--', 'neatly', 'possible--', 'y', 'xy', 'prime', 'especially', 'videos,', 'xy,', 'partial', 'derivative', 'respect', 'y,', '3x', '2y.', 'expression', 'y.', '2x', 'other.', 'equal.', 'superficially,', 'factor,', 'mu.', 'mu,', 'mu', 'exact.', 'simplification,', 'harder', 'for.', '3xy', 'prime.', 'function?', 'is--', 'goal', 'y?', 'constant', 'term,', 'constant,', 'viewed', 'constant.', 'x?', 'rule.', 'longer', 'anymore,', 'prime,', 'Greek', 'letter.', 'muh', 'sound,', 'expression,', 'expression.', 'times--', 'ran', 'line--', 'exact,', 'side,', 'subtract', \"You'll\", 'hairy.', 'algebra.', 'equals--', 'left?', 'yellow.', 'lower.', 'equals,', 'term', 'xy.', '2y', 'this--', 'to--', 'bit--', 'by.', 'simplifies', 'dramatically.', 'brain', 'rewrite', 'd', 'dx.', 'd,', 'separable', 'sub-differential', 'broader', 'simplicity,', 'horizontal', 'Multiply', 'dx,', 'dx', 'integrate', 'log', 'absolute', 'et', 'cetera,', 'cetera.', 'clear', 'identical.', 'side.', 'obviously', 'telling', 'factor.', 'want,', 'antiderivative', 'logs,', 'just,', 'inspection,', 'running', 'video,', 'Make', 'video.', 'Okay.', 'coming.', 'diagonal.', 'whatsoever.', 'whatsoever', 'jumped', 'importance', 'properly,', 'think,', 'bringing', 'together', 'bring', 'studied,', 'positive,', 'stories', 'guys?', 'produce', 'My', 'ordinary', 'decomposition', 'from.', 'transformation.', 'was,', 'now?', 'vector,', 'v1,', 'taken', 'u1.', 'u1', 'Av1.', 'somewhere.', 'for?', 'knocked', 'See', 'special,', 'angle', 'goal,', 'together?', 'No', 'basis.', 'Graham', 'Schmidt', 'Start', 'grind', 'Schmidt,', 'include.', 'stick', 'sigma,', 'difficulty.', 'Our', 'difficulty', 'v-s,', 'v2,', 'Vr.', 'Sorry,', 'smaller', 'vr.', 'Av1', 'achieving.', 'Oh,', 'orthonormal?', 'vectors.', 'u1,', 'happening', 'These', 'anymore.', 'calling', 'sigma.', 'stretching', 'Av2', 'u2.', 'goal.', 'express', 'Think', 'multiplication.', 'go.', 'pull', 'u2', 'ur', 'part', 'blackboard.', 'figure.', 'u2,', 'Avr', 'r', 'ur.', 'heart', 'orthonormal,', 'orthonormal', 'converted', 'myself', 'bases.', 'mostly,', 'v1', 'R^2.', 'R^2,', 'scaling', 'straight.', 'want?', 'words', 'spaces?', 'v(r+1)', 'vm.', 'dimensional', 'n-r', 'zeroes.', 'w-', 'R^m.', 'R^n', 'Null', 'somehow', 'inverse.', 'once.', 'cook', 'disappear.', 'disappear', 'leave', 'Vs.', 'combination', 'keeps', 'properties,', 'have?', 'got?', 'Looks', 'worse,', 'together,', 'collapse', 'into?', 'identity.', 'point.', 'matrixes,', 'squareds', 'easy', 'copy', 'Vs,', 'Vs?', 'sigmas?', 'are?', 'eigenvector,', 'itself', 'nothing', 'special.', \"It'll\", \"this'll\", \"eigenvalues'll\", \"thing's\", 'method.', 'Us?', 'order.', 'knock', 'Us.', 'then.', 'step?', 'Compute', 'sixteen', 'twenty', 'nine', 'seven?', 'guy?', 'recognize', 'eigenvector?', 'get?', '32', '32,', 'multiplication,', 'multiple?', '18.', 'moment,', 'normalize', 'absolutely', 'normalization', 'pieces', 'yet', 'sigma?', 'things.', 'leaves', 'pieces,', 'Find', 'order,', 'semi-definite', 'little?', 'Four', 'Sixteen', 'sixteen,', 'Uh,', 'lucky', 'accident', 'Multiplying', '18', 'surprised?', 'accident.', 'surprise', 'switch', 'learned', 'numerically', 'claim', 'fit', 'multiplications', 'divided', '16,', 'correct?', '9,', 'Professor', 'Strang,', 'problem?', 'three?', 'Phooey.', \"shouldn't\", 'happened,', 'Hmm.', 'realize', 'catch', 'somewhere', 'until', 'Wednesday.', 'Wednesday,', 'sine', 'difference.', 'illegally?', 'think.', 'sines?', 'beauty', 'sliding', 'boards', 'I,--', 'eight', 'dimensional.', 'line,', 'perpendicular', 'line.', 'Typical', 'eight,', 'direction.', 'dimensional,', 'eight.', 'bases', 'fifths,', 'fifths.', 'u1?', 'turn', 'five,', 'expecting', 'from?', '16', '64', '80,', '12', '48', '60,', '9', '36', '45.', 'Every', 'eigen', 'practicing,', 'v2?', 'basis?', 'Point', 'including', 'pray', '25,', 'Tthe', 'subspaces', 'down.', 'vr', 'v(r+1),', 'vn', 'u(r+1)', 'needed', '\"and\"', 'bases,', 'coupling', 'direction', 'corresponding', 'subspaces.', 'n-r,', 'm-r', 'develop', 'lectures', 'Thanks.', 'content', 'provided', 'Creative', 'Commons', 'license.', 'Your', 'support', 'MIT', 'OpenCourseWare', 'continue', 'offer', 'high', 'quality', 'educational', 'resources', 'free.', 'donation', 'additional', 'materials', 'courses,', 'visit', 'ocw.mit.edu.', 'PROFESSOR:', 'today.', 'material,', 'necessarily', 'deals', 'mathematics.', 'slightly', 'level', 'as.', 'lots', 'peculiar', 'happen,', 'basics', 'expectations', 'bit.', 'Distribution', 'often', 'general.', 'expectation', 'you.', 'bunch', 'formulas', 'familiar', 'expectation.', \"you've\", 'statistic', 'density.', 'negative,', 'Ah', 'seen.', 'hope', 'end', 'formula,', 'expected', 'integral', 'complimentary', 'shows', 'corresponds', 'Namely', 'axis', 'convince', 'top', 'a1', 'a1.', 'a2', 'forth', 'non-negative.', 'density,', 'Riemann', 'integral.', 'integrals.', 'break', 'slices.', 'slices,', 'presto,', 'sum.', 'powerful', 'measure', 'theory--', 'presumably', 'it--', 'integration,', 'theoretic', 'terms,', 'slices', 'wind', 'worried', 'nicer?', 'monotonic', 'decreasing', 'largest', 'chopping', 'increasing.', 'increasing,', 'infinity', 'limit.', 'Nothing', \"aren't\", 'ways,', 'ask.', 'serious.', 'exactly,', 'talks', 'together.', 'notation', 'unfortunate', 'exists,', 'engineer', 'undefined,', 'infinite', 'silly', 'infinite.', 'mathematicians', 'writes', 'books,', 'papers,', 'everybody--', 'think--', 'defines', 'existing', 'finite.', 'values.', 'infinity.', 'undefined', 'completely.', 'lives', 'infinite,', 'indicator', 'event', 'occurs', 'points', 'occur', 'a--', 'space--', 'omega', 'a,', 'jumps', 'a.', 'simple.', 'Events', 'map', '[INAUDIBLE].', 'particularly', 'field.', 'events.', 'hard.', 'expectation,', 'standard', 'deviation,', 'trivial', 'specified', 'density', 'mass', 'variable?', 'Kolmogorov', '1933.', 'reasons', 'straighten', 'ambiguity', 'runs', 'confusing', 'Random', 'relationships', 'person.', 'person', 'understanding', 'relationships.', 'Many', 'ultimately', 'joint', 'x1', 'carries', 'problems,', 'subscripts', 'small', 'letters', 'mixing', 'itself,', 'does.', 'perfectly', 'suggest', 'confused', 'wags', 'neither', 'random,', 'nor', 'immaterial', 'situation.', 'statistically', 'relationship', 'models', 'somewhat', 'situations.', 'individual', 'funny', 'refer', 'x1,', 'x2.', 'generic', 'throughout.', 'OK', 'obvious.', 'theory.', 'thought', 'serious', 'extended', 'Cartesian', 'n--', 'numbers--', 'distributed', 'prove.', 'products', 'unions', 'intersections.', 'theory', 'experiment,', 'dice', 'cards', 'someone,', 'are--', 'odds', 'sort,', 'game', 'play', 'repeatedly.', 'game.', 'outcome', 'believed', 'deep', 'hearts', 'lives.', 'fortunately,', 'Otherwise,', 'page', 'philosophy,', 'soon.', 'across', 'otherwise,', 'engineers', 'business', 'financial', 'analysts', 'heck', 'believing', 'models.', 'cause', 'untold', 'damage', 'losing', 'track', 'supposedly', 'something.', 'namely', 'averages.', 'soon,', 'sub', 'deterministic', 'large.', 'that--', 'becoming', 'means.', 'essential', 'experiments', 'world,', 'arithmetic', 'world.', 'Whenever', 'open', 'newspaper,', 'says,', 'gee,', 'significant.', 'someplace.', 'Models', 'types', 'difficulties.', 'paragraph', 'realized', 'difficulties', 'models,', 'sufficiently', 'isolated', 'correspond', 'trial', 'potentially', 'Sometimes', 'rig', 'heavily', 'biased.', 'risk', 'sorts', 'suddenly', 'sells', 'simultaneously.', 'closely', 'extension', 'coin.', '1/2.', 'loaded', '0.45.', 'tails', '0.55.', 'bets', 'tries', 'bet', 'kinds', 'Namely,', 'amount', 'sort.', 'science,', 'symmetry,', 'analogies,', 'illustrating.', 'dice.', 'red.', 'white.', 'roll', '6,', 'something,', 'pair', 'outcomes--', 'red', 'White', '136', 'size', 'white', 'concerned,', 'distinguish', 'possibilities', 'distinguished.', 'the--', 'here?--', 'finest', 'grain', 'observe.', \"You'd\", 'crazy', 'rolling', '136.', 'replace', '1/18', 'die', 'die.', 'clear.', 'dice,', 'hell', 'considerably', 'axioms', 'experimentation', 'motivate', 'judgment.', 'learning', 'mathematics,', 'eventually', 'also.', 'philosophy.', 'slide.', 'tired', 'Comparing', 'situations', 'analyzing', 'effective', 'clarifying', 'fuzziness.', 'ultimately,', 'needed.', 'branch', 'science.', 'sometimes.', 'experiments.', 'experiment', 'experiment.', 'outcome.', 'point,', 'situation,', 'reasonably', 'lie', 'relax', 'bored', '3/4.', 'calculated', 'x2', 'x3', 'x4,', \"0's,\", 'guess.', \"0's\", 'forth.', '20', \"1's\", 'get.', 's50.', 'gross', 'concerned', 'single', 'variance', 'cross', 'balance', 'increases', 'wide', 'essence', 'weak', 'mathematical', 'detail.', 'variables--', 'average.', 'squaring', 'doing,', 'large?', 'whose', 'deviation', '0?', 'feature', 'scrunched', 'mean--', 'deviations.', 'scrunch', 'deterministic.', 'black', 'On', 'approaching', 'proof', 'ho-hum.', 'normalized', 'sn', 'bar.', 'subtracting', 'essentially.', 'sticking', 'variance.', 'extraordinary', 'bit,', 'curve', 'curve,', 'gradually', 'fairly', 'smooth.', 'respectable', 'Gaussian', \"aren't.\", 'normal', 'strange', 'binomial', 'place', 'works.', 'obvious', 'hoping', 'knowing', 'Bernoulli', 'p.', 'like?', \"You've\", 'tuple', \"k1's\", 'ends', \"k0's,\", 'p', 'k.', 'independent,', 'Probably', 'outputs', 'term.', 'maximized', 'quantity--', '1/2,', 'probable', 'biased', \"0's.\", \"1's.\", 'output', 'Very', 'improbable,', 'improbable', 'tuples,', \"k0's.\", 'text.', 'combinatorial', 'facts.', 'Look', 'Wikipedia.', 'cleaner', 'explanation', 'anywhere', 'elementary', 'book', 'combinatorics', 'binary,', '1,000', '1,000,', 'eyes', 'boggle', 'like.', 'tricky', 'varies', 'relatively', 'ratio', \"k1's.\", '1--', 'here--', 'factorial', 'factorial.', 'bottom,', \"p's\", \"q's.\", 'cancels', 'cute.', 'denominator.', 'strictly', 'bigger', 'bigger,', 'happens?', 'numerator', 'denominator--', 'excuse', 'larger,', 'denominator', 'larger', 'decreasing.', 'crosses', 'pn,', 'choices', 'pn.', 'than--', 'p,', 'quantities', 'Since', 'ratios', 'large,', 'approximately', 'plot', 'closer', 'increasing', 'further,', 'pn', 'bell-shaped', 'curve.', 'tapers', 'bigger.', 'smaller,', 'bat', 'hell,', 'taper', 'roughly', 'behave.', 'really.', 'ratio,', 'slide', 'terms.', 'integer', 'integers.', 'hairy', 'Pn', 'fine', 'pi,', 'chose', 'decreases', 'substitute', 'of--', 'fortunately', 'textures,', \"p's.\", 'separation', 'Fair', 'replacing', 'significant', 'away', 'fast.', 'qn.', 'nq', 'nq,', 'nq.', 'denominator,', 'np.', 'logarithm', 'justify', 'prove--', 'quizzes.', 'end.', 'hope,', 'obviously.', 'leads', 'yeah.', '[LAUGHTER]', 'calculate--', 'PMF.', 'nX', 'bar', 'proportional', 'nX.', 'nX,', 'differentials', 'quadratic?', 'quadratic,', 'linear.', '5,', 'sure.', 'plus,', 'approximate', 'integrating.', 'curious.', 'Good,', 'school.', 'logarithm.', 'inequalities', 'ever', 'expansion,', 'minus--', 'alternating', 'series.', 'slope', 'levels', 'off.', 'slowly,', 'curvature', 'approximation,', 'small,', 'l', 'faster', 'skipped', 'shown', 'increment', 'increase', 'quadratic', 'missed', 'handle', \"should've\", 'fixed.', 'Be', 'unknown', 'undetermined', 'summed', \"j1's\", \"pn1's.\", 'Everybody', '2n.', 'was--', 'typo.', 'np', 'np,', 'combine', 'ip', 'npq', 'iq', 'npq.', \"Don't\", 'neglect', 'negligible', 'compared', 'eager', 'exponentiate', 'before--', 'down--', 'npq,', 'do,', 'coefficient', 'Gaussian-type', 'summing', 'dropping', 'slowly.', 'wide.', 'offset', 'differences', 'center', 'Stirling', 'approximation.', 'magic.', 'William', \"Feller's\", 'carefully', 'derivation,', 'evaluating', \"Stirling's\", 'deriving', 'seems.', 'Yes?', 'AUDIENCE:', 'please', '[INAUDIBLE],', 'np?', 'ordered', 'fewer', 'asymmetric.', 'asymmetric', 'terms--', 'extra', 'approximations', 'figured', 'insight', 'Anything', 'else?', 'Wednesday', 'rules', 'surprisingly', 'few.', 'imply', 'explore.', 'implied', 'place.', 'axiom', 'counterpart', 'elements,', 'impossible.', 'set.', 'vendor', 'exhaust', 'instance,', '0.6,', '0.4.', 'Finally,', 'additivity', 'axiom,', 'disjoint', 'union', 'intersection', 'generalizes', 'events,', 'derive', 'formally', 'calculating', 'elements.', 'presented', 'intuitive.', 'convinced', 'validity.', 'Nevertheless,', 'instructive', 'follow', 'arguments', 'based', 'available.', 'axioms,', 'names,', 'subset', 'Call', 'complement', 'subset.', 'elements', 'belong', 'everything,', 'hand,', 'element', 'belongs', 'complement.', 'axiom.', 'discussed,', 'event.', 'relation.', 'disjoint,', 'apply', 'relations', 'claimed', 'established.', 'Based', 'relation,', 'because,', 'non-negativity', 'non-negative,', 'established', 'note', 'interest', 'contain', 'relation', 'implication', 'establishes', 'earlier.', 'generalization', 'subsets.', 'subsets', 'common.', 'progress?', 'hands,', 'sets.', 'trick.', 'consisting', 'blue', 'green', 'Formally,', 'expressing', 'sets', 'implies', 'carry', 'induction.', 'A1', 'Ak', 'S1,', 'S2,', 'Sk,', 'set?', 'each.', 'theoretically', 'contains', 'element.', 'assuming,', 'sets,', 'disjoint.', 'abusing,', 'rather,', 'simplifying', 'Probabilities', 'assigned', 'intuitively,', 'notation.', 'notation,', 'Although', 'formal', 'comprised', 'S1', 'high-quality', 'Morning', 'spring', 'break.', 'during', '6.046.', 'Today', 'network', 'flow', 'flow.', 'Edmonds-Karp', 'algorithm,', 'applications.', 'bipartite', 'matching', 'cover.', 'Ford-Fulkerson.', 'remind', 'Ford-Fulkerson', 'does?', 'Go', 'augmenting', 'path,', 'Yep.', 'name,', 'way?', 'Michelle.', 'Michelle', 'brief', 'description.', 'detailed.', 'graph', 'G,', 'flow,', 'transform', 'G', 'residual', 'graph.', 'Everyone', 'remembers', 'F-F', 'algorithm', 'path', 'sink', 'graph,', 'augment', 'path.', 'Augmenting', 'much?', 'minimum', 'edge', 'Yeah,', 'capacity', 'weakest', 'augmenting,', 'changed', 'f', 'Gf', 'sense,', 'detailed', 'pathologically', 'bad', 'billion,', 'correct', 'path--', 'oh', 'one--', 'done.', 'edge.', 'improvement', 'algorithm.', 'fourth', 'finds', 'Did', 'Srini', 'cover', 'lecture?', 'finds?', 'nodding.', 'Gf,', 'shortest', 'everyone', 'From--', 'part?', 'No?', 'Here,', 'hops.', 'better,', 'weird', 'distance', 'VE', 'maximum', 'flow?', \"don't.\", 'Yeah.', 'show--', 'bound', 'high-level', 'sink?', 'OV', 'E.', 'E,', 'O', 'correct.', 'claim,', 'prime--', 'Also', 'updating', 'iterations--', 'iteration', 'long?', 'expensive', 'iteration.', 'bound?', 'Number', 'iterations.', 'iterations', 'bound,', 'lemma,', 'monotonic.', 'delta', 'v.', 'source,', 'v,', 'f.', 'clear?', 'lemma', 'vertex', 'decrease.', 'monotonically', 'increase.', 'contradiction.', 'Assume', 'case.', 'v', 'contradiction', 'vertices', 'drop.', 'any,', 'smallest', 'v3--', 'among', 'source.', 'predecessor,', 'u?', 'quantities?', 'decrease?', 'decrease', 'least?', 'be--', 'other,', 'two?', 'everyone?', 'u.', \"v's\", 'predecessor', 'definitely', 'stone', 'v?', 'claiming', 'recall', 'repeat', 'Good', 'v--', 'several,', 'Among', 'job', 'f,', 'delta.', 'satisfies', \"u's--\", 'resolve', 'smallest--', 'yeah,', 'guys.', 'Sorry', 'delta,', 'Question?', 'lost', 'versus', 'Delta', 'Still', 'people--', \"Schrodinger's\", 'cat.', 'graph?', 'u,', 'exist,', 'exists?', 'Greater', 'Well--', 'through--', \"didn't.\", 'Correct.', 'shorter', 'contradiction,', 'Case', 'Gf.', 'backwards-facing', 'Great', 'appeared', 't.', 'remove', 'caused', 'graph--', 'augmenting.', 'Edmonds-Karp,', 'quantity,', 'assumed.', 'proves', \"node's\", 'increases.', 'critical', 'edge--', 'times.', 'edge,', 'edges', 'combined', 'augmented', 'backwards.', 'again?', 'Correct?', 'drop,', 'augmented,', 'bounded', 'involved,', 'Strictly.', 'combined,', 'E', 'augmentations.', 'About', 'proof?', 'required', 'recitation,', 'Dinic,', 'paths', 'paths,', 'broken.', 'thesis', 'destroyed', 'most,', 'author', 'his', 'Dinitz.', 'understand.', 'nobody', 'Even.', 'advertising', 'giving', \"Dinitz's\", 'popularized', 'unfortunately', 'henceforth', \"Dinic's\", 'application.', 'Bipartite', 'matching.', 'tasks.', 'person,', 'capable', 'performing', 'task.', 'matching,', 'assignment', 'tasks,', 'tasks', 'task,', 'task', 'needs', 'assign', 'smarter,', 'because--', 'partition', 'connecting', 'vertices.', 'vertex.', 'max', 'ideas?', 'hint.', 'edges.', 'restrict', 'guarantee', 'people?', 'weight', 'name?', 'Calvin.', 'Calvin?', 'incoming', 'outgoing', 'people.', 'find--', 'cut', '[INAUDIBLE]?', 'handle?', 'recitation', 'least--', 'color', 'dark', 'colored,', 'nodes,', 'trivially', 'holds,', 'min', 'flow--', 'matching--', 'disjointed', 'edges,', 'guys--', 'foolproof,', 'try.', 'is?', 'Cover--', 'Cover', 'covered.', 'cover?', 'colored', 'After', 'Meaning', 'unmatched', 'matched', 'jump,', 'swap', 'dark.', 'strange.', 'Ah,', 'stop,', 'say--', 'separately.', 'covered,', 'switching', 'unmatched,', 'endpoints', 'does,', 'node?', \"doesn't,\", 'violate', 'constraint.', 'dark,', 'not.', 'dark?', 'Something', 'unmatch', 'removed', 'added', 'part--', 'equivalence', 'required.', 'proof,', 'spelled', 'Dinic.', 'brought', 'similar.', 'meant', 'burning', 'covered?', 'select', 'relates', 'Pset.', 'transfer', 'table', 'assume,', 'item', 'm,', 'table,', 'item.', 'nil,', 'resize', 'rehashing', 'Python,', 'anywhere.', 'object,', 'object.', 'lies', 'moving', 'table.', 'Moving', 'accessing', 'list?', 'Python', 'cost', 'access?', 'index.', 'move.', 'indices', 'index?', 'moves.', 'Total', 'table?', 'stuff?', 'time?', '2m,', \"table's\", 'confirm', 'Cool.', 'questions?', 'easiest', 'hardest', 'Warm', 'hint', 'theta', 'hint,', 'involve', 'math.', 'ugly.', 'recursions?', 'Two', 'methods.', 'Expand.', 'Substitution', 'formally,', 'basically,', 'expand', 'And?', 'Trees.', 'first?', 'expanding', 'over?', 'creates', 'sub-problem.', 'size?', 'Square', 'already.', 'cost?', 'involving', 'level,', 'transformation', 'next?', 'Cost?', 'pattern?', 'Silence', 'more.', 'speak,', 'slow.', '1/8.', 'pattern,', 'levels,', 'bottom.', 'bottom?', 'Sorry.', 'cost.', 'h,', 'h', 'height', 'n?', 'why?', 'element,', 'nth', 'advantage', 'manage', 'base', 'reasonable', 'Whatever', 'evaluate', 'nod', 'forward,', 'smile', 'bubbles', '[INAUDIBLE]', 'skipping', 'substitution', 'costs', 'first,', 'level.', 'per', 'level?', 'Come', 'scaring', 'Excellent.', 'Right,', 'embarrass', 'h?', 'Log', 'h.', 'Math', 'drowning,', 'right--', 'This?', 'case?', 'Ready', 'fun', 'school,', '6.006', 'eyes.', 'gold', 'face.', 'fake', 'super', 'light', 'gold.', 'scale,', 'scale', 'accurate.', 'weigh', 'heavier.', 'Perfect', 'accuracy,', 'errors.', 'strategy,', 'later,', '6.006,', 'quite.', 'search,', 'heavier,', 'trit.', 'trit', 'digit.', 'bits', 'trit?', 'half.', 'Roughly.', 'CS.', 'discarding', 'fractional', 'allowing', 'Anyone', 'N.', 'worse.', 'search?', 'can.', 'answer,', 'weighings', 'aside', 'guessing.', 'third.', 'dividing', 'strategy.', 'strategy?', 'divisible', '3?', 'you--', 'lower', 'bound.', '\"lower', 'bound\"', 'ring', 'bells?', 'bounds?', 'sorting', 'CMP,', 'word.', 'words.', 'Decision', 'decision', 'than,', 'key.', 'scale.', 'First,', 'answers--', 'Three', 'answers.', 'Say', 'One,', 'stop.', 'bottom', 'levels?', 'experiments,', 'answers?', 'second,', '27', 'weighings,', 'decide', '30.', 'answers,', 'comparisons', 'instead.', 'leaves?', 'Almost.', 'times,', '27.', 'incorrect.', 'smart', 'math', 'strategy', 'comparison.', 'optimal.', 'trees?', 'bounds', 'boring', 'New', '2D', 'map.', 'hill,', 'satellite', 'night,', 'bright', 'pixels', 'pixels.', 'intuition.', 'W', 'H--', 'H', 'pattern', 'w', 'input', 'bunker', 'hill', 'bunker.', 'hill.', 'bunkers', 'bomb', 'night', 'attack', 'awful.', 'Thank', 'compliment', 'then--', 'match?', 'saying.', 'match.', 'match,', 'suggesting,', 'idea.', 'suggesting', 'smarter', 'brute', 'force', 'bunker,', 'rows,', 'hit', 'checking', 'them?', 'worst', 'Are', 'matches', 'matches.', 'what,', 'me?', 'dumb', 'Humor', 'efficient', 'Big', \"Where'd\", 'WH?', 'positions', 'images?', 'wh,', 'size,', 'scary', 'input.', 'naive', 'discard', 'factors,', 'WHwh.', 'better?', 'minute,', 'Someone', 'H,', 'optimal', 'inspire', 'faster.', 'corner', 'corner,', 'positives,', \"2's\", 'sprinkled', 'image', 'positives.', 'rate', 'down?', 'hash', 'exactly.', 'hashes.', 'lowercase', 'Sorry?', \"Wouldn't\", 'w?', 'w,', 'hash?', 'hash,', 'hash.', 'subtract,', 'roughly,', 'WHh,', 'forward.', 'compress', 'column.', 'Take', 'rows?', 'rows.', 'hashes', 'items.', 'less,', 'less.', 'regular', 'Rabin-Karp', 'recompute', 'downward', 'column?', 'Rolling', 'faster,', 'inside.', 'force.', 'uglier', 'vertical', 'window', 'nested', 'bad,', 'hashes,', '1D', 'Rabin-Karp,', 'WH.', 'W,', '4W.', '2D.', 'rethink', 'Enough', 'lists,', 'sorted.', '13,', '22,', '43,', '56,', '62,', '81,', '86,', '87,', '7,', '19,', '24,', '28,', '32.', 'generous', 'lists', 'if,', 'merge', 'index,', 'Full', 'N?', 'sorted,', 'merge.', 'Merge', 'approach,', 'array', 'do--', 'Logarighmic', 'logarithms.', 'logarithms?', 'modified', 'search.', 'at--', 'say.', 'lower,', 'higher--', 'N1', 'N2,', 'initially.', 'N2', 'total,', 'top,', 'quarters', 'quarter', 'divide.', 'chop', 'chopped', 'between.', 'then?', \"Aren't\", 'same?', 'between,', 'upper', 'N1.', 'Really?', \"n's\", 'confusing.', 'rename', 'number?', 'kth', '2?', 'picked', 'sorted', 'N1,', 'N2.', 'nastier.', 'kill', 'recurse,', 'killed.', 'save', 'branches.', '43', '3k', 'killed', '43.', 'kill,', 'look?', 'different?', 'recurse', 'once,', 'million.', 'million', 'lengths', 'long,', 'run.', 'reduced,', 'reduced.', 'buckets.', 'sounds', 'tighter', 'argue.', 'requires', 'use--', 'indices,', 'adjust', 'constraint', 'post.', 'tired?', 'done?', 'easy.', 'own.', 'bore', 'functions,', 'asymptotic', 'growth', 'rate.', 'Pset', 'minutes.', 'fourth.', 'polynomial', 'logarithm,', 'dominated', 'with--', 'all?', 'smallest?', 'biggest?', 'Then?', 'Cubed', 'logs.', 'exponentials,', 'logs', 'Logs', 'monotonic,', 'afterwards.', 'bigger?', 'Sterling.', 'Sterling,', 'yep.', 'logarithms,', 'logarithms', 'Sterling?', \"Sterling's\", 'Sterling', 'binomial?', 'Anyone?', 'raised', 'chug', 'segment,', 'multinomial', 'balls', 'colors.', 'ball', 'Pi', 'color.', 'independently.', 'Somebody', 'fixes', 'n1,', 'n2,', 'nr', 'asks', 'n1', 'color,', 'n2', 'on?', 'choice', 'range', 'rolls,', 'familiar.', 'colors,', 'tails.', 'analogy.', 'occurring,', 'heads,', 'tails,', 'trials--', 'translate', 'substitutions.', 'n2.', 'p1', 'p2', 'p2.', 'analogy,', 'concrete.', 'colors', '7', 'balls.', 'type.', 'summarizing', '1s,', '2s,', 'obtained', 'outcome?', 'trial,', 'trial.', 'p3.', 'coincidence', 'exponents', 'Generalizing', 'type,', 'appears', 'sequence.', 'probability?', 'type--', 'sequence--', 'type?', 'trials.', 'obtained,', 'trials,', 'fifth', 'sixth', 'alternative', 'trials', 'cardinalities', 'conclusion', 'equivalent,', 'alternatively', 'specified,', 'tosses,', 'had,', 'sizes.', 'allows', 'partitions,', 'partitions', 'corresponded', 'tossing', 'setting.', 'results.', 'results', 'kind,', 'MEHRAN', 'KARDAR:', 'ideal', 'gas.', 'gas', 'contained', 'box', 'volume', 'particles.', 'energy', 'has.', 'macroscopic', 'characteristics', 'microcanonical', 'ensemble', 'exchange', 'heat', 'conserved.', 'characterize', 'microstate.', 'particles', 'microscopic', 'microstate', 'momenta.', 'Hamiltonian', 'governs', 'evolves', 'gas,', 'interact.', 'composed', 'kinetic', 'energy.', 'confining', 'box.', 'contained.', 'potential,', 'energy,', 'volume,', 'microstate?', '2m', 'exclude', 'faces,', 'phases', 'microstates', 'conflict', 'omega.', 'entirety', 'face', 'omega,', 'parameters', 'microstate,', '1s', '0s', '0s,', 'integrate.', 'integration', \"q's\", 'places', 'integrations', 'momenta', 'satisfied', '2mE,', 'R', 'essentially,', 'momentum', 'components', 'R.', 'surface', 'hypershpere', '3N', 'radius', 'R,', '2mE.', 'sphere.', 'singularity', 'sharp', 'interval,', 'boundary,', 'smoothed', 'interval', 'thickness', 'Turns', 'shortly.', \"P's--\", 'P.', 'P1.', 'P2.', 'components.', 'hypersphere.', 'area,', 'solid', 'dimensions.', 'surface.', 'include', 'clarify,', 'asserting', 'potential', 'walls.', 'elaborate', 'box,', 'dimension,', 'angle,', '2pi', 'dimensions,', 'circumference', 'circle', 'r.', '2--', \"there'd\", 'pi--', 'factorial,', '3/2', 'Again,', 'gamma', 'grows', 'exponentially', 'd.', 'area', 'get--', 'ignore', '1s.', 'log.', 'pi.', 'e.', 'Kd--', 'entropy,', 'regard', 'entropy', '3N.', '3N,', 'sorry.', 'radially', 'worse', 'R?', 'volume.', 'energy--', 'extensive', 'quantity.', 'reminds', '35', 'ago', 'Felix', 'Villiers,', 'lunch.', 'orange.', 'excited.', 'opened', 'orange,', 'skin.', 'Villiers', 'orange', 'extracting', 'Essentially', 'thermodynamic', 'construct--', 'thermodynamics--', 'dE', 'TdS', 'PdV', 'YdN', 'rearrange', 'dS', 'dV', 'Y', 'dN.', 'established,', 'quantities.', 'kB.', 'dependents', 'Except', 'front.', 'immediately', 'pressure,', 'dependence', 'PV', 'kB', 'law.', 'chemical', 'potential.', 'apparent.', 'postulated', 'extracted', 'huge', 'following.', 'coordinates', 'specific', 'particle--', 'degrees', 'freedom', 'encoded', 'located.', 'located', 'Fine,', \"q1's,\", 'qi', 'there--', 'hypershpere.', 'integrations.', 'Q1', 'Omega', 'P1', 'rise', 'exception.', 'integrated', 'coordinate', 'pertains', 'remaining', 'Hence,', 'carry.', 'knowledge', 'P1,', 'remainder', 'shared', 'omegas', 'cancels.', \"V's\", 'parts.', 'radii.', '2mE', '3N--', 'far.', '2m.', 'appears.', 'Really,', 'particle.', 'exponentiation', 'play.', 'mistake', '2s', '3/2.', 'front', 'mE', 'factorials.', 'numerator.', 'Roughly', 'shift', '1/2--', 'arrangements,', 'exponential.', 'remain,', 'replaced', '2E', 'throwing', 'stating', 'combination,', 'kT.', 'Maxwell', 'consistent', 'laws', 'mix', 'orders', 'properly', 'normalized.', 'indeed,', 'require', 'configurations.', 'retains', 'parts', 'relevant,', 'extract', 'successes.', 'Question', 'T?', 'glaring', 'explicit,', 'entropies.', 'gases.', 'simplicity', 'temperature.', 'partition.', 'mixed.', 'Particles', 'toxic', 'lid.', 'mixed', 'room.', 'irreversible', 'associated', 'entropy.', 'units', 'V1.', 'contribution,', 'contribution', 'This--', 'huh--', 'masses.', 'Essentially,', 'occupying', 'V1', 'V2,', 'expressions', 'temperature,', 'effectively', 'stated', 'E1', 'E2', 'manipulation', 'fractions', 'make.', 'arguments,', 'temperature', 'gases,', 'Sf', 'Si,', 'currently', 'whereas', 'previously', 'particles,', 'boxes,', 'goes.', 'V2.', 'contribution.', 'expect.', 'however.', 'gases', 'identical--', 'methane', 'occured.', 'box--', 'air', 'room,', 'lid', 'lid,', 'Whereas', 'volumes,', 'resolution', 'boxes--', 'methane.', 'room', 'air.', 'oxygen', 'freely', 'floating', 'configuration', 'apart.', 'entity,', 'entity', 'oxygen,', 'apart', 'configurations?', 'meaning', 'yes.', 'quantum', 'mechanically', 'classically.', 'Classically', 'apart,', 'distinction', 'oxygen.', 'circumstance', 'circumstance.', 'senses', 'treated', 'differently.', 'phase', 'evening', 'procedure', 'counted', 'distinct', 'identical', 'permutations', 'objects,', 'counting', 'configurations', 'I.e.,', 'which.', 'which,', 'classically,', 'trajectories', 'collisions', 'ended', 'classical', 'trajectories.', 'classically', 'mechanically,', 'statistical', 'mechanics--', 'wave', 'calculations', 'emerge', 'naturally.', 'perspectives.', 'perspective', 'origin', 'fudge', 'measurements.', 'computer.', 'tell.', 'stage.', 'factor?', 'absorb', 'fashion.', 'modification', 'Si', 'kV?', 'oxygens.', 'methanes', 'V2', 'precisely', 'manner', 'division,', 'oxygens', 'themselves', 'themselves,', 'nitrogen.', 'certainly,', 'expect', 'low', 'pressure', 'dilute,', 'dense.', 'boxes', 'hence,', 'correction', '[?', '?]', 'temporary,', 'nitrogen', 'molecule,', 'aspertometer.', 'isotopes.', 'closed', 'isotopes', 'atomic', 'mass.', 'explanations', 'heard.', 'counter', 'meaning.', 'nature', 'trajectories,', 'molecules,', 'trajectory', 'unless', 'paradox.', 'perspective,', 'counting.', 'reason,', 'intensive.', 'grow', 'proportionately', 'logarithmically.', 'big,', 'dN', 'front,', 'kT', 'power.', \"E's\", 'dropped', \"N's\", 'derivatives', 'respects', 'jarring', \"they've\", 'entropies', 'continual', 'measurement.', 'measurement', 'meters', 'centimeters', 'changes', 'densities,', 'modify', 'reflected', 'combinations', 'dimensionless.', 'volumes', 'pq', 'survives', 'action.', 'measurements', 'unit,', 'action', '.', 'opposed', 'mechanics,', 'mechanics', 'provide', 'age', \"Planck's\", 'calculate,', 'mechanic', 'involves', 'discretized.', 'have--', 'energies', 'discretized', 'discretization', 'Ultimately,', 'additionally', 'appearing', 'None', 'mentioned', 'affected', 'Previously', 'product,', 'Pi,', 'Qi.', 'requiring', 'pairs', 'justification', 'prescription', 'isolation,', 'fully', 'ensemble,', 'canonical', 'identified', 'displacements,', 'parameters,', 'microscopically,', 'fix', 'ensemble.', 'however,', 'specified.', 'maintain', 'objects', 'contact', 'reservoir.', 'managing', 'characteristic', 'Imagine', 'lake.', 'equilibrate', 'reservoir,', 'purpose', 'computation,', 'universe,', 'reservoir', 'microcanonical.', 'total.', 'freedom.', 'captured', 's.', 'water', 'lake', 'An', 'describes', 'Yes,', 'X.', 'know?', 'revolution,', 'evolution', 'microstates.', 'microcanonical,', '0s.', 'system--', 'configurations,', 'allowed.', 'whatever--', 'taken.', 'reservoir--', 'evaluated', 'became', 'kB,', 'construction', 'overwhelmingly', 'occupy.', 'Taylor', 'expansion', 'negligible.', 'degrees.', 'considering,', 'characterizes', 'exponentiate,', 'cause.', 'partitioned', 'Boltzmann', 'weights', 'energies.', 'Z,', 'microstates,', 'beta', 'simplicity.', 'thermodynamically,', 'equilibrium', 'derived', 'happened?', 'constantly', 'exchanged', 'epsilon--', 'indicate', 'epsilon', 'scan', 'beta.', 'epsilon.', 'Kb.', 'Kb', 'portions', 'portion.', 'peak', 'extremum', 'places.', 'quantify', 'sum--', 'normalization,', 'Z', 'beta,', 'Z.', 'none', 'derivative,', 'H.', 'moment', 'obtainable', 'procedure.', 'recognize,', 'generates', 'moments', 'subsequent', 'derivatives.', 'generate', 'moments,', 'cumulants.', 'cumulant', 'derivatives,', 'extensive.', 'normalization--', 'forgot', 'z', 'exponent,', 'difference,', 'cumulants', 'extent', 'fluctuations', 'bridge,', 'extensive,', 'uncertainty', 'relative', 'vanish', 'approached.', 'although', 'probabilistic,', 'identify', 'uniquely', 'precise,', 'Hamiltonian,', 'descriptions.', 'ensembles.', 'segment', 'non-interacting', 'systems.', 'Additional', 'license', 'available', 'we--', 'inviscid', \"Burgers'\", 'viscosity,', 'for--', 'shocks', 'appear,', 'fans', 'solutions.', 'analysis', 'numerical', 'PDE', 'PDE,', 'viscosity.', 'nonlinear.', 'right-hand', 'dispersion', 'diffusion.', 'Korteweg-de', 'Vries,', 'KdV', 'called.', 'down;', 'shorthand', 'waves,', 'one-way', 'waves', 'shallow', 'channel.', 'riding', 'kept', 'shape.', 'fame', 'nonlinear', 'nonlinear,', 'connect', 'Hamilton-Jacobi', 'method,', 'remarkable', 'mind', 'is:', 'begin,', 'source?', 'answer?', 'shocks.', 'proceed', 'informally', 'immediate', 'up--', 'Going', 'separate,', 'fan.', 'fan', 'shock', 'going.', 'overtake--', 'speed,', 'xt-plane,', 'shock.', 'lectures.', 'before?', 'initial,', 'minimization', 'parameter', 'minimizing', 'us--', 'fan,', 'shock,', 'u--', \"Burgers'--\", 'squares,', 'powers.', 'u_left', 'u_right', 'greater--', 'shocks,', 'condition?', 'shock--', 'dx/dt,', 'Coming', 'shocks--', 'slower', 'catches', 'u_right.', 'neater', 'steep', 'wave.', 'graphing', 'zero--', 'really--', 'figure,', 'thin', 'tall.', \"doesn't.\", 'sensible', 'emerges', 'position,', \"hasn't\", 'changed,', 'message.', 'proceeding', 'text,', 'conservation', 'Introduction', 'Applied', 'text', 'think?', 'u_0', 'everywhere?', 'differences,', 'remains', 'infinity--', 'mass--', 'mass,', 'integrates', 'ends--', 'X--', '2t', 'occurred', 'walking', 'unbeatable.', '2t.', 'verify', 'obeys', 'conserved,', 'minimal', 'fact.', 'verify.', 'speed.', 'speed?', 'proposed', 'check?', 'conjecturing', 'agrees', 'Otherwise', 'mighty', 'cancellation', 'Jump', 'conjectured', 'slip', 'compare.', 'jump.', 'upwards', 'both.', 'forgotten', 'difficult.', 'condition--', 'checking,', 'u_L', 'u_R.', 'u_R', 'u_L.', 'speed--', 'means--', 'speeds,', 'speeds', 'equals.', 'completes', 'handy,', 'by--', 'u_0,', 'minimization.', 'found?', 'Minimization', 'patience', 'formula--', 'Figure', 'speak', 'guy--', 'equation--', 'satisfying', 'nonlinearity', 'discover', 'begin', 'solve.', 'viscosity', 'nu', 'Watch', 'will--', 'smooth', 'new.', 'physically', 'breaking', 'waves.', 'water,', 'obeying', 'ours,', 'nevertheless', 'features.', 'forms', 'skiers', 'surfers', 'know--', 'surfers,', 'best.', 'begins', 'terrific', 'u_xx', 'breaking.', 'produces', 'prevent--', 'actual,', 'nonlinearity,', 'turbulence--', \"everything's\", 'suddenly.', 'easy,', 'small.', 'Suddenly,', 'giant', 'introducing', 'linearity', 'its--', 'U?', 'dU/dt', 'plus--', 'dU/dx', 'nu*U__xx.', 'star,', 'derivative.', 'dt,', 'u_xx,', 'u_x.', 'straightforward.', 'different,', 'quadratic.', '2*nu', 'log--', 'w.', 'Capital', '2*nu,', 'sign--', 'meet.', 'meet', 'go,', 'remember--', '2t,', 't?', '4*pi', '4*pi*nu*t.', 'nu,', 'everywhere', 'bell', 'centered', 'grows--', 'Over', 'nu*t.', 'minute.', \"x's.\", 'ds.', 'while.', 'sources.', 'sources,', 'minus,', 'U_0', '2*nu.', 'patience,', 'genius', 'presenting.', 'integrals', 'exponentials', 'something--', 'B--', 'idea--', 'mess.', 'integration.', 'numerator,', 'quantity?', '2*nu*t--', 'lucky,', 'bracket.', 'letter', 'prepared', 'advance,', 'dummy', 'U_0.', 'lost,', 'advanced', 'math,', 'analysis.', 'zero=', 'amount.', 'near', 'imagine.', 'still,', 'considered', 'somehow,', 'leading', 'minimum.', 'account', '4*pi*nu*t', 'zero;', 'nonzero', 'emerges,', 'totally', 'b.', 'further.', 'word?', 'phase?', 'anybody', 'speaking', 'Still,', 'tools', 'pre-computer', 'valuable', 'illustration.', \"Burgers',\", 'linearization.', 'exercise,', 'explicit', 'we,', 'suspect.', 'tracking', 'fans.', 'plain', 'whichever.', 'Vries--', 'KdV--', 'numerically.', 'biggest', 'contributions', 'simulation', 'PDEs.', 'discovery--', 'blue--', 'discovery', 'integrable.', 'twist', 'traveling', 'c*t.', 'shapes,', 'travel', 'assumed,', 'speeds.', 'forward?', 'shapes', 'known.', 'hyperbolic', 'cosine', 'slow', 'interact', \"problem's\", 'computing.', 'jumble', 'emerged', 'behind', 'lag', 'delay', 'perfect,', 'perfect.', 'suggested', 'hidden', 'noticed.', 'discovered.', 'People', 'laws,', 'conserved', 'thousand', 'algebra,', 'quantities:', 'others,', 'fourth,', 'suspicion', 'quantities,', 'interaction', 'eventually,', 'mad', 'discovered?', 'can--', 'whoops--', 'board.', 'integrable', 'complete;', 'Vries.', 'Schrodinger', 'mentioned,', 'which--', 'bad--', 'solitons,', 'solitary', 'solitons', 'unchanged', 'horrific', 'effort', 'appears,', 'and--', 'blanking', 'other--', 'famous', 'names', 'e-mail', 'stumble', 'details,', 'incredibly', 'Navier-Stokes', '3D,', 'dollar', 'Clay', 'prizes,', 'prizes', 'seven,', 'geometry', 'apparently', 'solved.', 'vortex', 'blow-up', 'nonexistence.', 'continued.', 'reported', 'weeks,', 'nonexistence', 'board,', 'phenomenon', 'dangerous', 'ahead,', 'guest', 'PDEs', 'wants', 'York', 'billion.', 'Friday', 'patience.', 'Hi.', 'lectures,', 'Fourier', 'introduction', 'explaining', 'oversight', 'double', 'second-order', 'inhomogeneous', 'far,', 'response,', 'response', 'days,', 'inputs', 'been,', 'input,', 'sines', 'cosines.', 'trouble', 'those.', 'look.', 'reasonable.', 'discontinuous,', 'terribly', 'period,', 'frequency', '26', 'pie', 'period.', 'shorter.', 'represented', 'rest,', 'writing,', 'summation', 'cosine.', 'customary', 'frequency,', 'indicates', 'bn', 'fraction', 'response.', 'nt', 'converting', 'complex', 'rigmarole', 'through.', 'nt,', 'yn.', 'name.', 'sine.', 'feeding', 'an.', 'bn.', 'responses?', 'b', 'c1.', 'led', \"Fourier's\", 'otherwise', 'namely,', 'series,', 'calculate.', 'responses', 'formed', 'coefficients.', 'superposition', 'responses.', 'principle?', 'ODE', 'Monday.', 'Wrong.', 'sufficient', 'shortcuts', 'Unfortunately,', 'yours.', 'resonance', 'picking', 'resonance,', 'amplitude', 'normally', 'resonant', 'mouthfu.', 'calculating.', 'How,', 'coefficients,', 'apparent,', 'remarkable.', 'remarkable,', 'upon', 'orthogonality', 'relations.', 'specifics.', 'use,', 'continuous,', 'discontinuous', 'periodic.', '22t,', 'Define', 'perpendicular.', 'word,', 'integral,', 'love', 'song', 'dance', 'means,', 'application,', 'used,', '18.02.', 'ice', 'talk.', 'prefer', 'Fourier,', 'coefficients', 'mt,', 'distinct,', 'coincident', 'roots.', 'killing,', 'overkill.', 'members', 'interval.', 'category', '3t', '60t,', 'cosines,', 'integrate,', 'same,', 'square.', 'facts', 'included,', 'include,', 'indicated,', 'asking,', 'cosine,', 'dt.', '18.01', 'thereof.', 'methods', 'trig', 'identities.', 'set,', 'identities,', 'Or,', 'trigonometric', 'exercise', 'complex--', 'exponentials.', 'rate,', 'mysterious', 'method', 'ODE.', 'cosines', 'masses', 'discovered,', 'anyway,', 'satisfy?', 'satisfy', 'vary', 'relationship.', 'un', 'vm', 'mt.', 'positively', 'overkill', \"two's-ness.\", 'adjustments.', 'bear', 'un-symmetric.', 'differentiated', 'twice.', \"isn't.\", 'functions--', 'turning', 'primes', 'differentiate', 'theoretical', 'differentiation.', 'both,', 'limits.', 'BS', \"un's,\", 'picked.', 'wasting', 'hands.', 'clear,', 'sine,', 'vanishes', 'ends.', 'doubt', 'differentiation,', 'after,', 'entirely', 'calculation,', 'calculation;', 'waste', 'stare', 'taken,', 'un-symmetric', 'alike.', 'nice,', 'subscripted', 'dt', 'un.', 'pulled', 'proof.', 'Huh?', 'spell', 'detail,', 'obscure', 'look,', 'massage', 'yes', 'favors', 'Both', 'Pardon?', 'Negative', 'prove,', 'Euclid,', 'turn,', 'gotten.', 'symmetry', \"How's\", 'Remember,', 'include?', 'Nonetheless,', 'mentally', 'Mentally?', 'life,', 'talking.', 'abstract', 'reproduce', 'proofs', 'and/or', 'fool', 'originally?', 'how,', 'series?', '18.02,', 'took.', 'others.', 'ak', 'kt.', 'bk', 'kt', 'an,', 'dot,', 'multiplied,', 'becomes,', 'oops,', 'oldest', 'endlessly', 'recopy.', 'yellow', 'chalk,', 'devices.', 'pen', 'pi?', 'Plus,', \"haven't,\", 'Zero.', 'kt,', 'dragged', 'along,', 'an?', 'left-hand', 'bn,', 'sake', 'completeness,', 'digest', 'Sine', 'caution.', 'careful.', 'unfortunately,', 'slight', 'specifically', 'gross,', 'term?', 'miniature.', 'stuff,', 'suggests', 'lose', 'formulas,', 'notations.', 'written--', 'happiest', 'advice.', 'remembering', \"an's\", \"bn's,\", 'insist', 'coefficient,', 'minutes?', 'likely,', 'brave', 'college', 'ruined', 'outline.', 'outlining', 'advise', 'sit', 'hack', 'should,', '3:00', 'morning', 'Cheer', '6:00', 'even.', 'runs.', 'square-away', 'odd', 'axis.', 'integrals,', 'hacking.', \"bn's.\", 'Also,', 'Monday', 'though?', '(one', 'pi)', 'odd.', 'expressed,', 'even,', 'odd,', 'appropriate--', 'sine?', 'sketch', 'yourself.', 'ANNOUNCER:', 'Caltech.', 'YASER', 'ABU-MOSTAFA:', 'Welcome', 'Last', 'feasibility', 'learning.', 'feasible,', 'probabilistic', 'modeled', 'bin', 'out-of-sample', 'performance.', 'mapped', 'performance', 'E_out', 'hypothesis', 'bin--', 'in-sample.', 'in-sample', 'tracks', 'Hoeffding', 'Inequality,', 'E_in', 'deviates', 'tolerance', 'sample,', 'reliable', 'block.', 'bin.', 'hypothesis.', 'h_1', 'h_M.', 'ourselves,', 'hypotheses', 'accumulate.', '0.5%', 'generalization,', 'unlucky', 'accumulate,', 'bad.', 'unlucky,', 'hypothesis,', 'pick.', 'accommodate', 'hypotheses.', 'g', 'choose.', 'included', 'h_2', 'track,', 'h_M', 'track.', 'g,', 'regardless', 'correlation', 'worst-case', 'scenario.', 'disjointly,', 'correlation,', 'overlap,', 'sample.', 'care.', 'Regardless', 'correlations,', 'helpful', 'meaningless.', 'However,', 'establishing', 'learning,', 'generalize.', 'weeks', 'ability', 'generalization.', 'subject', 'sequence,', 'concrete', 'machine', 'lecture,', 'class.', 'perceptron', 'non-separable', 'relief,', 'admitted', 'rare.', 'target', 'classification', 'real-valued', 'regression,', 'techniques', 'statistics', 'economics,', \"day's\", 'yourself,', 'Linear', 'Model', 'transformation?', 'realm', 'materializes.', 'plan.', 'toy', 'generate,', 'performs', 'reality.', 'ZIP', 'codes', 'postal', 'office.', 'characters,', 'digits.', 'image,', 'gray', 'pixels,', 'decipher', 'digits', 'fellow.', '7?', '8?', 'classify', 'error', '2.5%.', 'automate', 'beat', 'representation.', 'raw', '256', 'x_1,', 'x_2,', 'x_3,', 'x_256.', 'mandatory', 'x_0.', 'coordinate,', 'x_0', 'threshold.', 'background', 'parameters.', '257', '257th-dimensional', 'poor', 'simultaneously', \"w's\", 'representation', \"algorithm's\", 'life.', 'features', 'pattern.', 'features?', 'suggestion,', 'pixel', 'descriptors', 'Depending', 'digital', 'digit', 'intensity,', 'intensity.', 'lot.', '5', 'some.', 'intensity', 'related.', 'higher-level', 'symmetry--', 'flip', 'upside', 'overlaps', 'significantly', 'measure,', 'flipped', 'versions,', 'measuring', 'anti-symmetry.', 'x_1', 'x_2', 'admittedly,', 'chances', 'relevant', 'concerned.', 'news', 'extrapolate', 'said.', 'Having', 'w_0,', 'w_1,', 'w_2.', 'determine.', 'illustration', 'inputs.', 'scatter', 'diagram.', 'digits,', 'images', 'distinguishing', \"5's.\", 'decision.', \"5's\", 'diagram,', 'occupied', \"5's,\", 'tilted', '5.', \"1's,\", 'blue,', 'tend', 'coordinate.', 'coordinates,', 'linearly', 'separable.', 'quite,', 'boundary', 'impossible', 'fellow', 'accept', 'undoable.', 'error.', 'hopefully,', 'E_in.', 'misclassified', '1000', 'E_in,', 'mess', 'remark', 'behaves', 'badly', 'separable,', 'converge.', 'terminate', '1000.', 'applying', 'cutting', 'observe', 'plotted', 'E_out.', 'estimate', 'illustration,', 'reality', 'advantages', 'efforts', 'features,', 'just--', 'evolution.', 'Eventually,', 'diagram', 'saw.', 'boundary.', 'region.', 'PLA', 'did,', 'said:', 'mystery.', 'spite', 'prescribed', 'rule--', 'point--', 'intermediate', 'got.', 'report', 'ingenious', 'idea!', 'pocket', 'pocket.', 'pocket,', 'throw', 'algorithm?', 'Much', \"didn't,\", 'reporting', 'continued', '1000,', 'iteration,', 'complained', 'separates', 'perfectly.', 'report.', 'inseparable', 'few,', \"We'll\", 'truly', 'inseparable,', 'drastic.', 'regression.', 'regression', 'output.', 'connotation', 'glorified', 'real-valued.', 'economics.', 'say:', 'earnings.', 'courses', 'engineering,', 'humanities,', 'education,', 'GPA', '3.5', '3.8', '3.2', '2.8', '2.8?', 'Caltech!', \"GPA's\", 'groups', 'courses.', 'graduates.', 'graduation,', 'annual', 'income.', 'graduated.', 'money', 'graduation.', 'yourself:', 'output?', 'sciences', 'illusion.', 'humanities', 'what.', 'resort', 'credit', 'contrast', 'classification--', 'approval,', '+1', '-1.', 'proper', 'customer.', 'customer', 'applies.', 'approving', '$800', '$1,200', '$30,000', 'input?', 'applicant', 'age,', 'salary.', 'suspect', 'salary', '30,000', 'year,', '200,000.', 'affected.', 'merely', 'stability', 'Years', 'residence.', 'residence', 'unlikely', 'town.', 'month,', 'output,', 'genuine', 'inputs,', 'weighted', 'x_0,', 'threshold,', 'w_0.', 'signal', 'approve', 'credit.', 'score,', 'se,', 'threshold', 'w_0', 'algorithms.', 'alone', 'soft', 'calculus', 'always--', 'hate', 'w_d.', 'minimize', 'scalar', 'primitive', 'calculus.', 'version,', 'derivation', 'historical', 'officers.', 'sits', 'evaluates', 'decides', 'limit,', '5000', 'whatnot.', 'replicate', 'officer', 'officers', 'inconsistent', 'another.', 'collectively', 'deciding', 'credit,', 'automated', 'customers.', 'customers--', 'y_1.', 'gave.', 'experts', \"y's\", 'x_n.', 'classification,', 'weights.', 'guidance', 'measure.', 'next.', 'agreement', 'estimating', '900,', '5000,', 'inherent', 'merit', 'analytic', 'measures', 'matter?', 'Et', 'principled', 'error,', 'snapshot', 'one-dimensional.', 'earnings', '[CHUCKLES]', 'bother,', \"x's,\", 'Wow.', 'squared-error', 'bars,', 'viewgraph.', 'dimension.', 'illustrate', 'x_1.', 'pointer--', 'x_2.', 'plane.', 'separating,', 'higher-dimensional', 'linear--', 'hyperplane,', 'minimize.', 'y_n', 'x_n,', 'transposed', 'summation,', 'sudden,', 'norm', 'consolidation', \"x_n's\", 'x_n', 'scalars,', 'y_n,', 'd-th', 'reduced', \"1000's.\", 'component', 'minimizing,', 'minimization,', 'equate', 'gradient,', 'w:', 'w_d,', 'And--', 'surprise,', 'surprise--', 'square,', 'Pretty', 'straightforward', 'fat', 'achieves', 'simple,', 'tall', 'hence', 'overwhelming', 'invertible.', 'simply,', 'inverting', 'disappear,', 'symbol,', 'dagger.', 'dagger?', 'dagger', 'notion.', 'pseudo-inverse', 'non-invertible', 'pseudo-inverse.', 'dagger,', '-1', 'sorts.', 'around.', 'square--', 'them--', 'appreciate', 'inverted.', 'inversion', 'computation.', 'million,', 'fellow,', 'transposed.', 'thousands.', '10,000,', '10,000.', 'computationally', 'shrinks.', 'invert', 'accumulating', '257.', 'discourage', 'aspect', 'packages', 'pseudo-inverse,', 'outright', 'specialized.', 'specialized,', 'Multiplied', 'y_1,', 'y_2,', 'y_3,', 'y_N,', 'outputs.', \"w's--\", 'Indeed,', 'flash', 'crowded', 'form?', 'around,', 'iterations,', 'cheating.', '[MAKES', 'SOUND].', 'E_out,', 'learned.', 'block', 'afford', 'block,', 'sophisticated', 'inversion--', 'hold.', 'Usually,', 'tons', 'dimensionality', '10,000', 'unique', 'deal.', 'encounter', 'classification.', 'business.', 'competitor', 'learns', 'observation,', 'binary-valued', '-1,', 'refuse', 'genuinely', 'numerically,', '+1,', 'trick,', 'sounds.', 'conjecture.', 'serve', 'Half', 'misclassified.', 'messes', 'region', 'interest.', 'converges.', 'start?', \"w's.\", 'tailored', 'toward', 'Feed', 'applied--', 'pink', 'interpret', '-2,', '-3.', 'sad', 'considers', 'cannot.', 'attempt', '-8,', 'minimized', 'forgets', 'outright.', 'tool', 'exceptions.', 'reality,', 'real-life', \"+1's\", \"-1's.\", 'paradigm', 'shot.', 'Closer', 'center,', 'blues.', 'peripherals,', 'reds.', 'viewgraphs,', 'nonlinearity.', 'argued', 'trustworthiness.', 'mark.', 'linearly.', 'lived', 'years.', 'diminishing', 'returns.', 'stable.', 'long.', 'x_i', 'brackets,', 'returns', 'friendly', 'crude', 'x_i.', 'wonder', 'models?', 'implement?', 'implements', 'counterpart,', 'signal.', 'importantly,', 'roles', 'reversed.', 'dictated', 'training', \"x's\", 'were.', 'enabled', 'derivation.', 'working,', 'opens', 'fantastic', 'possibility,', 'incredible', 'remain', 'nonlinearly', 'transformed', 'dependency.', 'omitted', 'coordinates.', '+1.', 'separator.', 'phi.', 'leading,', 'distances', 'origin.', 'transformation,', 'origin,', 'perceptron?', 'classify,', 'computationally,', 'dream', 'transformations,', 'catch.', 'Q&amp;A', 'session.', 'online', 'audience.', 'MODERATOR:', 'systematic', 'elaborately', 'guidelines', 'choice,', 'sensitive', 'issue.', 'possible,', 'coordinates--', 'smell', 'rat,', 'issue,', 'allowed?', 'ramifications', 'regarding', 'dealt', 'in-sample,', 'out-of-sample.', 'binary.', 'in-sample?', 'value--', 'qualify', 'STUDENT:', 'income', 'unintentional.', 'school', 'gain', 'disown', 'conclusion!', 'determining', 'grade', 'correlation.', 'data?', 'alumni', 'association', 'alumni.', 'send', 'questionnaires.', 'schools', 'used.', 'success', 'curriculum', 'criteria.', 'available,', 'we.', \"don't--\", 'anonymous', 'income,', 'kindness', 'associations', 'schools,', 'public', 'domain.', 'looked.', 'happens,', 'feedback?', 'confusion', 'incorporate', '-1?', 'line?', 'Obviously,', 'slope,', 'compensated', 'question?', 'targets', 'achieved', 'closest', 'leap', 'faith', 'faith,', 'points,', 'become--', '+7', '-7', 'push', 'attempting', 'suggestion', 'weight,', 'fine-tune', 'suffer', 'angle.', 'use?', 'absorbed', 'Regarding', 'infer', 'meaningful', 'apparent', 'dozen', 'helpful.', 'usually,', 'clarification--', 'transformations--', 'feature,', 'feature.', 'data--', 'generated', 'independently,', 'inherited.', 'Different', 'points.', 'hyperplanes', 'intersections', 'described', 'hard-threshold', 'neural', 'network.', 'separating', 'machines.', 'kernel', 'underutilized.', 'glorious.', 'glorious,', 'achieve', 'brag', 'incremental', 'ahead--', 'assess', 'systematically?', 'rely', 'guarantees', 'follows,', 'perceptron.', 'albeit', 'discrepancy', 'confusion.', 'polynomial,', 'fifth,', 'likelihood', 'estimation.', 'literature,', 'assumptions', 'noise', 'Under', 'likelihood.', 'context', 'distributions', 'whatnot,', 'suffices', 'studied', 'disciplines.', 'used?', 'many.', 'machines,', 'polynomials', 'mentioned.', 'referred', 'radial', 'transformations.', 'jeopardizing', 'theory,', 'transforms.', 'asks,', 'pseudo-random', 'generator?', 'pseudo', 'seed,', 'Philosophically,', 'Practically,', 'intents', 'purposes.', 'treatments', 'guess--', 'comes,', 'etc,', 'sophisticated.', 'Yet', 'combinatorial.', 'optimization', 'fertilization', 'techniques,', 'good?', 'intelligently', 'emphasize', 'talk,', 'authority,', 'issues', 'raised.', 'details.', 'toolbox', 'wet.', 'material.', 'Thursday.', '&gt;&gt;', '[MUSIC', 'PLAYING]', 'DAVID', 'MALAN:', 'welcome', 'CS50.', 'friends', 'campus--', 'interested,', 'possibly,', 'comfortable,', 'students', 'URL.', 'teachers,', 'exposure', 'dirty', 'thus', 'char.', 'char', 'character,', 'precise', 'character', 'char?', 'non-numerical', 'character--', 'necessarily.', 'punctuation', 'alphabetical.', 'Yeah?', 'ASCII', 'character.', 'byte', 'volunteers', 'bits.', 'group', 'byte.', 'mapping', 'letters.', 'uses,', 'humans', 'implied,', 'accordingly,', 'values--', 'person--', 'two--', 'eighth', 'characters', 'Asian', 'languages', 'Bs', 'Cs', 'Ds.', 'suffice', 'letter,', 'piece', 'punctuation,', 'nature,', 'int?', 'int', 'bits,', 'recall,', 'typically?', 'recall?', 'typically', 'using.', 'appliance,', 'computers,', 'bytes--', 'ints', 'storing', 'ballpark', 'up?', 'recurring', 'themes', 'head.', 'long--', 'int.', 'bits?', 'bytes.', 'float?', 'decimal', 'double,', 'takeaway', 'longs', 'begs', 'billion', '64th,', 'take?', 'database', 'assigning', 'floats', 'doubles--', 'represent?', 'surely', 'humans,', 'bulbs,', 'world?', 'RAM', 'computers.', 'challenging', 'gedit.', 'file', '\"floats0.c\"', 'online,', 'follows--', 'void,', 'program,', 'float,', '32-bit', 'arbitrarily.', 'tenth,', 'legitimate', 'print', 'printf.', '%i', '%f', 'float.', 'backslash', 'quote,', 'comma,', 'semicolon.', 'bug.', 'whom', 'clicked', 'bug', 'made?', '\"#include', '\"', 'symptom', 'compile', 'compiler', 'yell', 'symbol', 'effect.', '\",', 'file.', 'addition', 'specifying', 'holders', '%s,', 'influence', 'placeholder.', 'display', '0.1f.', 'percent', '0.1,', 'printf,', 'terminal', 'window,', 'float', 'enter.', 'cryptic', 'tease', 'damn.', 'reason.', '0.0.', '.2', 'history.', 'zeros.', 'bug?', 'stab', 'issue', 'arithmetic.', 'default', 'throws', 'round', 'se.', '0.00.', 'reconcile', '0.00,', 'Exactly.', 'truncated', 'Moreover,', 'printf', 'explicitly', 'any.', 'sucks,', 'Apparently', 'precision,', 'Turn', 'into--', 'fundamentally', 'ints,', '10.0,', '1.0,', 'resave', 'recompile.', 'rerun.', 'tenth', '0.10.', 'checkpoint.', 'version.', 'indexed.', 'Adding', 'Supposed', 'hard-code', '.0', 'parentheses', 'casting.', 'cast', '1.0', 'recompile', 'contrived', \"casting's\", \"week's\", 'underneath', 'hood.', 'low-level', 'vice', 'versa.', 'casting', 'mechanism', 'programming', 'forcibly', 'liked.', 'simpler,', 'refresher,', 'curious,', 'tenth.', 'rerun', 'Looking', 'sanity', 'adventurous.', 'regret', 'tested', 'fluke.', 'acting', 'reassure', 'recompile,', 'damn', 'Intuitively,', 'types,', 'hood?', 'precision--', 'permuted', 'way--', 'corners.', 'hide', 'poking', 'trailing', 'approximating', 'tragically,', 'RAM.', 'real-world', 'consequences.', 'granted', 'underlying', 'details--', 'frankly,', 'user,', 'unlike', 'C--', 'eight-minute', 'aired', 'insights', 'under-appreciate', 'all-too', 'dim', 'lights', 'SPEAKER', '1:', 'engineering', 'disasters', 'Modern', 'Marvels.', 'Computers--', 'frustrating', 'Bugs,', 'viruses,', 'software', 'glitches', 'prices', 'pay', 'convenience.', 'high-tech', 'high-speed', 'military', 'applications,', 'magnified', 'disaster.', 'June', '1996,', 'scientists', 'launch', 'unmanned', 'Ariane', 'rocket.', 'carrying', 'satellites', 'designed', 'establish', \"Earth's\", 'magnetic', 'interacts', 'solar', 'winds.', 'rocket', 'European', 'Space', 'Agency', 'lifted', 'facility', 'coast', 'Guiana.', 'JACK', 'GANSSLE:', '37', 'flight,', 'nozzles', 'swiveling', \"shouldn't.\", 'Around', '40', 'vehicle', 'destroy', 'safety', 'officer,', 'tremendous', 'guts,', 'pressed', 'button,', 'blew', 'hazard', 'safety.', 'maiden', 'voyage', 'destruction', 'flaw', 'embedded', \"rocket's\", 'software.', 'express.', '16-bit', '64-bit', 'inability', 'failure.', 'Software', 'development', 'costly', 'technology.', 'successful,', 'PHILIP', 'COYLE:', 'accelerated', \"hadn't\", 'accounted', 'disaster,', 'conversion', 'plagued', 'modern', '1991,', 'Gulf', 'War,', 'Patriot', 'missile', 'experienced', '28', 'American', 'soldiers', 'wounded', 'Patriot,', 'protect', 'against', 'Scuds,', 'failed', 'fire', 'missile.', 'Iraq', 'invaded', 'Kuwait', 'America', 'launched', 'Desert', 'Storm', 'batteries', 'deployed', 'Saudi', 'Arabia', 'Israel', 'Iraqi', 'Scud', 'attacks.', 'US', 'medium-range', 'surface-to-air', 'manufactured', 'Raytheon', 'company.', 'THEODORE', 'POSTOL:', 'interceptor', '20-feet', 'weighs', '2000', 'pounds.', 'warhead', 'about--', 'explosive', 'fragments', 'casing', 'act', 'buckshot.', 'missiles', 'container', 'transported', 'semi', 'trailer.', 'anti-missile', 'defense', 'shoot', 'enemy', 'airplanes.', 'war', 'Army', 'Scuds.', 'upgrade', 'Patriot.', 'Intercepting', 'mach', 'rushed', 'service,', 'aware', 'Scuds', 'nearly', 'hit.', 'unstable.', 'wobbling.', 'Iraqis,', '600', 'kilometers', '300-kilometer-range', 'missile,', 'warhead.', 'lighter.', \"Patriot's\", 'Scud.', 'majority', 'fly', 'operators', 'target,', 'detonated', 'Patriots', 'avoid', 'casualties', 'fall', 'ground.', 'fireballs', 'sky', 'misunderstood', 'intercepts', 'warheads.', 'skies', 'destroying', 'Dhahran', 'There,', 'radar', 'flaw.', 'Israelis', 'clock', \"system's\", 'tragedy', 'Dhahran,', 'Defense', 'Department', 'hours', 'running,', 'noticeably', 'responded', 'systems', 'was.', 'Eight', 'hours?', 'Nobody', 'knew.', 'battery', 'stationed', 'barracks', 'flawed', 'internal', 'February', '25th.', 'tracked', 'accuracy', 'second.', 'believe,', '0.333', 'decimal.', 'ran,', 'became.', 'operation,', 'targeting', 'resulted', 'meters.', 'fatal', 'Dhahran.', 'detected', 'warning', 'satellites.', 'defending', 'locate', 'smart.', 'sent', 'pulse', 'gate.', 'location', 'place,', 'sees', 'detection,', 'drops', 'disappeared', 'screen,', 'slammed', 'barracks.', 'fired', 'War.', 'Tragically,', 'updated', 'arrived', 'fixed,', 'closing', 'troubled', 'acronym', 'Phased', 'Array', 'TRacking', 'Intercept', 'Target.', 'sobering', 'bugs', 'appreciate,', 'earliest', 'programs.', 'Rather,', 'syntactic', 'whereby', 'semester,', 'design', 'programs', 'too,', 'MySQL,', 'engine', 'websites', 'lines', 'dates', 'IDs', 'users', 'database.', 'Facebook', 'accounts', 'User', 'ID--', \"profile's\", 'URL', 'nickname', 'URL,', \"Facebook's\", 'Graph', 'API,', 'publicly', 'API', 'numeric', 'ID', 'accounts,', 'road,', 'imprecision.', 'announcements.', 'Sunday,', 'Monday,', 'Tuesday.', 'hear', 'via', 'email', 'assignment.', 'schedule', 'comfort', 'Meanwhile', 'P-set', 'hacker', 'Thursday', 'option', 'deadline', 'specifications', 'Realize', 'instructions', 'CS50', 'make,', '50,', 'feedback', \"code's\", 'correctness.', 'Forgive', 'ironing', 'kinks', '50.', 'classmates', 'AM', 'spec', 'apologies', 'undue', 'frustrations.', 'fault', 'mine.', 'resolved.', 'scores', 'themselves.', 'scratch', 'quickly.', 'syllabus,', 'axes--', 'scope,', 'correctness,', 'design,', 'style.', 'Scope', 'captures', 'Typically,', 'multiplicative', 'Meanwhile,', 'correctness--', 'specification?', 'deliberately', 'axes', 'chasing', 'bugs,', 'indenting', 'spectrum', 'preach', 'sections.', 'Style', 'aesthetics', 'well-named', 'descriptive?', 'indented', '50?', 'Lastly', 'Design', 'finger', 'subjective.', 'perhaps', 'pedagogical', \"fellow's\", 'opportunity', 'qualitative', 'feedback.', 'scores,', 'buckets--', 'coarse', 'qualitative,', 'longhand', 'feedback,', 'typed', 'verbal', 'keeping', '60%', 'failing.', 'road', 'threes', 'begin.', 'twos,', 'fairs,', 'attention,', 'office', 'hours.', 'fours', 'fives,', 'students--', 'individualized', 'student,', 'ending', 'range.', 'exhibit', 'grades.', 'fair', 'upward', 'strong.', 'Academic', 'honesty--', 'voice', 'sending', 'ad', 'believe.', 'dishonest', 'elsewhere.', 'realize,', 'detecting', 'science', 'pair-wise', 'prior', 'ability,', 'Google', 'sites', 'github', 'discussion', 'forums.', \"CS50's\", 'p-sets', 'find.', 'emphasize,', \"course's\", 'academic', 'honesty', 'policy', 'spirit.', 'rephrased', 'syllabus', 'syllabus.', 'overarching', 'theme', 'collaborating,', 'extent,', 'classmates,', 'standing', 'whiteboarding,', 'ideas--', 'pseudocode', 'pictures,', 'diagramming', 'Mario', 'pseudocode.', 'greedy', 'algorithm--', 'behave', 'lines.', 'bullets', 'decent', 'thumb', 'struggling', 'classmate', 'him', 'her', 'embrace', 'mine', 'unreasonable.', 'brain,', 'screen', 'semicolon', 'message', 'encouraged', 'behaviors.', 'alluding', 'boil', 'late', 'judgment', 'decisions', 'emailing', 'Dropbox', 'Googling', 'night.', 'beg', 'inevitable', 'stress,', 'bumping', 'deadline,', 'directly.', 'Say,', 'listen,', 'conversation', 'Resorting', 'web', 'campus', 'skirt', 'cheer', 'Reddit', 'recap,', 'week,', 'Scratch', 'Boolean', 'bars', 'ampersands,', 'execute.', 'switches,', 'briefly,', 'propose', 'achieving', 'advance', 'common,', 'reach', 'instinctively.', 'cryptic,', 'week.', 'While', 'loops', 'incrementation', \"variable's\", 'manually', 'allows.', 'do-while', 'loop,', 'games', 'prompt', 'she', 'cooperate,', 'meanwhile,', 'counter,', 'speak.', 'Give', 'lastly,', 'illustrates', 'GetString(),', 'string', 'user.', 'GetString()', 'interesting,', 'returns,', 'string.', 'saving', 'usage', 'aside,', 'effect', 'far?', 'prints', 'screen.', 'handing', 'grab.', 'Colton', 'plugged', 'magically', 'involved.', 'written.', 'ourselves.', 'appliance', 'tab', 'positive.c.', 'int--', 'sorry--', '#include', 'Int', '(void),', 'curly', 'brace,', 'brace.', 'insists', 'GetPositiveInt', 'library.', 'GetInt().', 'constructs', 'impose', 'typing', 'moment--', 'descriptive.', 'demand', 'instructions.', 'branches,', 'Scratch,', 'indent', 'cooperate?', 'borrow', 'sight.', 'loop.', 'cleaned', 'borrowed', 'stolen', 'copying', 'pasting,', 'wise.', 'paste', 'program?', 'thanks', 'Damn.', 'scroll', 'Work', 'lest', 'cascade', 'Implicit', 'stdio.h', 'cs50.h,', 'includes', 'so-called', 'declarations', 'int,', 'teach', 'teaches', 'GetInt()', 'resave.', 'Enter.', 'errors,', 'still.', 'Unused', 'cryptic.', 'highlighted', 'positive.c:9:13--', 'positive.c,', '13th', 'mistake.', 'unused', 'see--', 'nine.', 'seemingly', '11,', 'positive.c:11--', '12,', \"compiler's\", 'undeclared', 'nine,', '11', 'broken', 'entering', 'variable--', 'loop?', 'albeit,', 'counterintuitive,', 'summarize.', 'braces--', 'scope--', 'unrelated', 'scoring', 'course--', 'braces.', 'braces,', 'alone,', 'disappears', '11.', 'cyclically?', 'cyclically.', 'GetInt(),', 'pester', 'notice--', 'shadow', 'exists.', 'braces', '14.', 'zoom', 'file,', 'compiled', 'progress.', 'Slash.', './positive,', 'printed.', 'curiosity.', 'lamb?', 'prompt--', 'retry.', 'nowhere', 'where,', 'presumably,', 'retry', 'from,', 'staff', 'ensure', 'altogether.', 'retry,', 'cooperates.', 'Similarly,', '1.23,', 'wanted.', 'being,', 'scope.', 'earlier,', 'incorrect', 'poorly', 'violating', 'implies,', 'sprite', 'sprites.', 'sprites', 'clearer', 'global.', 'incorrectly', 'nine--', 'operator--', 'declared.', 'deliberately,', 'pedagogically,', 'cranked', 'correctly', 'correctly.', 'serves', 'purpose.', 'configure', 'remnants', 'months', 'benefit', 'colleagues', 'utility', 'automates', 'compiling', 'clang.', 'debugging', 'debugger.', 'optimizing', 'code--', 'Std=c99--', '1999', \"C's\", 'preventing', 'student', 'compiling.', 'wall', 'recalls', 'outputting', 'runnable', '-lcs50', 'library,', 'zeros', '-lm', 'automatically', 'opening', 'string.c.', 'hood', 'Include', 'stdio.h.', 'cs50.h.', 'main(void).', 'string--', 'knows', 'following--', 'strlen--', 'S-T-R-L-E-N--', 'concise', 'represents', 'typed.', 'hello,', 'hello.', 'plus.', 'comfortable', '%c', 'H-E-L-L-O,', 'string,', 'characters.', 'bracket,', 'parenthesis,', 'string.h', 'strlen', 'compiler,', 'Dot,', 'slash,', 'Please', 'Hello,', 'caps,', 'printed', 'bracket', 'RAM--', 'Mac,', 'PC,', 'back--', 'H-E-L-L-O--', 'individual,', 'adjacent', 'bytes', 'byte,', 'four--', 'five--', 'H-E-L-L-O', 'teaser,', 'understand,', 'looking.', \"today's\", 'jailbreaks', 'iPhone.', 'Jailbreaking', 'cracking', 'phone', 'carrier', 'install', 'likely.', 'iPhone', 'cracked', 'glance', 'working.', 'tends', 'fundamentals', 'holloway.c.', \"someone's\", 'submitted', 'historically', 'obfuscated', 'contest,', 'compiles', 'switch.', 'brackets', 'implying', 'array.', 'Holloway?', 'online--', 'pretty,', 'prompt,', '2:', 'CS50,', 'mutiny.', '3:', 'Get', 'him!', 'ERIK', 'DEMAINE:', 'crossover', 'structures,', 'hierarchy', 'structures', 'geometric', 'structures.', 'cache', 'oblivious.', 'two-dimensional', 'offline', 'online.', 'friend,', 'searching,', 'spent', 'obliviously.', 'interesting.', 'batch', 'rectangles,', 'rectangles.', 'queries', 'pre-processed,', 'static.', 'batched,', 'technique', 'sweep,', 'sweep', 'persistence', 'algorithmic', 'oblivious', 'N/B', 'M/B', '/', 'lazy', 'funnel', 'priority', 'queue,', 'combining', 'conquer', 'batched', 'starters,', 'sorting.', 'analyze', 'queues', 'external', 'B-way', 'obliviously,', 'N-way', 'N-way,', '1/3', 'emerge?', 'funnel.', 'K-sorted', 'sized', 'K', 'K-funnel,', 'transfers', 'dominate.', 'transfers.', 'buffer.', 'triangle', 'merge?', 'triangles.', 'K-funnels', 'join', 'layout,', 'except--', 'buffers.', 'buffer', 'buffers', 'buffer,', 'leaf', 'K-funnel', 'big.', 'recurrence,', 'overall.', 'K-funnels,', 'merger.', 'cubic', 'merge--', '1/3.', 'merging', 'structure.', 'layout.', 'triangle,', 'triangles,', 'stored.', 'consecutive', 'merge,', 'subroutine', 'Precondition,', 'fill,', 'full.', 'buffer--', 'partially', 'filled,', 'item,', 'Whichever', 'cool.', 'arrays.', 'Stick', 'fill.', 'children', 'Recursively', 'scans,', 'empties,', 'pause', 'recursively', 'whichever', 'buffers?', 'Should', 'triangles', 'layout', 'accordingly.', 'hand-wavy.', 'Sorting', 'boring.', 'searching.', 'sweep.', 'cool', 'flexibility', 'min,', 'spit', 'auxiliary', 'preserve', 'conqueror', 'conquer.', 'technique,', 'Brodal', 'Fagerberg.', 'days', 'paper.', 'Batched', 'Generally,', 'segments,', 'intersect.', 'nearest', 'neighbor.', 'Euclidean', 'searching', 'past.', 'generally', 'log,', 'rectangle', 'result.', 'general--', 'counting,', 'particularly,', 'necessary', 'oblivious,', 'literally,', 'tough', 'cache,', 'cache.', 'allocate', 'Sort', 'corners', 'x-coordinate', 'fancy', 'augmentation,', 'Then--', 'later--', 'merger', 'presorted', 'slab.', 'L', 'overlap', 'represented.', 'essentially--', 'rectangle.', 'found--', 'slab,', 'processing', 'corners,', 'Somehow', 'rectangle,', 'span', 'L,', 'L.', 'awkward', 'R--', 'upwards.', 'as--', 'sweeping', 'active', 'Active', 'sliced', 'y-coordinate', 'rectangle--', 'corner--', 'across?', 'CL.', 'decrement', \"rectangle's\", '1/B', 'cheap', 'symmetrically,', 'CR.', 'CR,', 'add--', 'CR', 'counter.', 'spanned', 'CL', 'counters', 'CL,', 'CLRS.', 'x-axis,', 'conquering', 'pre-sorting', 'thank', 'presorting', 'evenly', 'funny.', 'work--', 'slabs', 'reorder', 'Finally', 'helping', 'lecturers,', 'guessed,', 'kinks.', 'craziest', 'figuring', 'Counting', 'pre-computed', 'sizes', 'analysis,', 'optimal,', 'unfortunately.', 'carving', \"Everything's\", 'breaks,', 'outputs--', 'potentially,', 'carve', 'consecutively,', 'hand-wavy', 'messy', 'coolest', 'Unless', '[INAUDIBLE]..', 'waved', 'scribing?', 'ask?', 'stand.', 'reporting,', '3D', 'cascading,', 'layered', 'reporting.', 'sided', '3-D', 'rays', 'Hard', 'rays.', 'fancy--', 'walk.', \"We'd\", 'subdivided', 'cascading', 'walk,', 'corner.', 'logarithmic', 'using--', 'query', 'M/B?', 'M/B,', 'operations,', 'M/B.', 'trade-off.', 'algorithms', 'sided,', 'sided.', 'queries.', 'blows', 'sides,', 'refine', 'technique.', 'intervals', 'intervals.', 'sophistication,', 'bulk', 'paper', 'Harga', 'Zey', 'query.', 'y-coordinate.', 'Van', 'Emde', 'Boas', 'stores', 'query,', 'keys', 'follow.', 'walk', 'x2,', 'y2.', 'y2', 'keyed', 'Follow', 'duplicates.', 'insane', 'traverse', 'duplicates', 'squashed', 'onto', 'scan,', 'magically.', 'magically,', 'breakthrough', 'persistence,', 'cooler', 'explained', 'Finds', 'scanned', 'scan.', 'if--', 'star', 'alpha', 'restriction', 'Minus', 'says--', 'y-coordinate,', 'array,', 'scanning,', 'duplicates,', 'comma', 'need.', 'held', 'happy.', 'constant--', 'proportional--', 'sparse,', 'S0', 'going,', 'subset,', 'dense', 'queries,', 'detect', 'dense--', 'now--', 'S0.', 'guaranteed', 'news.', 'sparse', 'yi', 'x-coordinate--', 'yi--', 'S0,', 'y1', 'co-ordinate', \"there's--\", 'yi.', 'filter,', 'intersect', 'Up', 'scary.', 'sparse.', 'Redo', 'ignoring', 'repeat,', \"Si's.\", 'safe.', 'cut,', 'x-coordinate.', 'S2', 'suffixes', 'try,', 'failed.', 'Second', \"time's\", 'charm.', 'sophistication', 'partitioning,', 'maximize', 'suffix.', 'read.', 'xi', 'attempt.', 'xi,', 'sparse--', 'query--', 'dense,', 'redefine', 'algebraically', 'intersected', 'union,', 'basically--', 'dare', 'picture?', 'red?', 'Si.', 'why,', 'suffix', 'messier', 'restriction.', \"Si's\", 'potentially.', \"Pi's.\", 'Sk', 'sized,', \"Pi's,\", 'slack', 'Whereas,', 'win', 'some,', 'weird,', 'claims,', 'choices.', 'try?', 'contradicts', 'weird.', 'new,', 'algebraic', \"Pi's\", 'geometrically', 'charging', 'scheme.', 'sparsity', 'alpha.', 'Sparse', 'Most', 'definitions.', 'left.', 'Versus', 'restricts', 'portion,', 'awkward--', 'star.', 'yi,', 'sparsity.', 'example--', 'thrown', 'xi--', 'correctness', 'existence.', 'P0.', 'Forget', 'restricted', 'xi.', 'defining', 'charge', 'Pi.', 'points?', 'L-shape.', 'threw', 'charged', 'charged?', 'fraction.', '100.', '1/100', '99/100', '100/99', '100/99,', 'worked', 'charging,', 'alpha,', 'fun.', 'S2.', 'luxury', 'P2,', 'P3.', 'Decreasing--', 'Pi--', \"query's\", 'claims.', \"P1's--\", \"P2's.\", 'visited', 'x-coordinates', 'Claim', 'farther.', 'sentence', 'encompasses', 'range,', 'had.', 'termination', 'Never', 'terminates', 'early.', 'Therefore', 'hand-wavy,', 'reading,', 'Throw', 'Truth', 'stranger', 'fiction,', 'pre-processing', 'ranged', 'inverted', 'on--', 'LCA', 'N--', 'built,', 'Lose', 'Maintain', 'bonus.', \"Didn't\", 'suppose.', 'ary.', 'chunks,', 'contracting', 'chunks', 'nodes.', 'Children', 'augmentation', 'search--', 'deal--', 'x1?', 'LCA.', 'Instead,', 'Whoa,', 'in-between', 'y1,', 'y2,', 'has--', 'need--', 'cheap.', 'conveniently,', 'See?', 'crazy,', 'focusing', 'call.', 'donation,', 'continuation', 'concerning', 'polar', 'area.', 'pie.', 'pie,', 'slice', 'arc', 'theta.', 'shaded-in', 'slice,', 'Little', 'a^2.', 'fraction,', 'percentage', 'circumference.', '(delta', 'theta)', 'area--', 'circumference,', 'rim.', \"pi's\", 'a^2', 'wavy', 'crust.', 'r(theta).', 'varying', 'shooting', 'subdivide', 'swept', 'areas', 'take,', 'label', 'circular', 'arcs,', 'go--', 'arc.', 'nose', 'sector.', 'extra.', 'nose.', 'sums.', 'band', 'narrow', 'r^2', 'varying.', 'differential.', 'Namely--', 'setup.', '2a', 'cos(theta).', '(x-a)^2', 'y^2', '(2a,', '0).', '-pi/2', 'pi/2.', 'ends,', 'encloses', 'pi/2', 'cinches', 'sack,', '(2a', 'cos(theta))^2,', 'Question.', 'pi/2,', 'body.', 'pointing', '-pi/2.', 'honest.', 'machine,', 'body,', 'arms.', 'formulas.', 'clues', 'curves.', 'advance.', 'most--', 'visualize', 'faced', '4a', '4a^2', '2a^2', 'cos^2(theta)', 'handled', 'sheet.', '(1', 'cos(2theta))', 'easy?', 'cos(2theta),', '^2', '(pi/2', '(-pi/2)).', 'a^2,', 'asking.', 'pivoted', 'arm', '(0,', '0),', 'stuck', 'elbow', 'ray,', 'pi/4', 'ray.', 'directions.', 'business,', 'cos(theta),', 'sin(theta).', 'Always.', 'plotting', 'plotting.', 'theta?', \"theta's\", 'pi/2?', 'analogy', 'northwest', 'vertical,', 'clue.', 'backwards', 'going?', 'sweeps', 'foolish', 'wider', 'over-count', '2pi.', 'quadrant', 'underside', 'quadrant.', 'legal.', 'often.', 'troubles.', 'pictures.', 'favorite.', 'Example', 'drawings.', 'sin(2theta).', 'homework.', 'Theta', 'Whoops,', 'pi/4,', 'sin(pi/2),', 'sin(pi),', \"it's--\", 'symmetries', 'quadrants.', 'watch', 'four-leaf', 'rose.', 'rose', '&lt;', 'pi/4.', 'white,', 'turn.', 'Back', '6.', '7.', 'tracing', 'amusing.', 'tiny', 'leaf,', 'whole.', 'skill', 'preparation', 'exercise.', 'legible,', '1/(1', '2cos(theta)).', 'theta--', 'cos(pi/2)', '-pi/2,', 'rectangular--', 'horizontal,', '(1/3,', '1)', 'x-y', '-1).', 'emphasize.', 'visually', 'crank', 'right-handed', 'bend', 'Anyway.', 'lo', 'behold,', 'purely', 'organically.', 'plugging', 'cos(theta)', '-1/2,', '2pi/3.', 'somewhere,', 'directions,', 'explain.', '(x,', 'y)', '2r', '2x.', '2x)^2.', 'r^2,', 'x^2', 'y^2.', '(a', 'cos(theta)),', 'sin(theta),', '-3x^2', 'y^2,', 'hyperbola.', 'ellipse.', 'parabola.', 'asymptotes,', 'mind-bending', 'happens--', 'arm,', \"elbow's\", 'curve?', 'Anybody', 'doing?', 'disguise,', 'hyperbola', 'capturing', 'connection', 'connection.', 'hyperbolas,', 'comets.', 'ellipses,', 'planets', 'asteroids.', 'ellipses', 'sun', 'representation,', 'gravity', 'comet', 'astronomy.', \"Kepler's\", 'Law.', 'sun.', 'areas,', 'varies.', 'observed', 'Kepler.', 'dA/dt', 'parameter,', 'honest', 'goodness', 'Real', 'physicists', 'Kepler', 'observations,', 'managed', 'physics', 'frictionless', 'Outer', 'nowadays', 'angular', 'momentum.', 'observing,', 'spinning', 'continues', 'spin', 'skater', 'quantitative', 'generalities', 'pep', 'physics.', \"year's\", 'substitution.', 'fractions.', 'parametric', 'Arc', 'length.', 'interrelated.', 'surfaces', 'revolution.', 'handle.', \"year's.\", 'we?', 'Other', 'equals---', 'formulate', 'Would', 'three-leaf', 'clue', 'evens', 'hour.', 'setups', 'issues.', 'integrand', 'evaluating.', 'hopelessly', 'Alright,', 'percentages', '55', '55,', '(x+2)^2', 'x+1,', 'degree', 'altogether,', 'Plus', 'x+1.', '(x+2)^3.', 'harder.', 'cover-up', 'D,', 'elaborate,', 'x^3', '21', 'division', 'reduction', 'formulas?', 'coach', 'disgusting.', 'x+1', '(Ax', 'B)', '(x^2', '2).', 'A--', 'A_2', '(A_2', 'B_2)', '2)^2', 'D', '(x+1).', 'liven', 'trickier', 'Integration', 'begging', 'differentiated,', \"v'.\", \"'\", '(1+x^2),', 'x^2/2', 'tan^(-1)', 'x^2)', 'hot', 'water.', 'tepid', 'woods.', '-1/2', 'Trig', 'interestingly,', 'Add', 'tied.', 'division.', 'shortcut', 'noticing', 'x^2).', 'quotient', '1/(1+x^2)', 'someday', 'PHILIPPE', 'RIGOLLET:', '--124.', '124', 'samples', 'vanish.', 'bias,', 'bias.', 'estimator', 'unbiased.', 'estimator,', 'unbiasedness', 'sleep', 'risk,', 'quadratics', 'hat,', 'hat', 'actually--', 'removing', 'decomposed', 'variance,', 'cross-terms', 'cancel.', 'converges', 'L2', 'trade-off', 'increase,', 'opposite.', 'lot,', 'planning--', 'iid', 'Bernoulli.', 'times?', 'bar,', \"Xi's.\", 'bar?', 'expectations.', \"Xi's\", 'Bernouilli', 'theta,', 'biased,', 'wake', 'Xi.', 'a-squared', 'variances.', 'Xi', 'X1.', 'Bernoulli?', 'risk--', 'parenthesis', 'parenthesis.', 'accounting', 'fluctuations?', 'candidate', 'estimators,', 'so--', 'estimators', 'estimator.', 'score', 'election,', '$0', 'presidential', 'elections', 'prediction', 'inspecting', 'observations.', 'recording', 'couples', 'kissing,', 'budget.', 'home.', 'going--', '0.5?', 'bias?', 'X1', 'wherever', 'estimators.', 'observations', 'fronts,', 'gone.', 'beating', 'plot--', 'y-axis', 'risk.', '0.25.', '0.25', 'farther,', 'annoying.', 'thinks', 'maximum.', 'move?', 'curves', 'cross.', 'sure--', 'close.', 'predicting', 'crushing', 'increases,', 'thetas,', 'risk?', 'describing?', 'unbiased', 'hat.', 'being--', 'What?', 'fluctuation', 'signs.', 'unbiased,', 'coincides', 'bias--', 'trade-offs', 'illustrated', 'Gaussian,', 'forcing', 'bias/variance', 'estimate,', 'illustrated.', 'decreases,', 'one-dimensional', 'estimation,', 'non-parametric', 'high-dimensional', 'slides,', 'confidence', 'Xn.', 'R2,', 'region,', 'conference', 'alpha--', 'level--', 'interval--', 'plus/minus', 'fluctuate', 'boundaries,', 'boundaries', 'parameter.', 'randomness', 'covering', 'confidence--', 'hopefully.', 'getting,', \"Hoeffding's\", 'inequality', 'thumb,', 'quintiles', 'normal--', \"Hoeffding's,\", 'non-asymptotically.', 'mouthful.', 'said--', 'homework--', 'kiss', '0.42,', '0.65.', 'strongly', 'Strongly', 'consistent,', 'consistent.', 'theorem--', 'quintile.', 'quintile', 'thing--', 'Slutsky', 'Slutsky,', 'converging', 'Gaussian.', 'things--', 'caring', \"Slutsky's\", 'convergence.', 'Yn', 'Y,', 'Using', 'conservative', 'convergence', 'losing.', 'wider.', 'wider,', 'bar--', 'relying', 'limit--', 'asymptotics', 'conservative,', 'squeeze', 'bars.', 'asymptotics,', 'narrower', 'more--', 'super-conservative,', 'gauging', 'indicative', 'precision', 'perspective.', '[INAUDIBLE]??', \"that's--\", 'Berry-Esseen', 'quantifies', 'terrible.', 'helpful,', 'fluctuates', 'fluctuates.', 'Basically,', 'super-sharp,', 'lead', 'y-axis.', 'parameter?', 'hardcore', 'computation', 'chapter,', 'Who', 'estimation?', 'convex', 'reminders', 'closed-form', 'sometimes,', 'industry', 'touch', 'diving', 'proxy', 'distribution--', 'close?', 'distributions.', 'drawn.', 'candidate.', 'statistician,', 'candidate,', 'truth.', 'b,', 'generally,', 'intervals,', 'lines,', 'sound', 'statistician?', 'close,', \"A's,\", 'depart', 'measures,', 'event,', 'maximizing', 'differ.', 'Agreed?', 'variation', \"A's\", 'distance,', '0.01.', 'variation,', '0.01,', 'hat--', 'compute.', 'well-known', 'measures.', 'distance.', 'time--', 'variation.', 'events?', 'Mass', 'Function,', 'denote', 'immediately.', 'densities', 'controlling', 'mention,', 'Binomial,', 'support,', 'NP', 'take--', 'Poisson.', 'Poisson', 'integers,', 'belonging', 'falling', \"X's.\", 'weight.', 'remedy.', 'densities.', 'calculus,', 'story.', 'technically', 'Mathematica,', 'Mathematica', 'involves,', 'Gaussians,', 'TV', 'Gaussians.', 'graphically,', 'correspondence', 'non-negative?', 'everywhere,', 'definition--', '0--', 'definiteness.', 'definitions', '[INAUDIBLE],,', 'complete?', 'write--', 'prefer.', 'f--', 'g.', 'split', \"X's\", 'agrees?', 'complement,', 'C?', \"Everybody's\", 'rewriting', 'star--', 'Pf', 'Pg', 'bounding', 'inspect', 'integrate--', 'variations', 'add,', 'maximizes', 'portion', 'axis?', 'g--', 'someplace', 'what--', 'satisfy,', 'pseudo-distance', 'quasi-distance', 'metric', 'honestly.', 'slide,', 'directly,', 'take.', 'maps', 'P--', 'Hopefully,', 'minima', 'estimation', 'unclear', 'TV,', 'Variation.', 'feeling', 'motivations', 'surrogate', 'Kullback-Leibler', 'divergence.', 'divergence', 'KL', 'divergence--', 'KL--', 'delve', 'into.', 'Core', '6', 'some--', 'KL.', 'distance--', 'PMFs', 'TV.', 'KL,', 'straight', 'maxima', 'minutes,', 'manipulate,', 'manipulate', 'nightmare.', 'manipulate.', 'intrinsic', 'closeness', 'could,', 'properties?', \"Jensen's\", \"Jensen's--\", 'inequality,', 'Jensen,', 'asymmetry,', 'flipping--', 'annoyed.', 'symmatrize', 'overcome', 'divergence,', 'ratio.', 'ha', 'ha.', 'statistician.', 'plays', 'role.', 'Jensen', 'concave', 'divergent.', 'changes,', 'reflects', 'shifting', 'minimizer.', 'remarks,', 'employing', \"isn't?\", 'still--', 'any--', 'data-generating', 'minimizer', 'function--', 'form--', 'translation', 'translated', 'loss', 'generality,', 'PROFESSOR', 'SRINI', 'DEVADAS:', 'Erik', 'tag', 'teaming', 'research', 'parallel', 'architecture.', \"Erik's\", \"he's\", 'Algorithm', 'Analysis.', 'PC', 'anybody?', '1950s.', 'personal', '1981--', 'Intel,', 'Microsoft,', 'IBM,', \"Intel's\", 'gift', 'humankind', 'x86', 'Though,', 'architecture', '1981,', 'PC--', 'horsepower', 'IBM', 'PC.', 'megahertz.', 'around--', 'buy', '80486,', '1989,', 'trend', 'I486', 'court', 'ruling', 'trademark', 'naming', 'processors.', 'Pentium,', 'Intel', 'processors,', '1993.', 'megahertz,', \"'90s.\", 'processors', 'Pentium.', 'Pentium', '2000,', 'pipeline', 'broke', 'stages.', 'pipeline.', '1.5', 'gigahertz.', 'F00F', 'bug,', 'malicious', 'crash', 'administrative', 'privileges', 'successful.', 'machines', 'sold.', 'felt', '10s', 'gigahertz,', 'megahertz', 'gigahertz', '2005,', 'peaked', 'stopped', 'chip.', 'Quad', 'Xeon', '2008.', 'ran.', 'frequencies.', 'saturated', 'cores', 'synonymously', 'quad', 'core', \"they're,\", 'effect,', 'silicon', 'circuit.', 'interconnected', 'processor', 'programs,', 'dual', 'laptops.', '2020,', 'brings', 'parallelism.', 'hardware,', 'parallelized', 'architectures.', 'signifies', 'typically,', 'fast,', 'static', 'random-access', 'SRAM,', 'megabytes', 'chip', 'gigabytes', 'DRAM,', 'modules', 'bus,', 'DRAM', 'modules.', 'DIMMS--', 'SRAM', 'on-chip.', 'clocked', 'off-chip,', 'megabytes.', 'bottleneck', 'requests', 'parallel.', 'ports', 'SRAM--', 'ports--', 'build.', 'sustainable', '8,', 'cores.', 'academia--', 'chip,', 'tiles.', 'tiles,', 'memory--', 'caches,', 'attached', 'tiles', 'reserved', 'interconnect', 'wires', 'routing', 'other;', 'messages', 'are;', 'congestion', 'channels', 'latter', 'congested.', 'remote', 'sharing', 'thread', 'processor.', 'processor,', 'thread,', 'share', 'request', 'trip', 'cycles.', 'cycle', 'fastest', 'L1', 'cycles', 'bottleneck,', 'standpoint', 'communication', 'migrating', 'migration,', 'message,', 'migrate', 'context?', '6.004', 'executing', 'register', 'migration', 'trip,', 'trip.', 'messages,', 'execution.', 'downsides', 'kilobytes--', 'kilobits.', 'access.', 'trade-off,', 'solve,', 'migration.', 'choice.', 'longer--', 'move,', 'offsets', 'seconds.', 'hardware--', 'prefetch', 'engines,', 'predictors,', 'tell--', 'prediction.', 'm1', 'mn', 'accesses', 'addresses.', 'm1,', 'm2,', 'mn,', 'caches', 'mi.', 'addressees--', 'local.', \"two's\", 'home,', 'd--', 'architectures,', 'kilobits,', 'overhead', 'sizable', 'account.', 'access,', 'access--', 'bits--', 'formulation', 'written,', 'symbols.', 'p1,', 'p2,', 'p1.', 'p3', 'respectively.', 'migration--', 'Dijkstra?', 'Bellman-Ford?', 'balanced', 'functions?', 'Dynamic', 'Programming.', 'EVERYONE:', 'programming,', 'taught', 'erasers?', 'fluttered', 'bail', 'erasers.', 'DP.', 'subproblems?', 'prefixes.', 'DP(k,p1)', 'prefix', 'mk', 'accesses,', 'subproblem.', 'migrations', 'subproblems.', 'DP(k', 'pj).', 'computed--', 'subproblems', 'Total?', 'ranges', 'Someone?', \"pi's.\", 'DP', 'pj', 'pj,', 'optimum', 'solution--', 'pj.', 'optimum,', 'Migrate', 'subproblem,', 'order?', 'NQ', 'Just,', 'closing,', 'assumptions,', 'hardware.', '128', 'Execution', 'Migration', 'Machine.', 'Erik.', 'microphone.', '\"shallowly.\"', 'research.', 'geometry,', 'folding,', 'graphs,', 'recreational', 'Computational', '840?', '6.850.', 'teach.', 'Folding', '6.849.', 'Structures', '6.851.', 'Graphs', '6.889.', 'SP.268,', 'offered', 'semester.', 'home', 'OpenCourseWare--', '6.851,', '6.889', 'SP.268', 'OpenCourseWare.', '6.046?', 'exciting', 'follow-on', 'ton', 'beginning--', 'taste.', 'fun--', 'folding', 'title', 'textbook', 'origami.', 'shape,', 'fold', 'giraffe', 'sculpture.', 'creases', 'paper?', 'possible?', 'foldability.', 'origami', 'diagrams,', '\"fold', 'this.\"', 'gosh.', 'Takes', 'Especially,', 'crease', 'anything,', 'problem--', 'patterns', 'valid--', 'NP-complete.', 'direction,', 'reverse', 'design.', 'fold,', 'solvable.', \"can't.\", 'NP-complete', 'Origamizer.', 'Tomohiro', 'Tachi.', 'polyhedron.', 'folds', 'practical.', 'folded', 'concentric', 'creases.', 'Alternating', 'mountain', 'valley.', 'valley,', 'diagonals.', 'funny--', 'pops', 'designs.', \"'20s\", 'Bauhaus', 'School', 'Design.', 'personally', 'sculpture', 'sculpture,', 'surprise.', 'differing', 'non-differentiable.', 'rounding', 'creases,', 'profile.', 'wavy.', 'conceivable', 'non-differentiable', 'conjecture', 'microscope,', 'creases--', 'unfold.', 'Pringles', 'Bauhaus.', 'circles.', \"Can't\", 'demo.', 'magic', 'Goes', 'Houdini', 'flat', 'scissors--', 'strict', 'origami,', 'cut.', 'unfold', 'pieces?', 'swan.', 'impressed', 'impress', 'friends.', 'angelfish.', 'impressed.', 'fold.', 'spotlight', 'Straight', 'logo.', '[APPLAUSE]', 'polygons', 'plane,', 'polygons.', 'thickness.', 'Fun', 'self-assembly.', 'diagram--', 'fashioned.', 'Word', 'Send', 'cares?', 'parallel,', 'sequential', 'fashioned', 'Cache', 'pipe.', 'disc,', 'hierarchy.', 'fetch', 'blocks,', 'log(n)', 'uniform.', 'reading', 'transfers,', 'Computation', 'Sorting.', 'classic.', 'blocks', 'flavor.', 'bounds.', 'cache-oblivious', 'algorithms,', 'invented,', 'MIT.', 'RAM,', 'elements--', 'insert,', 'delete,', 'successor.', 'integers--', 'log(n).', 'log(log(u)).', 'CLRS,', 'interested.', 'log(log(n))', 'fusion', 'achieve.', 'log(log(n)).', 'Compare', 'savings', 'impractical.', 'hey.', \"They're,\", 'theoretically,', 'planar', 'planer.', 'crossings,', 'earth,', 'overpasses.', \"Dijkstra's\", 'impressive', 'Dijkstra', 'graphs.', 'log(V).', 'savings.', 'More', 'impressive,', 'weights--', 'Bellman-Ford--', 'date.', 'videos', 'taught,', 'recreation', 'these--', \"Rubik's\", 'Tetris', 'NP-completeness,', 'Results', 'games.', 'balloon', 'twisting--', 'designing', 'polyhedron,', 'optimally,', 'fewest', 'balloons.', 'Algorithmic', 'Getting', 'cushions.', 'gotta', 'freebies.', \"He's\", 'kidding.', 'motivation', 'inspiration', 'Highly', 'recommended', 'Frisbee.', 'Bandsaw,', 'sell', 'edition', 'collectible', 'eBay.', 'made,', 'years--', '$5.', 'seven.', 'branding,', 'cushion.', 'holiday', 'starter.', 'stopper.', 'Asymptotically', 'optimal--', 'acoustic', 'paneling.', 'student.', 'piano,', 'guitar', 'fingering', 'larp', 'Woah.', 'Misfire.', 'missing.', 'truth,', 'cheat', 'Cupid', 'profile', 'luck.', 'LING', 'REN:', '6046', 'presentation.', 'Ling', 'Ren.', 'TAs', 'TA', 'recorded', 'OCW', 'TAs.', 'camera.', 'hesitate', 'slow,', 'schedule,', 'help.', 'Devadas', 'scheduling', 'section,', 'requests,', 'compatible,', 'unweighted,', 'weighted,', 'works?', 'volunteers?', 'louder?', 'conflicting', 'unweighted', 'incompatible', 'sub-problems,', 'Care', 'subproblem', 'Amin.', 'Amin?', 'Amin', 'request.', 'requests.', 'finishes.', 'Rj,', 'Rj', 'j-th', 'request,', 'optimize', 'improve', 'inefficiency', 'inefficient,', 'silly,', 'unnecessary?', 'inefficient', 'finishes,', 'Potentially', \"other's\", 'max.', 'early,', 'Candidate', 'Andrew.', 'Andrew', 'subproblems,', 'crisp', 'programming.', 'Andrew,', 'programming?', 'remember?', 'memorize', 'memorize,', 'retrieve', 'resolving', \"Andrew's\", 'optimization,', 'runtime', 'trim', 'explore', 'paths.', 'exploring', 'observation', 'page.', 'hurt,', 'suited', 'apparently,', 'with?', 'idea?', 'conflicts', 'generally--', 'afterward.', 'Exactly,', 'suddenly,', 'R1', 'reapply', 'Wi', 'R2', 'branches', 'earliest,', 'scheduled,', 'complexity.', 'guesses?', 'sorting,', 'tree?', 'branch.', 'referring', 'to?', 'complexity?', 'Exactly', 'comparing', 'scheduling.', 'Strassen', 'primitive.', 'Circuit', 'simulation,', 'climate', 'physics,', 'experience', 'undergrad', 'improving', 'inversion,', 'spot.', \"Everyone's\", 'hard,', 'mind-blown', 'cubic.', 'you?', 'conquer,', 'tiled', 'blocked', 'multiplication?', 'A11,', 'A12,', 'A21,', 'A22.', 'B11,', 'B12,', 'B21,', 'B22.', 'C11,', 'A11', 'C12', 'shy.', 'ever,', 'recitation.', 'nervous', 'C12?', 'B12?', 'B12.', 'B22,', 'Matrix', 'B21.', 'C21,', 'A21', 'B11', 'A22', 'C11', 'B12', 'understands', 'cubic,', 'blocks.', 'complexity,', 'adding?', 'adding.', 'constant?', 'ha;f', 'Strassen,', '1969,', 'M1', 'M7,', 'reconstruct,', 'submatrices', 'C21', 'M2', 'M4.', 'A12', 'B11.', 'M4,', 'concern.', 'recursion?', '7T', 'benefit,', 'improvement.', 'Master', 'Theorem.', 'Theorem', 'merging,', 'constants,', 'fn,', 'fn', 'nc', 'K,', 'imagine,', 'Tn,', 'fn.', 'dominates,', 'component,', 'Tn', 'subproblem?', 'breaks', 'so?', 'branching', 'Tth', 'raise', 'emerging', 'f-', 'Tn.', 'enumerate', 'af', 'b--', 'Speak', 'louder.', 'depth', 'T1', 'f1', 'T.', 'sum?', 'b1.', 'omit', 'ratio?', 'sequence?', 'Next,', \"everyone's\", 'bt', 'qt,', 'qt', 'well--', 'ordered.', 'O,', 'recurrence.', 'Theorem?', 'Want', 'applause.', '2.80,', 'purpose,', 'best,', 'proposed,', 'researchers', '2.35.', '2.37,', 'literature', 'closely,', '2.34', 'medium', 'ceiling,', 'Apparently,', 'apply,', 'tightly', 'bounded,', 'K1', 'K2', 'Assuming,', 'bounded.', 'n5', 'K2.', 'A2,', 'redo', 'K2,', 'A2', 'A2--', 'scheduling,', 'Theorem,', 'thanks,', 'everyone,', 'exacting', 'hashing.', 'reminders.', 'unpopular', 'Tuesday,', '7:30', '9:30', 'Tuesday', 'evening.', 'announcement.', 'rooms.', '180', 'excited', 'Victor', 'hashing', 'addressing.', 'chaining', 'tables', 'addressing', 'lunch,', 'efficient,', 'chaining.', 'uniform', 'Eric', 'tables.', 'cryptographic', '6006', 'security', 'cryptography.', 'pervasive', 'password', 'storage', 'corruption', 'detectors', 'collisions.', 'collisions,', 'ensuring', 'collided', 'slot.', 'grad', 'PhD', 'arrays,', 'item--', 'slot', 'locations,', 'items', 'slots', 'probing.', 'probing', 'fail', 'insert.', 'iterative', 'continually', 'probe', 'pair.', 'specifies', 'probe,', 'operations.', 'slots.', 'count.', 'lucky--', 'produce--', 'property--', 'key,', 'permutation', 'unused.', 'free--', '17th', 'Whatever--', 'probes', 'load', 'balancing', 'concentrate', 'operation.', '586', \"argument's\", 'sake,', '133.', '204', '481', '481--', '496.', '496,', '496', 'oops.', 'occupied,', 'flag', 'slot,', 'none.', 'none,', 'occupied.', 'fails,', 'fail.', '586.', 'attempt,', 'bold', 'Out', 'explain,', 'answering', 'flag.', 'Keep', 'awhile,', 'encountered', 'pun', 'intended.', 'delete', 'delete.', 'subtlety', 'neat,', 'keys,', 'stream', 'implement.', 'awhile', 'key?', 'slot?', 'Great,', 'guts', 'veers', 'Whoa.', 'pointed', 'searching--', 'inserts', 'doing--', '586,', '133,', '204,', '481.', 'deleting', 'None.', 'succeed', 'pair,', 'Success', 'incorrectly.', 'failure', 'spot', 'subtly', 'flag,', 'deleted', 'slightly,', 'would--', 'treats', 'example?', '586--', 'reuse', 'storage.', 'freed', 'treat', 'could--', 'override', 'key--', '999', 'coding', 'permutation.', 'strategies,', 'applicable', 'chosen,', 'mod', 'argument?', 'forget.', 'permutation?', 'Yep,', 'robin', 'cycle,', 'keys.', 'excellent.', 'Excellent,', 'excellent', 'clustering', 'slots,', 'growing.', 'clusters', 'longer.', 'cluster,', 'balancing,', 'clumps', 'the,', 'cluster', '4/100', 'chance,', '1/100,', 'probing,', 'pictorially', 'cluster.', '42', '44,', '57,', 'sake.', 'fashion', '57.', 'increased', '0.99,', 'h1', 'h2', 'permutation,', 'requirement,', 'Relatively', 'Victor.', 'bother.', 'truncate', 'happening,', 'permutations--', \"nobody's\", 'imply?', 'hatching', 'operations', 'probes.', 're-size', '0.6', 'alphas,', '0.7,', 'strategies', 'resizing', 'summary', 'addressing?', 'Yep?', \"Isn't\", 'instantaneous,', 'load.', 'trouble,', 'flags,', 'hurting', 'flags', 'deleted?', \"me's\", 'nones', 'operation', 'longish', 'Basically', 'p--', '6041', 'speaking,', '1/p,', 'gory', 'Expected', 'FYI.', 'motivating', 'dear', \"person's\", 'Unix', 'password.', 'daughters', \"Haven't\", 'systems?', 'Storing', 'freebie.', 'situ', 'slash', 'etc', 'slaw', \"that'd\", 'great,', 'sysadmin', 'password,', 'x--', 'hash--', 'beautiful.', 'login', \"daughter's\", 'users,', 'mistyped,', 'Wikipedia', 'collision', 'resistance,', 'ocw.mit.edu,', 'tools,', 'subject,', 'rich', 'richer', 'outcomes', 'compact', 'terminology.', 'record', 'height,', 'inches.', 'inches?', '60.', '71', 'inches,', 'outcomes.', 'height.', 'mathematically,', 'abstract.', 'perhaps,', 'student--', '2.58.', 'centimeters.', '60', '150,', 'determines', 'measured', 'outcome,', 'determined.', 'abstract,', 'types.', 'heights', 'inch.', 'valued', 'records', 'precision.', 'devote', 'easier,', 'concepts,', 'elementary.', 'complications', 'conceptual', 'hurdles', 'tangled', 'concepts--', 'takes.', 'Abstractly', 'mathematically', '\"procedure\"', '\"sub-routine\"', 'sub-routine', 'height?', 'heights.', 'denoted', 'sub-routine,', 'objects.', 'likelihoods', 'arises', 'occur?', 'generating', 'taking.', 'PMFs?', 'exhausted', 'realized.', 'non-trivial', 'Consider', 'experiment?', 'toss,', 'appeared?', 'Clearly', 'Px', \"T's\", 'flip.', 'event?', 'puts', 'geometric?', 'p(1-p).', '(1-p)-squared.', 'progression.', '1-p', 'suggests.', 'tetrahedral', 'associate', 'throw,', 'F.', 'Px(0),', 'Px(1),', 'Px(2),', 'Px(3),', 'Px(2)--', '1/16.', '5/16.', 'Conceptually,', 'revisit', \"let's,\", 'concreteness,', 'Px(2)', 'luckily', 'probability--', 'p-squared', 'tempted', 'Px.', 'miraculous', 'months.', 'curious', 'observation.', 'MATLAB', 'concept.', 'loosely,', 'rewards', '1/6.', 'dollars', 'zillion', 'dollar.', 'dollars.', '2.5.', 'payoff', 'frequencies', 'payoffs.', 'loosely', 'hurt', 'outcomes,', 'Similarly', 'repetitions', 'visual', 'insightful,', 'freshman', 'kind.', 'gravity.', 'gravity?', 'underneath,', 'centers', 'gravity,', '(n', '1).', 'infrastructure', 'kind?', 'middle?', 'moral', 'investigate', 'behaves,', 'complication', 'redraw', 'Y.', 'entail?', 'entails', 'occurred,', 'bundle', 'bundling', 'calculation--', 'rearrangement', 'calculations,', 'x-axis', 'getting?', 'getting.', 'accounting,', 'proved.', 'people,', 'unconscious', 'justification.', 'caution--', 'averages', 'commute.', 'instances', 'exceptions', 'expression--', '---', 'takes,', 'degenerate', 'inches', 'centimeters,', 'exception', 'cautionary', 'summation.', \"everybody's\", 'centimeters--', 'gods', 'bonus', 'class?', 'note,', 'interest?', 'X-squared.', 'interesting?', 'X-squared,', 'occurs.', 'occurs,', 'x-squared', 'x-squared,', 'parse', 'Subtract', 'emphasis', 'distances.', 'arise.', 'outliers', 'spread', 'typically.', 'concentrated', 'deviation.', 'Small', 'Large', 'variances', 'proving', 'summarize', '(expected', 'X)-squared.', 'variance?', 'effects', 'affect--', 'moves', 'License.', 'Professor:', 'differentiating', 'flavors.', 'specific,', 'x^n', '(1/x)', \"u'\", 'polynomials.', 'gradual', 'sin', '(x', 'x),', 'cos', 'vote.', 'cosine?', 'Audience:', 'be...', 'alright?', 'Cosine,', 'x).', 'b)', 'now...', 'one:', 'non-zero.', 'hope.', 'meaningless', 'notice,', 'cancel,', '(cos', '(sin', 'x)', 'volunteer.', 'Student:', 'Cosine', 'checked', 'promised', 'cos,', 'cosine^2,', 'willing', 'regroup', '-sin', 'crucial', 'mentioning', 'theorems.', 'remarks', 'frame', 'worked.', 'behold', 'x=0,', 'proofs.', 'd/dx', 'substance', 'boils', 'suspense', 'demonstrate', 'geometrically.', 'suggestive', 'visible.', 'Maybe,', 'radians.', 'chunk', 'persuade', 'linguistic', 'bow', 'Alright?', 'doubled', 'whoops,', 'Trying', 'chalk', 'vertical.', 'green.', \"2's.\", 'curved', 'articulate', 'curves,', 'Again', 'arrow', 'arrangement,', 'exaggerate', 'sector,', 'unit--', 'Whoops.', 'tilt', 'pencil', 'exaggerated', 'green,', 'circle,', 'tiny,', 'bitty', 'gap', 'segment.', 'Stata', 'Center,', 'hardly', 'coincide', 'tending', 'scaled', '\"doesn\\'t', '0?\"', 'zooming', 'zoomed', 'microscope', 'expanded', 'preserved.', 'tiny...', 'afraid', 'myself.', 'blowing', 'leaving', 'rescaling', '0/0.', '1-', 'over...', 'arc,', 'comparable', 'degrees,', 'angles', '360', 'radians', 'units.', 'yeah?', 'insisting', 'radius.', 'visualization.', 'visualization', 'beak', 'bird', 'narrower.', 'narrow,', 'depict', 'zero-zero', 'crack,', 'blackboard', 'blackboard,', 'collapses.', 'claiming,', 'evidence', 'Alright.', 'ponder', 'prepared.', 'thoroughly', 'principles.', 'motion.', 'location.', 'moved.', 'displacement', 'PR.', 'Oops.', 'PR', 'PQ.', 'triangle.', 'calculations.', 'PQ', 'quantitatively', 'trickier,', 'reasoning', 'QPR', 'hypotenuse', 'trade', 'perpendicular,', 'ray', 'tangent', 'OP.', 'upstairs', 'rotate', 'ninety', 'degree,', 'rotated', '90', 'rotating', 'horizontal--', 'horizontally.', 'labeled', 'OP', 'rotates', 'angles.', 'divide,', 'as...', 'Dealing', 'tool.', 'rules.', 'days.', 'differentiation', '(u', 'v)', \"(u'v\", \"uv'\", ')', 'v^2.', 'responsible', 'OpenCourseWare,', 'diffusion', 'analytical', 'impulse', 'Fantastic', 'greatest', 'differences.', 'appear.', 'Difference', 'pushed', 'implicit', 'slow-going.', 'pollution,', 'environmental', 'engineering.', 'extend,', 'combines', 'convection', 'velocity.', 'Distance', 'always.', 'Dimensional', 'methods,', 'd?', 'meet,', 'reverses', 'dimensionless', 'forces', 'imaginary,', 'i*k?', 'dissipation,', 'stability,', 'producing', 'L?', 'altogether', 'Peclet', 'Number.', 'Pe,', 'c*L', 'cell,', 'reversed?', 'distance?', 'Time', 'analyst.', 'fixing', 'tapes.', '1D.', 'of?', 'Naturally,', 'accuracy?', 'truncation', 'called,', 'begun', 'semi-discretization.', 'du/dt,', 'U_(n+1),', 'molecule', 'u_(j,', 'n)', 'U_(j+1)', '2*U_j', 'U_(j-1)', 'i*k*x,', 'U_(j,', '0)', 'i*k*j', 'parentheses,', 'i*k', '4R,', 'exceeding', 'danger', '4R', '4R.', 'Fully', 'explicit.', 'G?', 'stops', 'equaled', 'realizing', 'Implicit.', 'changed?', 'n+1),', '2R,', '2R', 'Absolutely', 'Stable', 'hopeless.', \"It'd\", 'i*k*x.', 'pay?', 'exchanged,', 'K.', 'stiffness', \"u's\", 'coupled.', 'Coupled', 'tri-diagonal', 'U_(n+1)', 'U_n,', 'switched', 'Here.', 'R*K,', 'safely', 'stable,', 'implicit.', 'dimensions?', 'u_yy', 'u_zz', 'happening?', 'view,', '2D,', \"4's\", 'tensor', 'five-point', 'diagonals', 'adjacently', 'mesh', 'comment.', 'Identity', 'R*K(2D)', 'K(2D)', 'K(1D).', 'stretches', 'spades,', 'band,', 'connection,', 'initial-value', '1D,', 'candidates', 'implicit?', 'trapezoidal', 'centering', 'side;', 'authors,', 'Crank', 'Nicolson.', 'Crank-Nicolson', 'n+1)', 'would.', 'accuracy.', 'over,', 'G.', 'canceling', 'Well.', 'cool,', 'reverse.', '[UNINTELLIGIBLE', 'PHRASE]', 'attractive', 'implicit,', 'Boundary', 'non-linearities,', 'reward', 'convection-diffusion.', 'convention-diffusion.', 'u_t', 'c*u_x', 'd*u_xx.', 'debating', 'informal', 'towards', 'difference?', 'Upwind,', 'maybe?', 'Upwind', 'upwind.', 'windy', 'ratios,', 'Explicitly,', 'u_(j+1,', 'n)?', 'upwind', 'n-1),', 'come?', 'Stability', 'magnitudes,', 'requires?', 'Courant-Friedrichs-Lewy', 'centered,', 'quickly,', 'perhaps.', 'splitting', 'Whatever.', 'Putting', 'provides.', 'motion', 'preserving,', '1;', 'pushes', 'realistic,', 'renewal', 'Partly', 'review,', 'partly', 'countable-state', 'renewals', 'recurrences', 'duration', 'theorems', 'renewals.', 'arrivals', 'x-bar.', 'carefully,', 'within.', 'x-bar', \"Blackwell's\", 'wander', 'Blackwell', 'inter-renewal', 'causes', 'wobble', 'wobbling', \"somebody's\", 'century.', 'department', 'ancient', 'sometime', \"'50s\", \"'60s,\", 'occur,', 'glasses', 'separated', 'lambda?', 'milliseconds', '1,000.', 'reaches', 'x-bar,', 'non-arithmetic', 'Divide', 'interchange', 'cuts', 'limits', 'approaches', 'surprising', 'duration.', 'motivated', 'countable', 'occurred.', 'tilde', 't-th', 'renewal.', 'arrival', 'n-th', 'arrivals,', 'fishy', 'pmf', 'tilde,', \"pmf's,\", 'accurate,', 'surrounds', 'conventional', 'Excuse', 'Oh', 'wait,', 'asymptotically', 'weak.', 'wobbles', 'duration,', 'asymptotically.', 'vague', 'incidents,', 'dart', 'instance', 'were,', 'renewal,', 'age?', 'constraints', 'travels', 'durations', 'marginal', 'visualize.', 'age.', 'x-hat', 'ranch,', 'harder,', \"pmf's\", 'px', 'kpx', 'arithmetic?', 'non-arithmetic,', 'sweating', 'non-integer,', '6th,', '6th', '20th,', \"t's,\", 'lowest', 'averaging', 'crawl', 'miraculously', 'jive,', 'amazing', 'explains', 'blandly', 'recurrent', \"i's.\", 'successes', 'failures.', 'diffuse', 'mathematically?', 'carefully.', 'exercises', 'automatically.', 'forth,', 'outward,', 'outwards', 'quantized', 'spreading', 'spread,', 'automatic', 'classes,', 'classes.', 'transitions', 'oscillating', 'communicate.', 'communicate', 'communicate,', 'relating', 'birth-death', 'ugly', 'analyze.', 'gruesome.', 'scratching.', 'plausible', 'exercises.', 'bounce', 'accordion.', 'pulling', 'clustered', 'wild', 'yonder,', 'hell.', 'advertised', 'aimless', 'fashion,', 'recurrence', 'English.', 'Recurrence', 'eventually.', 'sometime.', 'struggle', 'non-recurrent', 'passage', 'drift', 'xj,', 'x0', 'ij.', 'unequal', \"i's\", \"j's.\", 'i?', 'transition,', 'transition.', 'wondering', 'pij,', 'principal,', 'Chapman', 'kj,', 'ripping', 'reaching', 'Gallager.', 'fij', 'notes?', 'Like,', 'quietly', 'defective', 'Incidentally,', 'presence', 'pij', 'ik', \"fij's\", 'disturbing?', 'jj', 'eventual', 'epochs', 'Nice,', 'huh?', 'hitting', 'smallest.', 'little,', 'recurrent.', 'inter', 'arguing', 'occur.', 'finite,', 'disperse', 'gave,', 'recurrent,', 'transient.', 'guesses', 'jj,', 'skills,', 'separately', 'Separable', 'couple,', 'algebra', 'dy', 'highest', 'ordinary,', 'non-linear?', 'non-linear.', 'anyways,', 'differentials.', 'traditional', 'antiderivatives.', 'magenta', 'labelled', 'arbitrary.', 'cx', 'cy,', '3y', '3c', 'antiderivative,', 'Clear', '4x', 'dy.', 'differentials,', 'magenta.', 'completing', 'geeky', 'satisfied,', 'domain', 'satisfied.', 'reals,', 'topic--', 'cryptography--', 'primitives,', 'primitives', 'signature.', 'signatures', 'mainly', 'Hatch,', 'standalone', 'known,', 'signature', 'verifying', 'authenticity.', 'secret', 'signature,', 'accepts', 'reject.', 'signatures?', 'thoughts', 'signature?', 'Hugo.', 'Hugo', 'necessary.', 'randomized', 'signatures.', 'bad?', 'secure.', 'efficient.', 'thoughts?', 'verify?', 'scheme', 'functionality', 'trivial.', 'verified', 'unforgeability.', 'else--', 'adversary,', 'pretend', 'verifies.', 'extract,', 'forge', 'messages.', 'adversary', 'attacked.', 'signing', 'pairs,', 'generated.', 'forgery.', 'defined?', 'unforgeability', 'researchers--', 'scientists--', 'implemented', 'encryption.', 'RSA', 'encryption', 'verify,', 'e,', 'ciphertext.', 'decrypt', 're-encrypt', 'unforgeable?', 'attacker', 'attack,', 'forgery?', 'forgery', 'messages?', 'messages--', 'multiplicative,', 'homomorphic,', 'word--', 'malleable.', 'they,', 'm2', 'check.', 'individually', 'Attack', 'attack.', 'm--', 'our,', 'renown', 'scientists.', '70s,', \"'78.\", \"'82,\", 'Goldwasser', 'Micali,', 'professors', 'MIT,', 'won', 'Turing', 'Award', 'framework.', 'Change', 'primes,', 'pq.', 'primes.', 'random.', 'one-wayness', 'resistant.', 'public?', 'message--', 'gets,', 'm1.', 'm2.', 'one-way,', 'resistant,', 'attacks', 'attacks?', 'national', 'standards', 'NC,', 'X93.1.', 'RSA,', 'padding,', 'pad', 'hex', 'stream,', 'prepended', 'append', 'stream.', 'either,', 'secure', 'steam', 'weakness', 'approaches.', 'hoc.', 'either.', 'Yet,', 'RSA?', \"Couldn't\", 'Why,', 'hatch', 'me--', 'Problem', 'chooses', 'primitives--', 'private', 'encryption,', 'categorize', 'secrecy.', 'integrity.', 'Meaning,', 'sender', 'sends.', 'parties,', 'party', 'party?', 'party.', 'authentication', 'MAC.', 'recomputes', 'MAC', 'verifier', 'MAC?', 'code?', 'concatenated', 'message?', 'reasons.', 'SHA1,', 'SHA3--', 'replacement', 'SHA1', 'SHA2--', 'SHA3', 'FYI,', 'thought.', 'encrypt', 'encrypt.', 'caveat', 'strange,', 'canceled.', 'April', \"Fool's\", 'Day', 'joke.', 'May', '8th,', 'stability.', 'modification.', 'incrementing.', 'naturally', 'fixes.', 'receive', 'resending', 'Drive,', 'Dropbox,', 'files', 'cloud', 'server.', 'phone,', 'files.', 'unmodified?', 'file?', 'cryptography,', 'alongside', 'version?', 'MAC,', 'freshness.', 'latest', 'MACs', 'phone.', 'MAC1,', 'MAC2--', 'sigma--', 'sigmas,', 'x3,', 'x4.', 'locally.', 'download', 'Match--', 'compares', 'downside', 'terminology,', 'o', 'concatenate', 'modify?', 'downloading', 'feed', 'Merkle', 'Merkle.', 'Sigma', 'Cross', 'locally', 'in--', 'matches,', 'update,', 'globally.', '5?', 'where?', 'Drive', 'Dropbox.', 'secure?', 'files,', 'intuition?', 'changes.', 'Correct,', 'collision.', 'x4', 'argument--', 'options--for', 'x2--', 'concatenation', 'stayed', 'concatenation.', 'knapsack', 'cryptosystem,', 'encrypt?', 'mi,', 'Wi,', 'mi', 'i-th', 'decrypt?', 'Wi.', 'ui.', 'ui', 'modulo', 't--', 'original,', 'rigorous.', 'dilemma.', \"ui's\", 'low.', 'vulnerable', 'low?', 'heuristics,', '0.45,', 'improved.', 'cryptosystems', 'broken,', 'stood', 'based,', 'cryptosystem', 'unsuccessful.', 'cryptography', 'picks', 'participation.', '[MUSIC]', 'Stanford', 'University.', 'Happened', 'Nishith', 'Barak', 'TensorFlow.', 'TensorFlow', \"Google's\", 'framework,', 'assignments', 'projects.', 'projects', 'project,', 'Kevin,', 'Danqi,', 'Richard,', 'Ignacio,', 'Arun', 'weeks.', 'project', 'advice', 'SQuAD', 'dataset', 'mention.', 'Piazza,', 'GPU.', 'arranged', 'Microsoft', 'Azure', 'GPUs', 'project.', 'organized', 'teams', 'resource', \"limit's\", 'teamed', 'team', 'teams.', 'Azure.', 'attempts', 'reorganizing', 'rooms', 'smoothly', 'countdown', 'eye', 'hour', 'locations', 'Nishith.', 'Hi', 'Hope', 'weekend.', 'TensorFlow,', 'framework', 'Google.', 'frameworks?', 'attributed', 'frameworks.', \"They've\", 'iterate', 'ML', 'practitioners.', 'frameworks', 'billions', 'users.', 'gradients', 'finished', 'assignment,', 'gradient', 'automatically,', 'standardizes', 'spaces.', 'Facebook,', 'cross-pollination', 'pre-trained', 'shoulders', 'giants', 'interfacing', 'GPUs,', 'fascinating', 'parallelization.', 'progress', 'facilitate', 'PA', 'incentive', 'actually?', 'library', 'graphs', 'developed', 'Brain', 'team,', 'specializes', 'interface', 'overview', 'paradigms', 'Thanks,', 'Nish,', 'paradigm,', 'presentation', 'backbone', 'ops', 'tensors', 'n-dimensional', 'grateful', 'layer,', 'layer', 'ReLU', 'activation', 'rectified', 'sigmoid', 'networks', 'expressive', 'placeholder,', 'dissect', 'Variables', 'stateful', 'stateful,', 'retain', 'executions,', 'restore', 'saved', 'disk', 'training,', 'facilitates', 'niche', 'companies', 'save,', 'store,', 'updates', 'default.', 'tune', 'loss,', 'shortly,', 'placeholders.', 'placeholders', 'fed', 'folders', 'training.', 'placeholders,', 'addition,', 'ReLU.', 'NumPy', 'initialization.', 'placeholder', 'import', 'package,', 'python', 'Taking', 'uniformly', '184', 'floats,', 'ReLU,', 'NumPy,', 'essential,', 'manipulating', 'symbols', 'Inside', 'expresses.', 'foremost,', 'holder,', \"wasn't,\", 'tune.', 'get_operations', 'Variable_1', 'presenting', 'scenes', 'programmer.', 'abstraction', 'above.', 'stands', 'define,', 'deploy', 'session', 'binding', 'CPU', 'developing', 'circuit', 'GPU,', 'tender', 'lissdell.', 'hardware', 'environment', 'supports', 'fetches', 'feeds.', 'Fetches', 'feeds', 'dictionary', 'tf.Session.', 'environment.', 'CPU,', 'device', 'session.run', 'initialize', 'intensive', 'evaluation.', 'evaluation', 'tensa', 'BMW', '[LAUGHS].', 'Initialize', 'formerly', '[BLANK', 'AUDIO]', 'holders,', 'might,', 'direct', 'correspondence,', 'tuning.', 'Additionally,', 'initializations', 'Export', 'arbitrary,', 'foundation', 'computes.', 'train', 'loss?', 'labels', 'network?', 'predict.', 'holder', 'ground', 'truth', 'against.', 'subtraction', 'wise', 'squashing', 'colons.', 'placeholders?', 'gradients.', 'optimizer', 'optimizer.', 'subclasses', 'descent', 'minimize,', 'train_step', 'trainstep,', 'Tensor', 'computes', 'W.', 'minds', 'gradients?', 'prebuilt', 'And.', 'backpropagate', 'machine-learning', 'backwards,', 'predefined', \"programmer's\", 'interface.', 'competed', 'Gradient', 'Descen', 'tOptimizer', 'Minimize', 'cross_entropy.', 'kinda', 'encapsulates', 'optimization.', 'descent.', 'oath', 'Onto', 'gradients,', 'update.', 'schedule.', 'labels.', 'sess.run', 'interfaces', 'arrays', 'tensors.', 'numpy', 'batch_x', 'batch_label', 'sess.run.', 'sess.run,', 'Though', 'turn?', 'inputting', 'labels,', 'testify', 'programmers', 'yes?', 'compute?', 'fully,', 'network,', 'session.runonprediction', 'Behind', 'season', 'transverse', 'demo', 'sharing.', 'instantiate', 'GPUs.', 'limitations', 'devices', 'instantiating', 'devices,', 'strings', 'represent.', 'locks', 'dictionary.', 'variables_dic', 'encapsulation.', 'builds', \"graph's\", 'document', 'neurons.', 'massive', 'inspired', 'provides', 'spacing', 'clashes,', 'get_variable.', 'get_variable', 'foo.', 'foo/v.', 'directory', 'reopen', 'summary,', 'at?', 'feedforward', 'session,', 'deploys', 'iterating', 'continuously', 'feed_dict,', 'feed_dict', 'symbol.', 'slides', 'appended', 'foo', 'anything?', 'variables-', 'sessions?', 'acknowledgements.', 'presentation,', 'consulted', 'tutorials.', 'Jon', 'Gauthier', 'Bharath', 'Chip.', 'Chip', 'CS20SI,', 'Deep', 'Learning', 'Research.', 'slides.', 'highlights,', \"name's\", 'Alan.', 'Visual', 'Dialog.', 'introduction.', 'witnessing', 'rapid', 'AI.', 'language', 'vision.', 'generation', 'intelligent', 'conversations', 'content.', 'blind', 'surroundings', 'AI', 'assistants', 'Alexa', \"people's\", 'paper,', 'parsing', 'captioning.', 'Show,', 'Attend,', 'Tell.', 'Show', 'Tell', 'attention', 'mechanisms.', 'open-source', 'Andrej', 'Karpathy.', 'image.', 'typo', 'Video', 'Summary.', \"model's\", 'movie', 'movie.', 'Visual-Semantic', 'Alignment.', 'tedious.', 'answering.', 'short.', 'shapes.', 'Dialog,', 'proposes', 'agent', 'protocol.', 'opinion,', 'invention', 'ever.', 'money,', 'socialize', 'introduces', 'dialog.', 'encodes', 'convolutional', 'chat', 'concatenates', 'representations', 'decoder', 'dataset.', 'longer,', 'bot.', 'robot', '[LAUGH]', 'CS', '221', '229', 'coded', 'familiarized', 'house', 'location,', 'artificially', 'sampled', 'implementing', 'float32', 'batches', 'tf.variable_scope,', 'lreg,', 'tf.Variable', 'np.random.random.', 'rather.', 'y_pred', 'tf.mul(w,', 'hyper', 'tuning,', 'Almost,', 'pleases,', 'prediction,', 'loss.', 'norm.', '(y_pred-', 'y).', 'reduce_mean', 'y_pred,', 'Barack', 'DescentOptimizer.', 'tf.Session,', 'initialize,', 'forgot.', 'asked.', 'Barrack', 'tens', '[Albeit', 'initializing', 'Initializer,', 'init', 'initialization', 'feed_dict.', 'x_batch', 'y_batch', 'regenerate', 'y_batch.', '30s', 'dict.', '101', 'performing.', 'predicts,', 'y_pred.', 'GradientDescentOptimizer', 'performs,', 'performs.', 'decrease,', 'tmux.', 'Anyways,', 'word2vec', 'Skip-gram', 'complex.', 'sentence.', 'cs224', 'cs221', '224', 'decomposing', 'Skipgram', 'cs224n.', 'batches.', 'loads', 'pre-process', 'validation', 'Training', 'pairs.', 'valuation', 'int32.', 'batch_size', 'scopes.', 'tf.placeholder.', 'previous.', 'anytime', 'val_data', 'loaded.', 'int32', 'defined,', 'transposes', \"wouldn't.\", '[Question]', 'embeddings,', 'initialized', 'kick', 'vocabulary', 'top.', 'embedding', 'define.', 'embeddings.', 'batch.', 'lookup', '.variable,', 'deviations', 'internet.', 'previously.', 'vocabularies.', 'Tensorflow', 'shines.', 'constraint,', 'concentrate.', 'emphasized.', 'tf.nn.', 'Nn', 'module.', 'API.', 'Embeddings?', 'interacting', 'presentations.', 'Effectively,', 'embeddings', 'semantic', 'Index', 'vocabulary,', 'EH', 'batch,', 'website', 'biases', 'batch_labels.', 'batch_inputs.', 'shines', 'num_sampled.', 'samples,', 'noisy', 'num_samples', 'num_classes', 'nasty.', 'get,', 'samples.', 'reduce_mean,', 'calling,', 'Keep_dims=True.', 'norm,', 'normalized_embeddings.', 'embeddings/norm.', 'feed.', 'missing,', 'calling.', 'Embeddings.', 'word2,', 'skipgram,', 'batch_data.', 'Train_data.', 'feed_dictionary', 'accordingly', 'batch_labels', 'session.run,', 'dictionary,', 'trains.', 'Print', 'reset', 'Gradient.', 'Optimizer.', 'gram', 'val_embeddings', 'embedding_lookup,', 'val', 'normalized_embedding', 'similarity', 'similarity.', 'val_dataset', 'incompatibility,', 'transpose_b.', 'returned', 'expensive,', '5,000', 'eval', 'noted', 'evaluates.', 'fetching', 'similarity,', 'top_k', 'magnitude.', 'top_k+1,', 'lookup,', 'indexes', 'obtains', 'splicing', 'utils,', 'GitHub', 'wish,', 'nearest,', 'reverse_dictrionary', 'gesture', 'final_embeddings', 'Oops,', 'scripting', 'group?', 'Perfect.', '128.', 'Ahh,', 'man,', '259,', '145', 'printing,', 'leaders', 'orbit,', 'epochs,', 'TensorBoard,', 'host,', 'organized.', \"that'll\", 'help,', 'Enter', 'bold,', 'slipped', 'complex,', 'matrixes', 'complex?', 'matrixes?', 'describe,', 'transform.', 'transform,', 'FFT', 'places,', 'has,', 'industries', 'Normally,', 'multiplications,', 'reduces', 'slowing', 'transforms', 'log(n),', 'hit,', 'recap', 'particular.', 'deal?', 'length?', 'reminder', 'z1,', 'z2', 'zn.', 'novelty', 'z,z1', 'C^n,', 'R^n.', 'z2,', 'Doing', 'W-Why', 'C^2,', 'added,', 'z1', 'conjugate', 'z1.', 'modulus', 'zn', 'conjugate.', 'z,', 'z.', 'conjugates.', 'Hermite,', 'pronounce', 'Hermitian', 'Herm-', 'adjective,', 'Hermitian.', 'product?', 'usually.', 'forced', 'matrixes.', 'Symmetric', 'com-', 'diagonal?', 'Perpendicular', 'q1,', 'q2', 'perpendicular?', 'qj', 'conjugate,', 'angles,', 'on-', 'short,', 'qj.', 'q-s', 'products,', 'conjugating', 'translating,', 'h-', 'R^n,', 'C^n.', 'C^n', 'symmet-', 'unitary,', 'signals', 'unitary', 'perpendicularity', 'EE', 'please,', 'departments?', 'electrical', 'humor', 'n-1,', 'inconvenient', 'n-1.', 'Course', 'power?', 'sixth,', '(n-1)', 'entry.', 'n-1', 'plane?', 'plain?', 'round.', 'drew,', 'constructed', 'powers?', 'twenty,', 'hoped,', 'TV?', 'clearly.', 'F4', 'ninth.', 'exponent', 'remarkable?', 'components,', 'confuse', 'A-', 'Gauss', 'zeroes,', 'orthogonal?', 'four?', 'hmm.', 'listened', 'conjugated.', 'conjugated,', 'orthonormal.', 'Length', 'perfectly,', 'O-', 'Hermitian,', 'transform?', 'F6,', 'F3,', 'F8', 'F4.', 'F(64)', 'F(32).', 'F(32)?', '64th', 'F(64).', 'do-', 'F(32)', '32nd', 'sh-', 'Ws.', 'W(64),', 'sixty', 'Wn', 'W(64)', 'W(32)?', 'W(32).', 'copies', '64.', 'sign,', 'sixty-', 'fix-up.', 'fix-up', 'odds.', 'x0,', 'x6', 'x5.', 'wired', 'instantaneous.', 'said?', 'separately,', 'multiplications.', '31st.', '32s', 'Break', 'F(32),', 'thirty-', 'six-', 'F(16)', 'F(16).', 'F(16),', 'F(32)s', 'permutations,', 'odds,', 'mult-', 'evens,', 'ten,', 'fourteen', 'Ds', 'gone,', 'making,', 'favor', 'sixteen.', 'fix.', 'Eventually', 'piling', 'Ds,', 'costing', 'zip,', 'counts', 'fix-ups', '64,', 'Six', 'wonderful,', 'count,', 'logarithm?', 'ten.', 'factoring', 'properly.', 'transforms,', 'hinged', 'definiteness,', 'dependent,', 'span.', 'subspace', 'subspace.', 'meanings.', 'spanning', 'definitions?', 'Ax', 'unknowns.', 'unknowns', 'x-s', 'elimination,', 'echelon', 'pivots', 'pivot', 'pivots.', 'complete,', 'reduce,', 'pivots,', 'n-m', 'zeros,', 'combination.', 'c1', 'x1+c2', 'cn', 'c-s,', '2V.', \"here's,\", '2V,', '2V1.', 'Suppose,', 'V1s', 'V2s', 'vector?', 'If,', 'V1s.', 'V2s?', 'Six.', \"vector's\", 'except,', 'V3.', 'vectors?', 'Dependent.', 'dependent?', 'V1,', 'V3', 'plane', \"Why's\", 'fact?', 'fits', 'x-s,', 'c3', 'art', 'c2', 'V3,', 'Vn', 'dependence-independence', 'combinations,', 'c-s.', 'seen,', 'official', 'stretch', 'English', 'popped', 'Vl', 'subspace,', 'span,', 'needing', 'compressing', 'Straightforward.', 'combinations.', 'spans', 'Vd', 'coming?', 'central.', 'Examples.', 'R^3.', 'Are,', 'axes,', 'Certainly,', 'c-s?', 'Far', 'Has', 'R^3?', \"there're\", 'R3', 'goof.', 'picked,', '-14', 'R^3', 'Invertible,', 'anymore', 'unique,', 'zillions', 'R^3,', 'shares', 'coming,', 'variety.', 'Sixes', 'definitional.', 'defined.', 'Independence,', 'Spanning,', 'Basis,', 'spanning.', 'quizzes', 'systematically.', \"can't,\", 'Two.', 'We,', 'This,', 'watch,', 'involved', 'rank.', 'hammering', 'apologize,', 'unanimous', 'zillions,', 'DIM,', 'invented.', 'Yes', 'no?', 'least.', 'columns?', 'spaces,', 'names.', 'kilograms.', '62.', '75', 'Weight', 'concretely,', 'reports', 'subroutine,', '9.', 'emphasizing', 'Note', '1.7.', '1.8.', 'body', 'determined,', '62', '1.7,', '21.5.', 'selected,', '23.', 'selected.', 'discussion.', 'timer', 'Throughout,', 'noting', 'emphasized', 're-emphasized.', 'uppercase', 'contrast,', 'Characterize', 'Rn', 'Rm,', 'T--', 'Rm--', 'perform', 'Rn.', 'e1,', 'e2,', 'en.', 'operated', 'operate', 'review.', 'fun,', 'vector--', 'specify.', 'dots.', 'set--', 'dots', 'x-axis.', 'Reflect', 'envisioning', 'envision,', 'tall,', 'Without', 'reflecting', 'reflection', 'x1.', 'using,', 'vectors--', 'R2--', 'your--', 'R2.', 'Transformation', 'transformation--', 'matrix-vector', 'product.', 'coded,', 'engineered.', 'Becomes', 'connects', 'Specifies', 'stretched', 'performed--', 'basics.', 'I--', 'shrink', 'reflection.', 'Diagonal', 'custom', 'programming--', 'graphics', 'multi-dimensional', 'ANA', 'BELL:', 'in-class', '\"You\\'re', 'Lost', 'Forest.', 'right?\"', '\"R-i-g-h-t?\"', '\"Go', '\"R-i-g-h-t\"', 'wanted--', 'little--', '\"while', \"'right'\", 'VICTOR', 'COSTAN:', 'gist', '6.006.', 'improvements.', 'Cost', 'skills.', 'handouts,', 'documents.', 'fox', 'Document', 'Operation', 'document,', 'documents', 'D1', 'D2.', 'document.', 'Somebody,', 'please.', 'twice?', 'The,', 'Fox,', 'Is,', 'In,', 'Hat', 'Awesome.', 'Outside,', 'capitalized,', 'grammar,', 'periods', 'sentences,', 'lowercase.', 'thick--', 'seriously', 'depressed,', 'Mhm.', 'fox.', 'scenario', 'painfully', 'beforehand?', 'Nope.', 'recurves', \"who's\", 'Lines', 'Line', 'abbreviating', 'liberally.', 'documents,', 'Reads', 'Breaks', 'frequency.', 'angle--', 'main,', 'scorecard', 'improved', 'reads', 'removes', 'sticks', 'follow?', 'nodding,', '14,', 'Too', '20,', '21,', 'run?', 'Once.', 'method?', 'Runs', '10?', 'Create', 'Constant', 'Constant,', 'iterates', 'alphanumeric', 'means?', 'alphanumeric?', 'Guesses?', 'Constant.', 'active,', '13.', 'executed', 'English,', '500-character', 'English?', 'formal,', \"Someone's\", 'paying', 'attention.', \"W's\", 'formal.', 'Constant?', 'append,', 'naive,', 'doubling,', 'alphanumeric,', 'Nice', 'handy.', 'Fourth', '18?', 'joins', 'the.', 'converts', 'End', 'clears', 'F-O-X.', 'nods,', 'initially,', 'omission.', 'sloppy', 'pretend.', '18,', 'fail,', 'fails.', 'fails', 'check,', 'prevent.', 'Wait,', 'minus.', 'characters--', '--all', 'intimidating.', 'Cool,', 'brave,', '14?', 'Nice.', '--where', '--a', '--columns?', '16.', 'intuitively?', 'Append', '917.', 'Sweet.', '19', 'Catch', 'woops,', '17,', 'Checking', '22?', 'Someone--', '17.', '23,', '[INTERPOSING', 'VOICES]', 'Pay', 'testing', 'tiny.', 'horribly', 'painful', 'reasoning.', 'matter--', 'overall,', 'appending', 'shortcut.', 'major,', 'trap.', '4?', '--length', 'paid', '1,003.', 'L2.', 'efficiency.', 'extend?', 'L1,', 'L2,', 'runs,', 'Third', '2K', '3K', '4K', 'asymptotically?', '1K', 'Ok.', '1K,', 'ZK', 'Slow', \"K's\", 'Half.', 'track?', '3K.', '2K,', '3K,', 'subtle', 'head,', 'Iteration', 'iterates.', 'F-O-I', 'fox,', 'real--', '--yep,', '6?', 'trap', 'indeed.', 'reassigning', 'together--', 'lists--', 'returned.', 'L1.', '1L,', 'Vector', 'Count', 'Oh.', 'huge.', 'beats', 'L1--', \"--you're\", 'W1', 'W2', 'dominate', 'Ask', \"can't--\", 'term--', '--those,', 'W1.', 'L1L2', \"don't,\", 'angle?', \"L1's\", 'bounded?', 'gibberish?', '50,000', '3,000', 'insight.', 'containing', 'realised', 'frequently', 'performed', 'costly.', 'V*V', '8*8', 'unweighted.', 'V-1', 'zeroth', '1th', '2th', 'V-1,', '2d', 'A[i][j]', 'boolean', 'Vertex', 'undirected', '0th', 'A[j][i].', 'halves.', 'directed', 'connections', 'adjacency', 'Scanning', 'scanning', 'wWe', 'A[I][J]', 'Overall', 'avoided.', 'Hash', 'non-existent', 'ages', 'Ajacency', 'connected,', 'redundant', 'lessser', 'consuming', 'consumed', 'unit.', 'sqaure', 'modeling', 'undetected', 'moreover', 'alot.', 'petabytes.', 'disk.', 'byts', 'terabytes.', 'wasted', 'hyperlinks', 'webpage', 'webpages', 'millions.', 'consume', 'Stokes', 'surface,', 'orient', 'compatible', 'flux', 'curl', 'dS.', 'clarify', 'evaluate.', 'substituting,', 'ndS.', 'things?', 'motivates', 'criterion', 'clarify.', 'removed.', 'removed,', 'connected?', 'origin?', 'sphere,', 'disk?', 'avoids', 'wiggle', 'connected.', 'disk,', 'cylinder.', 'topology', 'intersecting', 'doughnut', 'completely,', 'Everywhere', 'regions', 'conservative.', 'older', 'component.', 'violates', 'make?', 'converse', 'region?', 'independent;', 'C1', 'C2,', 'P0', 'C1,', 'C2', 'C2.', 'woops', 'dr', 'dS,', 'founding', 'achievements', '19th', 'century', 'sphere', 'torus,', 'prefer,', 'doughnut,', 'donut.', 'hole.', 'torus.', \"there's,\", 'topologists', 'surfaces,', 'invariant', 'holes', 'surfaces.', '18.02', 'food', 'thought:', 'spirals', 'Mobius', 'strip.', 'strip,', 'strip', 'glue', 'twist,', 'orientation,', 'oriented', 'orientation', 'into,', 'consistently', 'non-orientable', 'negatively', 'positively.', 'strips', 'climb-bottles', 'orientable.', 'counterintuitive.', 'hemisphere,', 'transparency.', 'spherical', 'slit', 'twisting', 'yourselves', 'well-defined', 'worried,', 'reviewing,', 'conventions,', 'S1.', 'S?', 'orientation.', 'outwards,', 'triple', 'dV.', 'priori', 'reviewing.', 'del', 'Ry', 'Qz', 'Pz', 'Rx,', 'Qx', 'Py.', 'Qz,', 'Rx', 'Py', 'yx', 'zx', 'zy', 'xz', 'yz.', 'xz,', 'Del', 'remark,', 'reinforces', 'del,', 'manipulated', 'exams.', 'reached', 'beasts', 'dz', 'dy,', 'cylindrical', 'commonly', 'dz.', 'solid,', 'solid?', 'orders.', 'rho', 'phi', 'orgy', 'Phi', 'rho,', 'laser', 'beam,', 'beam', 'solid.', 'exit.', 'Questions', 'inertia', 'gravitational', 'attraction', 'conceptually.', 'integrand.', 'integrals:', 'dotted', 'ndS', 'settings.', 'ndS,', 'express,', 'integrand,', 'bounds,', 'crowded.', 'seen?', 'yz', 'reminder.', 'ds', 'dz,', \"whatever's\", 'spheres', 'cylinders', '&lt;x,', 'z&gt;', 'cylinder,', '0&gt;,', 'somethings.', 'besides', 'stone,', 'F,', 'prepare', 'cake', 'comparison,', 'parameterize', 'somehow.', 'three-dimensional', 'mistaken.', 'evaluated.', 'bridges', 'how.', 'manners,', 'curl,', 'substitute,', 'curl.', 'bridge', 'stories.', 'handful', 'impact', 'INTRODUCTION:', 'OCW.MIT.edu.', 'contour,', 'decided,', 'weak,', 'target.', 'two-way', 'sends', 'First-order,', 'pays,', 'i*k*x?', 'variables?', 'controls', 'substituting', 'i*k*x', 'harmonic', 'dG/dt', 'du/dt.', 'side?', 'i*k,', 'Linear,', 'i*c*k,', 'i*k*c,', 'i*k*c*t,', 'c*t,', 'guide', 'solution:', 'von', \"Neumann's\", 'brilliant', \"i*k*x's.\", 'c*t', \"i*k*x's,\", 'xt-plane.', 'xt-plane', 'ct', '0;', 'travels,', 'lines?', 'travels.', 'Characteristic.', 'characteristic?', 'simplification.', 'cones.', 'cone.', 'snap', 'fingers,', 'characteristics.', 'typical.', 'assemble,', 'characteristics,', 'moving.', 'wall,', 'Shapes', 'certainly.', 'plural.', 'Lax-Wendroff', 'first-order', 'knows,', 'upwind,', 'solvable', 'du/dx.', 'stability?', 'Courant', 'phrase', 'unlimited.', 'Method', 'molecule.', 'n),', 'n).', 'parentheses?', 'CFL', 'CFL?', 'Lewy.', 'Courant,', 'Friedrichs,', 'Lewy,', 'Lewy', 'spotted', 'unstable,', 'method;', 'du/dx', 'one-sided.', 'one-sided', 'Neumann', 'did;', 'van', 'unstable', 'CFL,', 'chance.', 'draw.', 'propagating', 'refining', 'filling', 'nowhere.', \"t's.\", 'converge,', 'c*n', 'neighborhood', 'produced,', 'downwind.', 'incomplete', 'wind.', 'realizes', '1a,', '1b,', 'backward.', 'fail?', 'downwind', 'restrictive?', 'restrictive', 'Accuracy', 'ratios.', 'notices,', 'terrific,', 'only,', 'tackle,', 'Lax-Wendroff.', \"Courant's\", 'watches', 'r*u_(j+1,', 'i*k*n', 'j;', 'across;', \"t's\", 'Neumann.', 'Try', 'exponential:', 'permanent', 'tape', 'exponential?', 'characteristic.', 'safe', 'amplification', 'shorter,', 'amplified', 'by?', 'circle?', 'DC', 'normal.', 'unchanged.', 'Look,', 'sounded', 'news,', 'keeping,', 'u_(j-1,', 'accurate', 'shifted', 'recognizes', 'i*r', 'lost.', '5-2', 'Lax-Friedrichs', 'Lax-Wendroff,', 'started,', 'D.', 'objective', 'non-negativity.', 'disjoint--', 'therefore.', 'add.', 'invoke', '\"add\"', 'claim.', 'equality', 'Hence', 'valid.', 'insertion', 'deletion', 'traversal.', 'Prerequisite', 'Recursive', 'traversal', 'Nodes', '250', 'Programmatically', 'print.', 'Initially', 'exit', 'infinitely.', 'calls.', 'Hold', 'while,so', 'analyse', 'implementations', 'p-&gt;', 'p-&gt;data', 'console', 'p-&gt;next', 'print(200)', 'P-&gt;next', 'end-of-line', 'print(NULL)', 'print(250)', 'finishes', 'print(150).', 'Applications', 'allocated', 'heap,', 'allocation.', 'invoked', 'Main', 'executing.', 'paused', 'alocated', 'renamed', 'ReversePrint', 'reverseprint.', 'RP', 'ReversePrint(100).', 'null.', 'return,', 'ReversePrint(250)', 'Printf', 'ReversePrint(150)', 'console,', 'print,', 'watching!', 'overfitting.', 'fitting', 'expense', 'noise.', 'misguide', 'higher-order', 'approximate.', 'overfitting', 'VC', 'noisy,', 'noiseless,', 'polynomial.', 'tackle', 'about:', 'game,', 'targets,', 'noiseless.', 'Furthermore,', 'cure', 'disease,', 'characterized', 'noise,', 'extrapolating', 'non-existing', 'contribute', 'harmful', '4th-order', 'wiggly', 'dedicate', 'harms', 'parameterized', 'overfitting,', 'Today,', 'regularization.', 'validation,', 'Regularization', 'encounter.', 'outline,', 'informally,', 'criteria', 'regularizer,', 'ups', 'downs', 'regularizer', 'regularizer?', 'regularization', 'vigorous', 'mathematical,', 'mathematical.', 'ill-posed', 'ill-posed.', 'smoothness', 'well-developed', 'development.', 'Bayesian', 'prior,', 'developments', 'heuristics', 'encounter,', 'realistic.', 'activity', 'rigorous,', 'penny', 'wise,', 'foolish.', 'thumb.', 'heuristic.', 'handicapping', 'brakes,', 'activity,', 'fighting', 'regularization,', 'sinusoid.', 'variety', 'noticed,', 'bias-variance', 'simplistic', 'regularizing', 'brakes', 'sacrificing', 'gain.', 'prevents', 'diminished', 'judge', 'visually.', 'wins.', 'winner', 'width', 'expected,', 'diminished,', 'crazy.', 'expense,', '0.21.', '1.69.', '0.23.', 'treatment.', 'attacking', 'effects.', '0.21,', 'Totally', 'dramatic,', '0.33.', 'unregularized', 'linear,', 'grid.', 'unrestricted.', 'gap.', 'gap,', 'sweet', 'champion,', 'Knowing', 'setting,', 'development,', 'learn,', 'polynomials,', 'Legendre', 'alluded', 'L_2', 'L_3', 'interfere', 'monomials,', 'monomials', 'correlated.', 'weights,', 'saves', 'H_Q,', 'usual.', 'linearly,', 'parameterization', 'old-fashioned', 'underline', 'unknown.', 'apparatus.', 'depended', 'pin', 'unconstrained', 'refresh', 'x_N', 'x_N,', 'scalar,', 'y_n.', 'promoted.', 'w_lin,', \"z's.\", 'shut', 'constrained', 'constrain', 'weights?', 'H_2', 'H_10.', '2nd-order', 'H_10', '10th-order', 'Wait', 'H_10,', 'softer.', 'budget', 'concede', 'excluded', 'interpreting', 'hard-order', 'soft-order', 'excluding', 'however', 'w_reg,', 'constraint?', 'w_lin?', 'each,', 'cetera?', 'w_reg.', 'Lagrange', 'multipliers,', 'KKT,', 'pictorial', 'analytically.', 'plot.', 'contours', 'ellipsoid,', 'analytically,', 'minimizes', 'impression', 'mathematically.', 'w_lin.', 'absolute,', 'compromise', 'obey', 'error?', 'ellipse,', 'moving,', 'proportionality', 'twice--', 'hang', 'already--', 'suspiciously', 'minimizing.', 'differentiate.', 'logic,', 'unconditionally.', 'huge?', 'huge,', 'w_lin', 'nothing,', 'severe,', 'severe.', 'minimum,', 'Analytically,', 'correspondence.', 'outstanding', 'augmented?', 'promising.', 'optimization--', 'lends', 'restricting', 'Mathematically,', 'forbidding', 'full-fledged', 'member', 'forbidden.', 'Certain', 'stated,', 'regularizer.', 'equated', 'conveniently', '1/N', 'clean.', 'functional', 'case--', 'increments', 'unconstrained,', 'dominant', \"'I'.\", 'extreme.', 'enormous.', 'enormous,', 'dominates', 'w_reg', 'cares', 'something?', 'put.', 'unconstrained.', 'constrained,', 'appetizer.', 'Remember?', 'medicine', 'dose', 'medicine,', 'dose.', 'overdosing', 'constraining', 'flatter', 'fit,', 'mitigated.', 'medicine!', 'critical.', 'largely', 'Studying', 'heuristic', 'principled,', 'validation.', 'grace,', 'underfitting,', 'decay.', 'decay', 'specifically,', 'networks,', 'decay--', 'descent,', 'Batch', 'eta,', 'gradient.', 'backpropagation.', 'differentiating.', 'reorganize', 'w(t)', 'fellows,', 'w(t).', 'backpropagation', '0.999.', 'shrinking', 'informative.', 'obediently', 'unable', 'escape', 'grounds', 'suggesting.', 'decay,', 'networks.', 'layers,', 'units,', 'developed.', 'regularizers,', 'gamma.', 'gamma--', 'liberty', 'kills', 'extremes.', 'low-order', '10th', 'high-order', 'low-order,', 'layers.', 'affecting', 'accommodated', 'Tikhonov', 'well-studied', 'regularizers', 'w_1', 'w_Q', 'off-diagonal', 'w_3,', 'Gamma', 'high-order,', 'territory', 'variations.', 'extreme,', 'growth.', 'constraining,', 'underfit.', 'penalty', 'fatal,', 'regularizers.', 'regularizer--', 'evil.', 'downside,', 'fitting,', 'high-frequency.', 'culprit', 'overfitting?', 'non-smooth.', 'stronger', 'capture.', 'guideline', 'smoother', 'cure,', 'punishing', 'organisms', 'fight.', 'harm', 'patient,', 'killing', 'disease.', 'prefers', 'guideline.', '1/w', 'smoother.', 'parametrization', 'tendency', 'Omega.', 'explicitly,', 'minimize?', 'bell?', 'E_aug.', 'Less', 'sneaky.', 'Omega,', 'deliberately.', 'navigate', 'estimate.', \"Occam's\", 'razor,', 'E_aug', 'literally.', 'E_aug,', 'Better', 'holy', 'grail', 'slack,', 'vanilla', 'purple.', 'Purple', 'blue!', 'singleton,', 'Dream', 'on!', 'restricts,', 'circles', 'generically', 'methodology', 'fitting.', 'guiding', 'smoother--', 'smoother,', 'smooth,', 'rating,', 'rating', 'movie,', 'adjusting', 'rating.', 'susceptible', 'dedicated', 'rated', 'movies,', 'ratings.', 'clearly,', 'absence', 'movies', 'finicky', 'ratings', 'optimistic', 'winning', 'Netflix', 'competition.', 'lend', 'omega?', 'valid,', 'escaping', 'great-looking', 'shaky.', 'grace', 'harmful,', 'inevitable.', 'clean,', 'between?', 'neuron', 'layer.', 'multilayer', 'perceptrons', 'implementing,', 'camouflage', 'disguise.', 'dependency,', 'elimination.', 'generalizing.', 'overfit.', 'dimension--', 'combinatorially', 'weight?', 'nightmare,', 'awfully', 'anticipation', 'downstairs,', 'dominates.', 'gained', 'alone.', 'groups,', 'eliminated,', 'soft-eliminated.', 'Early', 'stopping,', 'job?', 'job,', 'principled.', 'optimizer,', 'blessing', 'Heuristic', 'engineers.', 'Separate', 'concerns.', 'Put', 'optimizing.', 'wishy-washy', 'uncertain.', 'stopping', 'colorful', 'noise?', 'indicated.', 'horrible', 'curiosity,', 'fooled', 'seal', 'cures', 'Q&amp;A.', 'snooping?', 'snooping.', 'blatant,', 'controlled', 'experimental', 'activity.', 'guidelines,', 'differently', 'Was', 'these?', 'appeal', 'learning--', 'grounding', 'idealized', 'extrapolate,', 'performance,', 'criterion.', 'tractable.', 'Missing', 'attributes', 'methodology,', 'regularization?', 'addressed,', 'afford,', 'steps--', 'continuum,', 'lying', 'grid', 'training?', 'added.', 'dependency', 'independent--', 'inherit', '52-card', 'deck,', 'persons.', '13', 'bridge.', 'ace?', 'fairly,', 'interpretation,', 'outcomes?', '52', 'persons', 'cards.', 'ago--', 'persons,', 'coefficient.', 'interest,', 'ace.', 'constructing', 'multi-stage', 'distribute', 'aces.', 'ace', 'spades', 'ace,', 'aces,', 'cardinalities.', 'partitions.', 'aces', 'cardinality,', 'cardinality', 'desired', 'cards,', 'card', 'players', 'player', 'placed', '51', '52,', 'hearts,', '51,', '39', 'person?', '49.', '0.105.', '10%', '[chance]', 'raises', 'cards?', 'likely?', 'thinking.', 'allocations', '[13]', 'reassuring', 'aij,', '(i,j).', 'essence,', 'arranging', 'grid,', 'Notice,', \"j's\", 'fixed?', 'well-defined,', \"aij's,\", 'indicated', \"aij's\", \"i's,\", \"j's,\", 'Graphically,', 'i,j', 'Terms', 'Alternatively,', 'qualification.', 'alternatives.', 'positive--', 'distinctions', 'being.', 'Nu', 'occurring', 'Mi', 'slower.', \"k's,\", 'high--', 'rates', 'slower,', 'mm1q.', 'mm1,', 'mm1q,', 'service', 'rattled', 'server,', 'discouraged', 'arrival.', \"P's\", 'birth/death', 'irreducible', 'communicates', 'mainly,', 'blah--', \"pi's,\", 'Pj', 'transient', 'null-recurrent,', 'admit', 'satisfactory', 'hyperactive', 'customers', 'server', 'arrive', '0.6.', \"mm1q's,\", 'queue', 'forever,', 'bazaar', '1.6.', '1.2.', 'high,', '0.4,', 'bizarre.', '3/4', 'mm1', 'unimportant.', '2/3', 'dribble', 'increasingly', 'rapidly', 'exponentially,', 'become.', 'caution', 'deal,', 'nonsense.', 'Check', 'reversibility', 'Fortunately,', 'Pi(j)', 'P(j)i', 'magical', 'embed', 't1,', 't2,', 'urge', 'leftward', 'memorylessness', 'reversible', 'jk', 'kj', 'pk', 'reversible,', 'reversibility.', 'reversible.', 'guessing', 'irreducible,', 'irreducibility.', 'equations--', 'sample-path', 'once--', \"Burke's\", 'M/M/1', 'steady-state', 'mu--', 'departure', 'process--', 'operating', 'active.', 'idle', 'coffee', 'amortized', 'convinces', 'departures', 'arrival,', 'supermarket', 'barrels', 'food,', 'breath', 'sigh', 'relief', \"customer's\", 'departs', 'service.', 'statements,', 'proud', 'baloney.', 'requirements', 'waiting', 'instantiation', 'ha,', 'while--', 'straightened', 'tandem', 'queues.', 'queues,', 'Departures', 'queue.', 'originally,', 'services,', 'iid,', 'inter-arrival', 'Conditional', 'departures,', 'iid.', 'busy.', 'mu1', 'mu2', 'queue?', 'M/M/1.', 'arrivals.', 'extent.', 'disbelieving', 'walks,', '45', 'martingales', 'martingales,', 'books', 'enough--', 'speeding', 'semi-Markov', 'walks.', 'animal.', 'about?', 'awful', \"n's.\", 's1,', 's2,', 's3,', 's4,', 'alpha?', 'once?', 'threshold?', 'overshoot', 'humongous.', 'walks', 'difficult,', 'tedious,', 'thresholds', 'thresholds.', 'gradually.', 'gradually,', 'thresholds?', 'cross?', 'crossing', 'communications', 'overflowing', 'Anytime', 'building?', 'customers,', 'facility.', 'room?', 'overflow', 'testing,', 'hypotheses,', 'smart,', 'ruin', 'catastrophes,', 'profits', 'experts,', 'minded', 'Bernoulli,', 'plunge', 'relearned', 'Stop', 'Ahead', 'supremum', 'algebra?', 'crosses--', 'necessarily,', 'S3,', 'S4,', 'crawling', 'climbing', 'numbers?', 'minor', 'maximum,', 'maximum?', 'supremum?', 'overshoot.', 'Ahead,', 'gambling', 'betting', 'capital.', 'someway.', 'Integer', 'sketching', 'happily', 'x5,', 'forth--', \"s's\", 'walks--', 'queuing', 'G/G/1', \"Little's\", 'occurs--', 'requires.', 'customer,', 'figure?', '0-th', 'queueing', 'finished,', 'queued,', 'wn,', 'wn', 'yn', 'queued', 'enters', 'xn--', 'Arrivals', 'services', 'max,', 'dropping.', 'bumped', 'naughty', 'kid', 'segments', 'detection', 'Decisions--', 'Control', 'freaks', 'decisions.', 'decisions?', 'decision,', 'respond', 'pretending', 'uncertainty.', 'Hypothesis', 'testing--', 'competing', 'theories', 'theories,', 'tests.', 'tests,', 'choice?', 'areas.', 'voting', 'vote', 'arise', 'rubber', 'hits', 'statisticians', 'Statisticians', 'Y1,', 'Y2,', 'Y3,', 'Y4,', 'additive', 'receiver,', 'sent,', 'sent?', 'experiments--', 'resolved', 'textbooks', 'conclusion.', 'validate', 'publish', 'papers', 'analog', \"Baye's\", 'alt', 'probabilities--', 'hypothesis--', 'p0', 'fought', 'terribly,', 'terrible', 'fights', 'non-Bayesian', 'statisticians.', \"they'd\", 'emerge.', 'AMARTYA', 'SHANKHA', 'BISWAS:', 'Feel', 'populate', \"Kruskal's\", 'variant', 'metals,', 'metals', 'Ci', 'kilogram,', 'metal.', 'minimizing--', 'ki', 'metal', 'ensure,', 'ki.', 'metals.', 'metals--', 'costs.', 'pick?', 'metal,', 'Ci.', 'minimized.', 'Ci,', 'Cn.', 'C1.', 'metal--', 'not--', 'Cj.', 'Cj', 'kj.', 'kilograms', 'Cj,', 'amount--', 't1', 'tn,', 'completion', 'end?', 'slower--', 'beginning?', 'Completion', 'does--', 'completed?', 'see?', 'processes--', 'average?', 'Makes', 'ti.', 'ti,', 'basically.', 'called--', 'pj--', 'So--', 'time;', 'same--', 'decreased', 'goes--', 'swapping', 'deltas,', 'swapping,', 'assumption--', 'inversions.', 'inversion.', 'overlap.', 'morning,', 'calendar.', 'calendar', 'possibly.', 'planned', 'overlapping,', 'attend', 'clones', 'clone', 'red,', 'blue.', 'Clone', 'clones,', 'day?', 'number--', 'clones.', 'starts,', 'clone.', 'symmetrical,', 'sort--', 'intersects', 'clashes', 'm-th', 'clone--', 'collides', 'clone,', 'interval?', 'either--', 'outward--', 'existing--', 'intersects.', 'wavy,', 'servers,', 'instance.', 'short--', 'jobs,', 'jobs.', 'tn.', 'ti', 'jobs', 'continuing', 'relevant.', 'completed', 'reward.', 'pushing', 'discuss.', 'Good?', 'forbid', 'considered,', 'thereby', 'reducing', 'prohibited', 'preference', 'augmented-error', 'Lagrangian', 'parameter--', 'guided', 'goals,', 'determination', 'benefit.', 'safe,', 'critical,', 'luck,', 'red--', 'penalty,', 'Validation', 'outline', 'aspects', 'place?', 'validation?', 'selection,', 'selection', 'cross-validation,', 'cheating,', 'by-now-famous', 'penalty.', 'overfit', 'discrepancy,', 'pose', 'concoct', 'inaccurate', 'minimized,', 'chase.', 'estimates', 'overfit,', 'out-of-sample?', 'out-of-sample,', 'untrue.', 'foreign', 'treating', 'nonetheless', 'swings', 'swing,', 'swing', 'rules--', 'E_val,', 'single-point', 'covariance', 'covariances.', 'covariances', 'variances,', 'off-diagonal.', 'normalizing', 'advantage.', 'estimates.', 'E_val', 'E_out--', 'estimating,', 'committing,', 'behaving', 'train,', 'validate.', 'regime.', 'D_train.', 'distinction.', 'utilities,', 'D_val.', 'reliability', 'reliability,', 'fluctuation,', 'fellow?', 'regime', 'deliver', 'reliable,', 'terrible!', 'price.', 'estimate?', 'estimated', 'pot.', 'piece.', 'D_train', 'train.', 'D_train,', 'D_val,', 'pot,', 'scenario,', 'poor.', 'universally.', 'estimates,', 'choices,', 'reliable.', 'fluctuations.', 'worlds.', 'counterexamples.', 'Use', 'successful', 'fret', 'crying', 'loud!', 'aspect.', 'nature.', 'magnify', 'scoot', 'Out-of-sample--', 'out-of-sample--', 'stopping.', 'E_test,', 'admire', 'actions', 'heck?', 'semantics.', 'optimistic,', 'pessimistic.', 'Optimism', 'optimism', 'disappointment.', 'deception.', 'e_1', 'e_2', 'e_2.', 'Unbiased', 'h_2.', 'mini', 'error--', 'e?', '1/2?', 'game--', 'applying--', 'realization.', '75%,', 'realization,', 'reported.', 'wait.', 'optimistic.', 'Fortunately', 'light,', 'swallow', 'Bias', 'minor.', 'respectable-size', 'conceding', 'understanding,', 'saw,', 'manifestation', 'machines?', '2nd', '5th', '5th-order', 'throughout,', 'choosing,', 'selection.', 'H_1', 'H_M.', 'usual,', 'labeling', 'g_1', 'g_M,', 'g_1,', 'g_2,', 'g_M.', 'estimates--', 'E_1,', 'E_2,', 'E_M.', 'alarm', 'bells--', 'E_m', 'g_m', 'chose,', 'E_m,', 'introduced,', 'discussed.', 'E_m.', 'report,', 'selected', 'killer.', 'inherently', 'ultimate', 'H_5.', 'H_5', 'E_val.', 'indication', 'circumstances', '30-some', 'chose--', 'chose.', 'audience,', 'question--', 'proper,', 'indirectly,', 'estimating.', 'evidence,', 'from--', 'finalists.', 'finalists,', 'trained', 'choose?', 'D_val', 'VC,', 'those--', 'final,', 'benignly', 'logarithmic,', 'nonetheless,', 'dismiss', 'off-hand.', 'grid--', 'cetera--', '0.127543.', 'faze', 'need?', 'stopping?', 'Epochs', 'continuity', 'reasonable-size', 'ruined,', 'contaminating', 'attraction,', 'tradeoff.', 'contamination,', 'contamination.', 'built-in', 'deceptive', 'bank', 'forecast', 'market.', 'contaminated.', '70', 'backpropagation,', 'contaminated', 'death.', 'pleasantly', 'surprised,', 'unpleasantly', 'surprised.', 'surprised', 'contaminated,', 'wisdom', 'bells,', 'dirty,', 'decisions,', 'cross-validation.', 'regime,', 'dilemma', 'discipline', 'granted.', 'finite-sample', 'introduced!', '\"leave', 'out\".', 'out\",', 'laughable,', 'D_n,', 'validation--', 'froze', 'crummy', 'D_1,', 'D_2,', 'tendency.', 'realizations', 'cross-validation', 'E_cv,', 'sessions,', 'sudden', 'respectable.', 'catch,', 'obviously--', 'e_3.', 'e_1.', 'e_3', 'Surprisingly,', '95', 'remarkably', 'illustrating', 'Added', 'decently.', 'Mind', 'dramatic', '3--', '99', 'suspect,', 'averaged,', 'grade--', 'grade,', 'apply.', 'pick,', 'slope.', 'indication,', 'notwithstanding', 'inherent,', 'systematic.', 'handwritten', 'huge--', 'off?', 'sessions.', '499', 'cutoff', 'surprisingly,', 'new?', 'totally,', 'nicely.', 'anomaly.', 'unregularized.', 'belong.', '0%.', 'went.', '0.8%.', '1.5%.', 'range--', '2.5%', '97.5%.', '98.5%.', '40%', 'exceed.', 'prevented', 'quickly--', 'Seldom', 'out\"', '100,000', 'sessions', '99,999', '100,000,', '99,000.', '100,000.', 'folds.', '10-fold.', '10-fold', '1/10', '9/10,', 'chunk.', 'in-house', 'parameters?', 'experience.', 'patently', 'little.', 'snooping', 'add?', 'described,', '10-fold,', '12-fold,', '50-fold,', 'described.', 'Inherently,', 'inside,', 'subsets,', 'process?', 'examples--', 'trustworthy', 'sampling', 'cross-validation?', 'Before,', '\"Leave', 'N-fold,', 'Absolutely.', 'utilities', 'seldom', 'consider?', 'assumptions.', 'criterion,', 'implement,', 'immune', 'evolution,', 'series--', 'forecasting--', 'systems,', 'Granted,', 'play,', 'swinging,', 'vulnerability', 'validate,', 'conceptually', 'low-pass', 'filtered', 'filters', 'off,', 'microphone,', 'house.', 'beneficial,', 'million--', 'ratings,', 'considerations', 'dividend', 'evidence.', 'favor.', 're-sample', 'enlarge', 'really?', 'premise?', 're-sample?', 'random?', 'pinned', 'definitively', 'imbalance,', 'imbalance', \"-1's,\", 'consideration,', 'all-constant,', '20-fold?', 'change?', 'behave?', 'scenarios', 'comparable,', 'heavy', 'folds,', 'hello', 'everybody.', 'Lecture', 'Definitely', 'production', 'exciting.', 'organizational', 'Queuestatus', '68', '8:30.', 'projects?', 'feasible', 'settings', 'accuracies.', 'modeling.', 'NLP', 'powerful.', 'dive', 'Language', 'useful?', 'translation,', 'translations', '\"the', 'cat', 'small\"', '\"small', 'cat\".', 'speech', 'recognition,', 'recognition', '\"walking', 'school\"', 'school\".', 'German', 'haus,', 'translation.', \"'cause\", 'utter', 'preceding', 'i_th', 'uttered', 'co-occur', 'corpus.', 'corpus', 'counts.', 'ideally', 'n-grams', 'methods?', 'improves', 'requirements.', '140', 'gigs', '126', 'token', 'n-gram', 'machine.', '4-gram,', 'frequent', '3-gram.', 'tri', '4-grams', 'combat', 'tie', 're-using', 'non-linearity', \"how's\", 'visualizations', 'couple.', 'unfolded', 'conditioned', 'H_t-1,', 'H_t+1.', 'Later', 'loosen', 'h_t-1', 'element-wise', 'non-linearity.', 'softmax', 'j_th', 's?', 'superscript', 'W_(hh),', 'hh', 't-', 'h_x', 'classifier.', 'W_(h)', 'W_(hx)', 'R_d', 'R_(Dh).', 'Dh', 'dimensionality,', 'W_h', 'W_hx', 'confusing,', 'indices.', 'neutral', 'visualized.', 'unrolled', 'hidden,', 'Yup?', 'x[t]?', 't_th', 'x_t', 'xt', 'glove', 'vec', 'tth', 'simplicity?', 'Variant', 'extensions', 'X[t]', '[t]', 'dimensionality.', 'W(S)', 'Softmax', 'machinery', 'derived.', 'nomenclature', 'unsupervised', 'supervised', 'just.', 'sequences,', 'reasons,', 'perplexity.', 'perplexed.', 'perplexity', 'perplexed', 'J?', 'rat', 'hole', 'Information', 'Sadly,', 'drawback', 'analyze,', 'propagation', 'amplifying', 'Ws,', 'midterm.', 'insights.', 'foreprop,', 'cross-entropy', 'propagate', 'deltas.', 'vanishing', 'downstream.', 'non-linearity,', 'softmax.', 'standard,', 'un-normalized', 'scores.', 'timestamp', 'dE_t', 'dy_t,', 'unnormalized', 'Yt.', 'yt', 'ht.', 'dig', 'h_t.', 'partials', \"h_t's\", \"h's\", 'backprop', 'Jacobians.', 'Jacobian,', 'ht', 'beast', 'multiply,', 'h_j.', 'W_t.', 'Elements', 'norms', 'maximally', 'Jacobians', 'explode,', '100th', 'vice-versa.', 'hk', '100th.', 'arrive.', 'signal,', 'exploding,', 'closer?', 'exploding', 'hacks', 'practice?', 'Jane', 'walked', 'John', 'hi', 'John,', 'Sequence', 'temporal', 'awesome', 'Shayne', 'intercession,', 'intermission.', 'Hi,', 'transition-based', 'parsing,', 'parser', 'encodes,', 'SyntaxNet.', 'SyntaxNet?', 'SyntaxNet', \"world's\", 'parser.', 'performant', 'languages.', 'Parse', 'McParseface.', 'seemed', 'jumbled', 'baseline', 'Chen', 'Manning', '2014.', 'respectively', 'instructor.', 'stages', 'improvements,', \"Manning's\", 'modifications', '2015', 'Weiss', 'al.', 'ado,', 'contributions.', 'leverage', 'unlabeled', 'Tri-Training.', 'tuned', 'modifications.', 'structured', 'seeks', 'tri-training.', 'sentences', 'rarely.', 'parsers', 'agreed,', 'independently', 'agreed', 'sentence,', 'tokens', \"network's\", '1%', 'attachment', 'score.', 'tags', 'layers', 'RELU', 'recover', 'sequences.', 'blossom', 'prune', 'K?', 'annotations', '&amp;', '92%,', 'phenomenal', 'boosted', '94%,', '0.6%', 'SyntaxNet,', '2016', '0.6%,', \"All's\", 'normalization.', 'takeaway,', 'stress', 'flaws', 'specifically.', 'semi-supervised', 'perception', 'awesome.', 'publishes.', 'Exciting', 'notebook', '231N', '(with', 'Andrej),', 'yellow,', 'spiral', 'clusterform.', 'nonlinearities.', 'worries.', 'nonlinearities,', 'element-wise,', 'relu,', 'SDG,', 'w1,', 'w2', 'w3', 'outputs,', 'dataset,', \"dataset's\", 'mini-batch,', 'realistic', 'datasets,', 'w1', 'relu.', 'relu', 'activations,', 'sigmoid,', 'visualize,', 'efficiently,', 'propagation,', 'propagation.', 'sigmoid.', 'dw,', 'step_size', 'SGD.', 'sigmoids', 'rectify', 'magnitudes', 'non-linearities.', 'softmax,', 'arrives', 'snippet', 'problems?', 'gradings', 'flatlining.', 'fitted', 'relue', 'rounder.', 'hack,', 'Thomas', 'Mikolov,', 'unmathematical', 'cap', 'hundredth', 'Intuitively.', 'clipping', 'Yoshua', 'Bengio', 'oftentimes', 'landscape', 'sg', 'rescale', 'thick', 'faraway', 'wall.', 'grading', \"get's\", '51st', '54', 'optimizers,', 'Adam', 'SGD', 'momentum,', 'visualise', 'landscape.', 'one-hidden', 'transferring', 'knowledge.', 'Ian', 'Goodfellow', 'settings,', 'Workflow.', 'sub-sample', 'visualizations.', 'dependence?', 'legit', 'Ideally', 'dependencies.', 'rarely', 'interactive.', 'IPython', 'Notebook,', 'Quoc', 'Le.', 'whh', 'whx', 'initialization,', 'optimizing,', 'Intuitively', 'updates.', 'tight', 'MNIST.', 'higher.', 'importantly', 'modeling,', 'Kneser-Ney', 'grams,', 'counts,', 'smoothing', 'corpora', 'Kneser-Ney,', 'based.', 'class-based', 'perplexity,', 'eproc', '10x', 'published', \"backward's\", 'accumulate', 'deltas', 'pass,', 'inefficient.', 'Window.', 'Window', 'organization', 'Named', 'Entity', 'Recognition', '(NER),', 'sentiment', 'liked', 'acting,', 'thin.', 'Predict', 'label.', 'opinionated', 'expressions,', 'Cornell', 'RNNs', 'opinion', 'mining', 'subjective', 'expressive.', 'ESEs', 'emotion', 'conveying', 'committee', 'refused', 'statements.', 'ESE,', 'tagging', 'BIO', 'token.', 'ESE', 'DSEs.', 'HH,', 'waits', 'directional', 'labelling', 'only?', 'predictions?', 'Words', 'predictions', 'bidirectional', 'reversing', 'superscripts', 'WHH,', 'ordinal,', 'RNN.', 'contacts', 'networks?', 'Convolutional', 'Neural', 'Networks?', 'Networks.', 'interactions', 'feet', 'HTs', 'HT', 'compete,', 'paralyze', 'and.', 'core,', 'yeah', 'extensions.', 'deeper.', 'superscript.', 'Characters', 'connections,', \"h's.\", 'monster', 'monstrous.', 'modifications,', 'ArXiv', 'odyssey', 'knobs', 'unwieldy', 'boost', 'connections.', 'imbalanced', 'frequent,', 'observe,', 'DSEs', 'Standard', 'non-sentiment', 'F1', 'metrics.', 'recall.', 'Precision', 'positives', 'negatives.', 'miss', 'recap.', 'Recurring', 'Gated', 'Units', 'LSTMs,', 'exciting,', 'Rich', 'watching.', 'heading', 'heading.', 'reinterpreted', 'vein', 'highlight', 'Zhedi', 'Berkeley.', 'compose', 'finishing', 'balance.', 'baselines', 'well-trained', 'investigating', 'bigram', 'logistic', 'trained?', 'tonight', 'Richard', 'Depending,', 'dinner', 'PM', \"he'll\", 'Azure,', \"Microsoft's\", 'GPU', 'fresh,', 'allotment', 'afternoon', 'accounts.', 'credits.', 'cancelled,', 'locked', 'reactivate', 'Really', 'credits', 'piazza', 'beforehand.', 'Preferably', 'TAs,', 'James', 'Nish', 'redirected', 'mission.', 'historically,', 'vision,', 'vision', 'Such', 'Yann', 'LeCun', 'Geoff', 'Hinton.', 'Bengio,', 'mag', 'quote', 'businessinsider.com.', 'panning', 'quoted', 'FAIR,', 'Research,', 'technology', 'dialogue', 'virtual', 'assistants,', 'okay', 'mentions', 'surprising.', 'Dialogue', 'net', 'measurably', 'phenomena', 'seminal,', 'understanding.', 'contrast.', 'recently.', '80s,', 'lofty', 'goals.', 'extremely,', 'modest.', 'realities', 'stars.', 'thinking,', 'LSTM', 'Peter', \"Norvig's\", 'Ph.D', 'thesis.', 'vaguely', 'Norvig', 'Artificial', 'Intelligence', 'Approach,', 'Russell', 'director', '30th', 'anniversary', \"Peter's\", 'Unified', 'Theory', 'Inference', 'Text', 'Understanding.', 'thesis?', 'shockingly', 'thesis,', 'analyzed', 'dissertation.', 'Bill', 'bicycle.', 'him,', 'baby', 'lately', 'dissertation', \"children's\", 'fishing', 'village', 'island', 'China,', 'young', 'boy', 'Chang', 'Lee', 'widowed', 'mother.', 'bravely', 'net,', 'fish', 'sea', 'bread.', 'sea,', 'villagers', 'China.', 'interpretive', 'China', 'distant', 'mediated', 'coast.', 'intends', 'net.', 'sea.', 'fish,', '80s', 'diametrically', '1980s,', 'believed,', 'suitable', 'inferences', 'fish.', 'decades', 'base,', 'forms.', 'outlines', 'inference', 'embodies', 'passage.', 'elaboration.', 'entities.', 'piggy', 'buying', 'contextual', 'resolution.', 'metaphor', 'Red', 'Sox', 'Yankees,', 'murdering', 'knifes', 'guns.', 'defeated', 'convincingly.', 'metaphor.', 'metaphors', 'interpretations.', 'interpretations,', 'concretization.', 'automobile,', 'driving', 'autonomous', 'cars', 'concretization', 'grained', 'Wilensky,', \"advisor's.\", 'PHRAN', 'sentences.', 'elaborations', 'NLP.', 'BiLSTMs', 'processing,', 'BiLSTM', 'parser,', 'renaissance', 'dialogue.', 'Answering', 'summarization.', 'Fairly', 'moribund', 'decade', '2000s', 'fantastically', 'generation.', 'springing', 'lately.', 'sorta', 'scientifically,', 'representations.', 'frames', 'localist', 'barely', 'scratched', 'LSTMs', 'ST', 'LSTM.', 'beings', 'flexibly', 'goals', 'plans.', 'dialogue,', 'plans', 'breeze.', 'accomplish', 'inter-sentential', 'clauses', 'relationships,', 'tree-structured', 'mine,', 'Sam', 'Bowman,', 'Jean', 'Gaultier', 'self,', 'constituent', 'clauses.', 'Maryland', 'Mojita', 'Iya', 'students.', 'wanting', 'political', 'ideology', 'mutual', 'liberal', 'hierarchical', 'rhetoric', 'dubbed', 'death', 'tax', 'adverse', 'businesses.', 'ideology,', 'interestingly', 'quotes', 'tax,', 'regards', 'ideology.', 'regarded', 'taxpayers', 'TARP,', 'recovery', 'Obama', 'administration,', 'corporations', 'amounts', 'taxpayer', 'arrogant', 'traits', 'companies.', 'Yeah', 'gray,', 'saved,', 'appealing.', 'competitive', 'fallen', 'favor,', 'disadvantages.', 'prohibitively', 'contributes', 'performing?', 'centerpiece', 'preferably', 'lock', 'TreeRNNs,', 'undermines', 'structural', 'threads,', '31', 'idle.', 'co', 'efficiency', 'benefits', 'Shift-reduce', 'Parser-Interpreter', 'Network', 'SPINN', 'TreeRNN,', 'shifts', 'reduces.', 'cat,', 'shift,', 'sat', 'stack.', 'reduces,', 'invalid.', 'stack,', 'reducing.', 'maintaining', 'composition,', '\"kinda', 'like\"', 'TreeRNN', 'composition', 'reshaping', 'efficiently?', 'vast', 'incrementally', 'zipper', 'techniques.', 'Spot', 'shifting,', 'backpointers.', 'backpointers', 'backpointers,', '(Spot', '(sat', 'down)).', 'supervision.', 'differentiable', 'reduce.', 'non-differentiability.', 'roundabout', 'parses,', 'non-differentiability,', 'actions.', 'ideas,', 'reinforcement', 'effectively,', 'pass.', 'LSTM,', 'sizes,', 'traditionally', 'inference,', 'entailment.', 'man', 'rides', 'bike', 'snow', 'apron', 'shopping', 'market,', 'preparing', 'entailment', 'female', 'babies', 'eating', 'chips', 'enjoying', 'chips,', 'SNLI', 'databases,', 'MS', 'COCO', 'describe.', 'scene', 'reference,', 'Turkers', 'photo.', 'entailments,', 'neutrals', 'contradictions', \"center's\", 'results,', 'RNN', '80.6%.', 'disappointingly,', '80.9%.', 'gains.', 'SNLI,', 'alignments', 'nevertheless,', 'finer', 'facts,', 'negation,', 'gymnast', 'floor', 'differentially', 'highlight.', 'Zhedi.', 'overview,', 'compositional,', 'attentional', 'representations,', 'jointly.', 'composed.', 'modules,', 'module,', 'module', 'predictor', 'assembles', 'cities', 'Georgia?', 'Layout', 'Model.', 'Model,', 'city,', 'Georgia.', 'assemble', 'fragment', 'layouts.', 'log-probability', \"layout's\", 'predictions.', 'produced', 'Atlanta', 'module,whose', 'coloured', 'focused', 'f(i).', 'directs', 'concatenating', 'Module.', 'Typically', 'Module', 'attentions.', 'State', \"sheep's\", 'ear', 'tag,', 'robe', 'woman', 'wearing.', 'image,the', 'dragging', 'boat,', 'board,which', 'amazing.', 'knowledge-based', 'parks', 'Florida,', 'Key', 'Largo', 'island.', '3%.', 'quarter,', 'prominently', 'cameo', 'appearance.', \"idea's\", \"group's\", 'Pointer', 'Sentinel', 'mixture', 'generational', 'coding,', '17', 'rare', 'lone', 'copy?', 'differentiable.', 'commonly,', '1-p.', 'placing', 'helped', 'BLEU', 'ton,', 'MT,', 'summarization', 'Interestingly,', 'Machine', 'Translation', 'release', 'unreliable', 'deep,', 'Word2Vec', '2011,', 'NLP,', 'processed,', 'alphabetic,', 'phonemic.', 'Italian', 'phonemic', 'Australian', 'Wambaya.', 'jiyawu', 'ngabulu,', 'contrasts', 'alphabetic', 'convoluted', 'thorough', 'sounds,', 'syllabic', 'moraic', 'syllable', 'yawn', 'gargle,', 'Inuktitut', 'Canada.', 'ideographic', 'Chinese,', 'pronunciation,', 'meanings', 'Japanese,', 'moraic,', 'vowel-consonant-vowel', 'idiographic', 'Japanese', 'borrows', 'Chinese.', 'Chinese', 'marked', 'Interestingly', 'Ancient', 'Greeks.', 'segmentation.', 'medieval', 'Monks', 'segmentation', 'Latin', 'segmented?', 'varied.', 'unsegmented', 'spacers', 'chisel', 'segmentation,', 'vary,', 'clitics', 'pronouns.', 'Je', 'vous', 'ai,', 'phonologically,', 'languages,', 'Arabic,', 'clitic', 'pronouns,', 'glum', 'Arabic.', 'compounds.', 'compounds', 'insurance,', 'company', 'employee.', 'handily', 'Life', 'Insurance', 'Company', 'employees,', 'whereas,', 'German,', 'unappealing', 'derivational', 'morphologies,', 'causatives', 'possessives', 'joined', 'inflectional', 'forms,', 'farmable', 'morphology', 'meeting,', 'creative', 'spellings', 'emotion.', \"o's\", 'Christopher', 'Czech,', 'translates', 'related,', 'Krystof.', 'phenomena.', 'linguistics,', 'morphemes.', 'morphemes,', 'fortune', 'ate', 'fortunate.', 'ending,', 'ly,', 'adverb', 'Mitchell', 'Tom', 'Luong', 'morphologically', 'n-grams.', 'Rumelhart', 'McClelland', 'humorously', 'wickelphones,', 'wickelphones', 'triples', 'inflections,', 'verbs', 'linguists', 'reacted', 'negatively.', 'Microsoft.', 'triples.', \"McClelland's\", 'internally', 'encoder', 'nimbleness', 'trigrams', 'encoding.', 'Rather', 'trigram.', 'convolutions', 'gains', 'morphemes', 'suffering,', 'media', 'morphological', 'commonality', 'proven', 'super,', 'successfully.', 'admission', 'skeptical', 'fortune,', 'fortunate,', 'unfortunate,', 'un,', 'ate,', '\"u\".', '\"f\"', 'composing', 'CMU.', 'Chris', 'Dyer', 'colleagues.', 'closed.', 'Doubly', 'hierarchically', \"other's,\", 'similarities', 'character-aware', 'highway', 'beginnings', 'word2vec.', 'CMU', 'incorporating', 'trends', 'sub-word', 'architectures', 'prominent,', 'morphology,', 'encoding', 'misnomer,', 'compression', 'allocating', 'ngrams', 'ngram', 'ngram.', 'low,', 'newest,', 'wildest.', 'vocab,', 'commonest', 'bigram,', 'vocabulary.', 'es,', 'est', 'commonest?', 'l,', 'morphology.', 'vocab.', 'vocab', 'greedily', 'preferring', 'longest', 'employed', 'university', 'Edinborough.', 'workshop', 'Edinborough', 'pairing', 'encoding?', 'Thang', 'worlds', \"word's\", 'character-based', 'similarity?', 'helps.', 'evaluations.', 'metrics', 'word-level', 'generalize,', 'hybrid', 'moderate', 'cute', 'LSTMs.', 'encoder.', 'resulting', 'unk', 'timestamp.', 'char-level', 'spilling', 'strength', 'Czech.', 'Czechs', 'English-Czech', 'competition', '2015,', '18.8', 'BLEU.', 'WMT', 'condemnation', 'NMT', '2.5', '11-year', 'daughter,', 'Shani', 'Bart', '11-year-old', 'MT', 'unks', 'Shani,', 'copied', 'across,', 'old.', 'badly,', 'nicely,', 'Tada,', 'finishing,', 'lessons,', 'Linked', 'List', 'List,', 'c++.', 'C/C++', 'resources.', 'Ok', 'non-contiguous', 'list.So', 'synonym', 'invalid', 'links.Now', 'fields.one', 'datatype', 'Double,', 'double.', 'node*.', 'Link', 'node*', 'node.If', 'Node*.', 'Logical', 'Node*', 'List.', 'code.To', 'clarity', 'here.So', 'where.', 'same.With', 'No-where', 'node.Creating', 'block.This', 'memory,memory', 'void', 'temp', 'de-reference', 'created.', 'variable.We', 'de-referencing', 'fields,so', 'temp.', 'temporarily', 'till', 'purpose.Our', 'intact', 'node.There', '*temp', 'bracketed', 'data.we', 'hyphen', 'this.And', 'this.To', 'simple.We', 'preferred', 'recommended.', 'list.When', 'position.', 'routines', 'insertions', 'unstructured', 'list.we', '2,4', 'list.At', 'this.So', 'here.Once', 'data.And', 'node,Write', 'node.To', 'temp1', 'temp1-&gt;', 'node.And', 'temp1-&gt;link', 'end.If', 'temp-&gt;data', 'loop.But', 'traversing', 'A.link', 'loose', 'modified,', 'modified.Only', 'logic.So', 'first.Then', '300.So', '100.To', 'Ideally,', 'ins', 'outs', 'Hopefully', 'vary.', 'A*x', '[2,', '7],', 'LU', 'equations?', 'invertible?', 'eliminations', 'pays', 'beast,', '3;', 'k;', 'E_(2,1).', '2;', 'accomplished', 'E_(3,1)', 'perform.', 'E_(3,2),', 'triangular.', 'out:', 'pivot.', '7]', 'solutions?', 'situation?', 'nontrivial.', 'nontrivial', 'nonzero,', \"entry's\", 'E_(3,2).', 'E_(2,1)', 'E_(3,2)', 'entries.', 'inverses', 'inverses.', 'respective', 'E_(3,1),', 'nonzero.', 'x_3', 'x_3.', '[x', '3].', 'aah,', 'chalk--', '2c,', 'decompose', '[1,', '0]', '2c', 'Ill', 'issues,', 'shortest-path,', 'shortest-path', 'coder.', 'forget,', 'algorithms--', 'interview,', 'Vertices', 'vertices,', 'Go.', 'brute-force,', 'brute-force', 'Enumerate', 'paths?', 'structure?', 'Klaus', 'Bellman-Ford.', 'Dijkstra,', 'Bellman-Ford', 'BFS.', 'BFS?', 'BFS', 'quickly?', 'neighbors.', 'Pick', 'neighbors?', 'neighbors', 'Sounds', 'neighbor', 'topological', 'visit.', 'numerate', 'neighbors,', 'levels.', 'circus', 'parent', 'pointers,', 'costs,', 'Sort--', 'Sort?', 'menu?', 'Kept', 'Congratulations.', 'deserve', 'Award.', 'Dijkstra.', 'cost--', 'B?', '--for', 'cost,', 'Presumably,', 'forth?', 'battle.', 'lowest.', 'rediscover', 'Tuesday?', 'Shreeny', 'Were', 'circles?', 'path?', 'risking', '(LAUGHS)', 'optimizations', 'constraints.', 'tweak', 'nodes?', 'AUDIENCE:Put', 'CLRS', 'granted,', 'Chances', 'slim.', 'Time-consuming,', 'error-prone,', 'questioning', 'textbook.', 'E?', 'readout.', 'taught.', 'most?', 'prime?', '--E', \"Bellam-Ford's\", 'V?', 'CRS?', 'Entry', 'Bellam-Ford?', 'par', 'Already', 'invent', 'feeling?', 'happy?', 'boxes.', 'Maps.', 'brothers.', 'drive', 'fair.', 'seats', 'drives', 'brothers', 'Tim', 'Jim.', 'alternate.', 'driven', 'distances,', 'city', 'highway.', 'York.', 'Hardest', 'Boston', 'traffic.', 'Piece', 'cake.', 'Tim.', 'God', 'crash.', 'mathy', 'terms?', 'edge?', 'Ya.', 'Jim', 'whoever', 'driver', 'edges?', \"Tim's\", 'Jim,', 'Tim,', 'fairest,', 'distributing', 'driving?', 'anyways.', \"journey's\", 'far--', 'breadth-first', 'heard,', 'diamond.', 'diamond,', 'more?', 'Math.', 'Rrrr!', 'Go!', 'diamonds?', 'Exponential', 'relaxation', 'suggestion?', \"Ther's\", 'cube?', 'cube.', 'plan--', '108,', '208?', '208', '208.', 'stuck,', 'backtrack,', 'nodes!', 'Seattle,', 'Portland,', 'San', 'Francisco?', 'copies.', 'Gosh.', 'copy,', '[QUIET', 'TALKING]', 'Odd.', 'road.', 'messed-up', '[WOMAN', 'LAUGHING]', 'odd?', 'God,', 'ugly,', 'graphs?', 'holographic', 'display,', 'nicer,', 'map,', 'highway,', 'Talk', 'Fight?', 'even?', 'magic!', 'works!', 'kinds.', 'Twice?', 'Breadth-first', 'Please,', 'right!', 'Negative--', 'Weights.', 'Arbitrary', 'Dijkstra!', 'destined', 'Award,', 'fuel', 'highways', 'York,', 'AM?', 'Rush', 'hour?', '3,600', '24?', 'consume.', 'AUDIENCE:Oh--', 'easier?', 'morning.', 'ya,', 'hurdle.', 'PROFESSOR:We', 'oriented.', 'itinerary', 'Ya,', 'destination.', 'priority.', '5:00', 'PM,', 'PM.', '5:01,', 'eco-friendly.', 'fuel.', 'consumes', 'fuel?', 'erased', 'diamonds', 'erased.', 'Transform', 'misses', 'vital.', 'Fuel', 'Thinking', 'priority,', 'fuels', 'state?', 'knows?', 'disagreeing.', '8:00', 'AM,', '9:00', 'states?', 'thinking?', 'vertex?', 'vertex,', 'promise', 'destination', 'it!', 'AUDIENCE:T', 'city.', 'Massachusetts,', 'drive--', '--vertical', '--represent', 'waiting.', 'Speed?', 'sheets', 'AM.', 'I-90', 'Massachusetts', 'names--', 'Albuquerque', 'Amherst.', 'Amherst,', 'Amherst', '10:00', 'makes?', 'arrive?', 'road?', 'timetable', 'M?', 'quick.', 'Pause', 'pause,', 'V--', 'vertices?', 'Plug', 'Done!', 'Yay,', '8:01', 'fastest--', '3;00', '3:01', '3:02,', 'hour,', 'save.', 'expression?', 'minute?', 'guys!', 'problem!', 'subtext', 'interrupt', 'harmless.', 'end-by-end.', 'spurious', 'generality.', 'bloodstream,', 'calculated.', '\"Where,\"', 'fuller', 'explanation,', 'i.e.,', 'self-evident', 'Ax1', 'Ax2.', 'Easy', 'linearity,', 'buzz', 'rough', 'adequate', 'mathematicians.', 'inadequate.', 'fry,', 'fry', 'Wronskian', 'Hey,', 'Wronskian?', 'Postpone', 'determinant,', '(x1,', 'x2).', 'Together', 'determinant.', 'equality.', 'colon', 'Wronskian.', 'or.', 'Wronskian,', 'horrible,', 'harmless', 'precursor', 'guides', 'side-by-side.', 'talking,', \"wasn't.\", 'stranger.', 'AX.', 'strange?', 'saying?', 'differentiated.', 'fancy.', 'y),', 'velocity', 'undo', '[x1,x2].', 'bing,', 'bing.', 'bong,', 'bong.', 'dah,', 'dah.', 'Shut', 'Got', 'Dah,', 'dah', 'us?', 'equal?', \"x2's.\", 'breath,', 'Inhomogeneous', 'solving,', 'Stuff', 'abbreviated', 'Except,', 'inhomogeneous.', 'Functions', 'abbreviation', 'homogenous', 'ax,', 'been.', 'green?', 'Ax,', '(x)p,', 'superposition.', 'break,', 'detour', 'Although,', '(x)p.', 'miracle', 'bt.', 'Laplace', 'Neither,', 'Xp', 'meat', 'bones', 'inhomogeneous,', 'tanks.', 'liter.', 'pipes.', 'pipe', 'fluids', 'flowing', 'rates.', 'liter', 'liters', 'dissolved', 'salt', 'salt,', 'tank', 'unequally', 'emptied', 'bursting', 'exploding.', 'explode.', 'liquid', 'concentration', 'steadily', 'declining', 'concentration.', 'system?', 'inflow', 'outflow.', 'outflow?', 'outflow', 'salt.', 'concentration,', 'distinguish.', 'tanks', '3x.', 'Concentration', 'liter?', 'changing.', 'attacked', 'pipes', 'general?', 'Ax.', 'cleverness', 'Lagrange,', 'shelf.', 'Variation', 'trust', 'eating.', 'Constants', 'was?', 'y1).', '(x2,', 'y2).', '(v1,', 'v2).', 'Look.', 'commutative,', 'fortunately.', 'tempting', 'plague', 'Substitute', 'substitute.', '18.01.', 'Trust', 'shuffle', 'carelessly.', '(x)p', 'miracle,', 'conclusion,', 'Xv', 'sloppily', 'Choice', \"matrix's\", 'failing', 'anti-derivative', \"r's\", 'integration?', 'recitations', '46', 'USA', 'gold,', 'UK', 'Romanian', 'Gold,', '74.', 'pop', '74', '74,', '74.75', 'Perfect,', 'multiply.', 'implicitly', 'mult.', 'mult', '12.', 'output--', 'trickiest', 'PATRICK', 'WINSTON:', 'Ladies', 'gentlemen,', 'drinking', 'song.', 'drunk', 'songs', 'audition', 'verses', 'sailor', 'blushing.', 'verses.', 'verse.', 'verse,', 'engineer.', 'wood.', 'rocks.', 'majoring', 'mystified', 'bungee', 'nail', 'demonstrating', 'subject.', 'Java,', 'principally', 'Web', 'Start.', 'mucking', 'depths', 'Anatolia', 'complaining', 'patterned', 'Terry', 'Winograd,', 'became,', 'professor', 'University--', 'west', 'pile', 'B2', 'B7.', 'B6', 'B3?', \"program's\", 'clever.', 'B7', 'B2.', 'B5', 'B2?', 'B4', 'B3', 'button.', 'B1.', 'Agh,', 'mouse', 'control.', 'B1', 'accidentally', 'activated.', '[SINGING]', 'Stop.', 'Had', 'put--', 'B4?', 'B1?', 'haunting', 'offended,', 'behavior?', 'subroutines', 'contains.', 'block?', 'grasp', 'ungrasp', 'put-on', 'commanded', 'ungrasp.', 'hints', 'haunted', 'music,', 'cue', 'grasp,', 'put-on.', 'Cleat', 'complex-looking', 'BX', 'BY.', 'subroutines.', 'clearing', 'B1,', 'BX.', 'trace', 'demonstrated', 'ago?', 'trace.', 'BX?', '4:', 'sees.', 'demonstration,', 'B2,', 'slavishly,', 'Timothy,', 'thought?', 'TIMOTHY:', 'accomplish.', 'Sebastian?', 'SEBASTIAN:', 'top?', 'avoiding', 'crescendo?', 'objectives,', 'trace,', 'familiar?', 'and-or', 'Sure,', 'consequence', 'matters--', \"'60s\", 'Herb', 'Simon,', 'Nobel', 'Laureate', 'Prize', 'Bob?', 'Prize,', 'titled', '\"The', 'Sciences', 'Artificial,\"', 'beach', 'ant.', 'ant', 'pebbles', 'beach,', 'environment,', 'metaphoric', \"Simon's\", 'Complex', 'goal-centered', 'rule-based', 'expert', 'burst', 'enthusiasm', 'prospects', 'commercial', 'artificial', 'intelligence', 'mid-1980s.', 'lengthy', 'articles', 'encapsulated', 'Thousands', 'identification.', 'classic', 'strangely', 'Stanford,', 'MYCIN.', 'diagnose', 'bacterial', 'infections', 'blood.', 'doctor', 'antibiotic', 'unpronounceable', 'bacterioides', 'anaerobic', 'analogous', 'identifying', 'animals', 'zoo,', 'town', 'zoo.', 'animal,', 'animal', 'hair.', 'claws.', 'Sharp', 'teeth.', 'forward-pointing', 'carnivores.', 'stereo', 'claws', 'teeth', 'anyhow,', 'carnivores,', 'meat.', 'spots,', 'cheetah.', 'hair,', 'mammal.', 'claws,', 'teeth,', 'eyes,', 'carnivore.', 'gate,', 'eat', 'carnivorous.', 'mammal', 'carnivore', 'African', 'zoo--', 'unpronouncable', 'name--', 'gates.', 'Several', 'rules,', 'R1,', 'gate', 'R4.', 'ourself', 'giraffes', 'penguins', 'forward-chaining', 'rule-based--', 'developed,', 'marketing', 'novice', 'knee-jerk', 'equipped', 'medical', 'novices', 'tradition', '5:', 'carnivore,', \"animal's\", 'claws?', 'mammal?', 'cheetah?', 'mammal,', 'wrapped', 'erasing', 'zoo', 'mommy,', 'mommy', 'cheetah,', 'spots.', 'cheetah', 'eats', 'inspection', 'spots', 'conclusions.', 'backward-chaining', 'mode,', 'deduction', 'MYCIN', 'appearance', \"'80s,\", 'department,', 'Ph.D.', 'Portuguese', 'architect', 'Siza.', \"Siza's\", 'housing', 'Siza', 'Jose', 'Duarte,', 'architecture,', 'Siza-like', 'houses', 'recommendations', 'desires', 'occupy', 'houses.', 'compelling', 'Duarte', 'designs', 'Siza,', 'It,', 'specialized', 'lingo.', 'groceries', 'bag', 'grocery', 'store.', 'house,', 'bag.', 'professional', 'baggers?', 'bagger.', 'LISA:', 'Lisa.', 'baggers.', 'simulating', 'desirous', 'groceries.', 'site,', 'Market', 'Basket,', 'Lisa,', 'fearful', 'rule?', 'engineer,', 'if-then', 'groceries?', '6:', 'bag,', 'volunteer?', 'bagged', 'Turkey?', 'baggers,', 'bagger', 'Turkey.', 'outsourced', '7:', 'squishies', 'tomatoes--', 'Tomatoes.', 'squished.', 'tomatoes', 'tomato', 'squishy', 'students,', 'Sloan', 'apple.', \"They'd\", 'contemplating', 'fruit', 'abstraction.', 'genius.', 'Amazing', 'Anyhow,', 'bagging', 'progress,', 'exercise--', 'principles', 'Lisa', 'milk.', 'potato', 'chips.', 'insofar', 'squishy.', 'macaroni.', 'motor', 'oil.', 'convenience', 'canned', 'olives.', 'elicit', 'Heuristic,', 'heuristics.', 'Birds', 'Eye', 'frozen', 'peas,', 'ugh,', 'peas.', 'touched', 'life--', 'Mars--', 'handling', 'peas', \"One's\", 'canned,', 'frozen.', 'Bingo,', 'frozen,', 'plastic', 'bag?', '8:', 'explanations.', 'explanation.', 'ball,', 'melt', 'summer.', 'cracks.', 'cracks', 'execute--', 'groceries,', 'grinding', 'halt,', 'bingo,', 'impasse?', 'discovering', 'electromagnetism', 'cylinder', 'primarily', 'mechanism,', 'mechanisms', 'smarter.', 'concludes', 'expert,', 'intelligence?', 'smart?', 'veneer.', 'crack.', 'crushed.', 'crushed,', 'angry,', 'crushed', 'debugging,', 'barrel', 'penicillin', 'administered', 'patient', 'agnostic', 'indications,', 'situations,', 'demonstration?', 'clip', 'speaks', 'promises,', 'web.', 'Guest.', 'options', 'synopsis', 'Macbeth', 'educated', 'Shakespearean', 'plots.', 'retained', 'Read', \"machine's\", 'finished.', 'Macbeth,', 'note.', 'Duncan', 'murdered.', 'Duncan,', 'murdered', 'Macbeth.', \"Duncan's\", 'dead', 'murdered,', '[LAUGHTER].', 'Macduff', 'Macbeth?', 'story,', 'angry.', 'somebody,', 'display.', 'elaboration', 'murders', 'murder', 'angered', 'rule-like', 'Hamlet.', 'Hamlet', 'demonstration', 'alike', 'well-illustrated', 'considerable.', 'deduced', 'anybody,', 'irritate', 'hallucination.', 'storytelling', 'axes.', 'drawn,', 'Rn--', 'multiples--', 'multiples,', 'cv.', 'projection,', 'precisely.', 'shining', 'l.', 'direction?', 'projection.', 'beaming', 'projection--', 'perceive', \"couldn't.\", \"you're,\", 'unintuitive,', 'l?', 'Orthogonality,', 'dotting', 'c--', 'exhibits', 'distributive', 'rewritten', 'rearranged', 'cv', 'Solving', 'this:', 'c?', 'multiple,', 'projections', 'simplified', '7/5.', 'daunted', 'strange-looking', '14/5', 'decimals.', '4/5,', '2.8.', '2/5,', '1.4.', '1.4', 'precisely,', 'projections.', 'correct--', 'important--', 'complete--', 'Brief', 'crush', 'crisp.', 'elegant.', \"mathematician's\", 'beauty.', 'museum,', 'artists', 'wow,', 'painting.', 'elegant', 'crisp,', 'clever,', 'mathematician,', 'art--', 'art.', 'lemmas', 'haphazard', 'Sometimes--', 'schools--', 'implications', 'fact--', 'liable', 'expect--', 'disastrous', 'Airbus', 'A300', 'jets', 'fly,', 'land', 'airline', 'industry.', 'flights', 'A300,', 'rear', 'door', 'landing.', 'crashed', 'radiation', 'cancer', 'patients', 'Therac-25.', 'race', 'occasionally,', 'slam', 'radiation--', 'patient.', 'lawsuits', 'election?', 'Al', 'Gore', 'George', 'Bush--', 'election--', 'recounting', 'votes', 'Florida.', '16,000', 'county', 'electronic', 'booths,', 'election', 'buggy.', 'chads', 'chances.', 'faulty', 'command', 'United', 'Airlines', 'grounded', 'fleets', 'airlines', 'screwed', 'Akamai.', 'Akamai', 'folks--', 'Danny', 'Lewin,', 'undergrads', '1990s.', 'web--', 'engines.', 'servers.', 'bugs.', 'awhile.', 'notice.', 'embarrassing.', 'scary,', 'someday--', '30,', 'write.', 'rock-solid', 'fries', 'someday,', 'flaws,', 'render', 'lazy.', 'dramatically', 'Gauss--', '1799.', 'rigorous', '\"If', 'Nobody,', 'knowledge,', 'doubted', 'fact.\"', 'Warning', 'signs--', 'buzzers--', 'brain.', '\"But', 'occasion,', 'intend', 'doubt.\"', 'believes', 'Fields', 'medalist--', 'medals', 'week--', 'Stephen', 'Smale', 'immense', '1920--', 'Poincare', 'week?', 'Colbert', '1900,', 'demoted', 'status', 'conjecture,', '6.042.', 'page,', '6.042', '10--', 'kitchen', 'sink.', 'mankind,', 'questioned', 'exam--', 'crib', 'sheet,', 'non-math', 'friends,', 'eight--', 'hand-waving--', 'favorites--', 'seven--', 'cumbersome', 'notation--', 'reader', 'confused,', 'encryptor,', 'six--', 'exhaustion--', 'omission--', 'faculty--', 'supply', 'analogous--', 'trivial.\"', 'Experts', 'trivial\"--', 'picture--', 'three--', 'vehement', 'assertion--', 'hand-waving.', 'forceful', 'voice,', 'intimidating', 'become,', 'intuition--', '\"any', 'moron', 'that.\"', 'reluctant', 'eminent', 'authority.', 'Fermat', 'elevator', \"Fermat's\", 'assertions', 'died.', 'theorem?', 'Raise', 'hand.', 'famous.', 'Pythagorean', '1637,', 'margin', 'margin.', '350', '100s', 'pages.', 'Wiles--', 'technique?', 'pound', 'puzzles', '1800s.', 'puzzles,', 'puzzle.', 'configuration.', 'blank,', 'alphabetical', 'legal', 'across.', 'played', \"Who'd\", 'pressure?', 'volunteers.', 'candy.', 'candy', 'prize', 'candy?', 'Nobody?', 'himself--', 'fight', 'scream', 'him.', 'figures', 'screw', '2:56,', 'Slide', 'Cannot', 'h--', '2:56.', 'moves--', 'sports,', 'prize.', 'candy,', 'Nerd', 'Pride', 'protectors', 'sports.', 'cruel', 'impossible?', '[INDISTINCT', 'CHATTER]', 'easier--', 'invariant.', 'tied', 'induction,', 'preserved', 'present--', 'hold--', 'preserved,', 'legally.', 'doomed.', 'invariant,', 'rightward', 'ordering--', 'lemma.', 'Lemma', 'Proof--', 'specify,', 'specification', 'letter--', 'i--', '9--', 'cell.', 'cell?', 'Relative', 'quantified', \"could've\", 'moves,', 'ordering', 'ordering.', 'hunt', 'Column', 'positions,', 'flipped.', 'puzzle', 'items,', 'L2--', 'precedes', 'alphabet,', 'inversions', 'puzzle?', 'Three.', 'Three,', 'parity', 'inversions?', 'odd--', 'Three--', 'Stays', 'changes--', 'order--', 'Two,', 'Decreases', 'flop', 'corollary', 'parity--', 'i.e.', 'During', 'evenness', 'oddness', 'Where?', \"pair's\", 'inverted,', 'pair?', 'parity.', 'reachable', 'inductive', 'invariants--', 'state--', 'Base', 'circumstances,', 'true--', 'puzzle,', 'made.', 'Corollary', 'One--', 'One?', '1st', 'move--', '1st.', 'corollary?', 'corollary,', '10-page', 'corollaries.', 'screwed.', 'fairly.', \"Nothing's\", 'Four,', 'lemmas,', 'enormously', '1880s.', '$1,000', 'today--', 'harder--', \"didn't--\", 'doable.', '\"by', 'hypothesis,\"', 'M0?', 'M1.', 'M2.', 's0.', 'valid?', 'bogus.', 'probably,', 'invariants', 'nuclear', 'reactor.', 'avoid--', 'meltdown.', 'reactor', 'meltdown', 'airplane,', 'device,', 'induction', 'predicate,', 'implication,', '\"assume', '1?\"', 'induction--', 'sub-stacks.', 'points--', 'Unstacking', 'Game.', 'stacks', \"That'll\", 'stakes', 'wins--', 'tie?', 'reps', '[CHEERS', 'AND', 'APPLAUSE]', 'win.', 'Ooh.', 'Ooh,', \"must've\", '16--', 'Off', 'pathetic', 'Class,', '[SIDE', 'CONVERSATION]', 'split--', \"strategy's\", 'ours.', 'lose.', 'already?', 'disorganized', 'headed', 'TAs--', 'best?', 'Class.', '26.', '22--', 'behind.', 'sleeves', 'Choose', 'Air', '26,', '27,', '28.', '7--', '28--', 'tie.', 'geez.', 'caught', '28?', 'probably.', 'plenty', 'baskets.', 'everybody,', 'hungry', 'n-block', 'Strong', 'induction?', 'predicate.', 'predicate--', 'predicate', '2n', 'one-block', 'starting.', 'split.', \"induction's\", \"TA's\", 'stuck?', 'tricks?', 'stronger.', 'stronger,', 'strengthen', 'Factorial.', 'Factorial--', 'factorial?', 'out--', 'forgot,', 'disappears.', 'unstackings', 'Alright!', 'Items.', 'scratch.', 'environments', 'career', 'fair,', 'forum.', 'career.', \"hour's\", 'grab', 'Huang', 'basement', 'chat.', 'Mostly', 'projects,', 'organization,', 'website,', 'hours,', 'captures.', 'word2vec,', 'effectively.', 'extrinsic', 'evaluations', 'belt', 'meant.', 'corpus,', 'deep.', 'UO.', 'VC.', 'aardvark.', 'zebra.', 'aardvark', 'collect,', 'window.', 'yep?', 'windows', '20,000', 'optimize.', 'dimensionality?', 'convex,', 'tips', 'circumvent', 'optima.', 'SGD,', 'Run', 'updates,', 'strings.', 'skip-gram', 'lied', 'hundred-dimensional', 'gigantic', 'repetitive,', 'regressions', 'co-occur.', 'package', 'Word2vec.', 'Distributed', 'Representations', 'Phrases,', 'compositionality.', 'slowly', 'co-occurring.', 'squashes', 'statistics,', 'midterms.', 'zone.', 'subsample', 'Zebra', 'hyperparameter,', 'unigram', 'three-fourth.', 'hacky', 'THE', 'never,', 'zebra', 'explored', 'irrelevant.', 'Orders', 'Often,', 'your...', 'Mini', 'Jt(theta)', 'windows,', 'intuitive,', \"word2vector's,\", 'surrounding', 'meaning,', 'PCA', 'weekdays', 'dissimilar', 'coocurrence', 'cooccur', 'coocurring', 'cooccur,', 'capture,', 'semantics,', 'nouns,', 'co-occurrence', 'article,', 'topics,', 'Latent', 'Semantic', 'Analysis,', 'swimming', 'boat', 'sun,', 'downstream', 'similarities.', 'despite', 'products.', 'optimizations,', 'co-occurence', 'enjoy', 'co-occurs', 'high-dimensional.', 'afterwards', 'robust', 'occurrence', 'decomposition?', 'brush', 'left-singular', 'tea', 'leaves,', 'noun,', 'verbness', 'patterns.', 'verbs,', 'liked,', 'flying', 'researcher,', 'representational', 'nouns.', 'noun', \"Zipf's\", 'peters', 'tail', 'equally.', 'correlations', 'significantly.', 'hacking', 'modifying', 'projecting', 'neighbours', 'wrist', 'ankle', 'shoulder.', 'extremities', 'countries,', 'country', 'amazing,', 'chromatical', 'show,', 'showed,', 'took,', 'Often', 'swim', 'swimmer,', 'janitor,', 'driver,', 'teacher.', 'Finnish', 'compound', 'rarer', 'post-doc', \"Chris'\", 'group,', 'Jeffery', 'Pennington,', 'Chris,', 'disadvantages', 'window-based', 'Skip-Gram', 'disproportionate', 'lowering', 'disadvantage', 'scales', 'However', 'patterns,', 'GloVe', 'Vectors', 'co-occurrences.', 'crawl.', 'Internet,', 'tokens.', '536', 'corpora.', 'semantics', 'individualization,', 'destroys', 'intuitions', 'skip-gram,', 'interchangeable', 'behaved', 'hey', 'Y?', 'concretely', 'intuitions,', 'alright,', 'hyperparameters.', 'interchangeable,', 'Glove', 'Alright', 'paraphrase?', 'contexts,', 'frequently,', 'co-occurrences', 'frog', 'evaluation,', 'intermission', 'Arun.', '[SOUND]', 'Polysemy.', 'polysemy?', 'clothing,', 'braid', 'lie?', 'Sanjeev', 'Arora', 'seek', 'polysemous', 'sport', 'Tie', 'garment', 'clothing.', 'wondering,', 'tie,', 'logistics', 'clothing', 'etc.', 'coding.', '2,000', 'music.', 'qualitative.', 'set-up.', 'WordNet,', 'blouse,', 'pants,', 'unrelated,', 'mouse,', 'keyboard.', 'guinea', 'pigs,', 'non-native', 'surveyed.', 'native', 'speakers', 'polysemy.', 'polysemies,', 'polysemy', 'wIth', 'speaker.', 'Awesome,', 'machinery.', 'subtask.', 'correlate', 'judgments', 'victory', 'hyperparameters', 'lunch', 'improvements', 'task?', 'route,', 'pudding,', 'Pearson', 'currents', 'knobs,', 'tuning', 'subsystems.', 'improved,', 'evaluations,', 'analogies.', 'analogies', 'king', 'Man', 'queen.', 'woman,', 'king.', 'queen', 'let’s', 'sir', 'madam', 'heir', 'heiress,', 'queen,', 'emperor', 'empress,', 'Subtractions', 'additions.', 'specific.', 'CEO', 'company,', 'title,', 'slowest', 'shortest,', 'strong,', 'strongest.', 'Sushi-', 'Japan', 'Germany', 'bratwurst,', 'mildly', 'offended', 'questionable.', 'foods.', 'Superlatives', 'superlative.', 'concurrence', 'quantitative.', 'Audi', 'sushi', 'well?', 'Analogies', 'Chicago', 'Illinois', 'Houston', 'Texas.', 'captured,', 'problematic.', 'capitals', 'countries', 'knob,', 'hyperparameter', 'tense', 'Dancing', 'danced', 'SG', '2013', '14', 'sadly', 'tokens,', '4%', 'impact.', 'descriptions', 'Abuja', 'Ashgabat', 'misspellings', 'Internet', 'texts', 'Geoffrey', 'passing.', 'emulate', 'plots', 'grades', 'mistakes', '600.', 'flat.', 'peter', 'hyperparameter.', \"window's\", 'ship', 'cellphone.', '2%', '30%', 'metric.', 'highest.', 'expressions.', 'evaluations?', 'regimes.', 'reviewer', 'Samples.', 'objective.', 'cocurrence', 'GloVe.', 'helps,', 'Gigaword', 'semantic,', 'Common', 'Crawl,', 'judgements.', 'tiger', 'internet', 'CD', '1.3', 'Euclidian', 'Sweden', 'Norway', 'Denmark', 'WordSim353', '353', 'host', 'datasets', 'WordSim', 'Glove.', 'correlations?', \"intrinsic's\", 'similarities,', 'recognition.', 'corporate', 'emails.', 'Norway,', 'judgements', '5:50,', 'classifying', 'contexts.', 'randomly.', 'bummer', 'listening', 'trained.', 'Word2vec', 'Finland,', 'Switzerland,', 'Loss', 'interchangeably.', 'late.', 'car?', 'car', 'descriptive', 'combination?', '\"n-choose-k,\"', 'n-element', 'similarly.', '[do]', 'n-choose-k.', 'stage?', 'arrange', 'According', 'two-stage', 'equality,', 'n-choose-k', 'equating', 'n-choose-k,', \"k's\", 'n-choose-n.', 'adopt', 'elements?', 'careful,', 'painful.', 'shortcut,', 'zero-element', 'one-element', 'algebraically.', 'nature?', 'SRINIVAS', 'coinage', 'flip,', 'recursive,', 're-run', 'resuming', 'generator', 'execution,', '700', 'runtime,', 'or--', 'executions--', 'randomized.', '99%.', 'parametrize', '110.', 'deterministically', 'Las', 'Vegas.', 'Vegas', 'yesterday,', 'called?', 'Oh!', 'deserves', 'goodness!', '[LAUGHS]', 'knows.', 'MB/TA.', 'Carlo,', 'Extrapolate.', 'gamble', 'Atlantic', 'City.', 'City', 'context.', 're-multiplying', 'guaranteeing', 'operand', 'squish', 'quicksort.', 'exactly?', 'quicksort', 'descending', 'ascending', 'scenarios,', 'Obviously', 'checker', 'additions,', 'pipelining', 'addition.', 'multiplies.', 'Karatsuba', '006.', 'trading', 'additions', 'standpoint,', 'standpoint.', 'Strassen.', 'analysis--', '2.81', '2.81.', '2.70', '143,000', 'Toom-Cook.', 'covered--', 'generalized', 'Strassen--', '70,', '2010', 'Coppersmith-Winograd,', '2.376.', 'faculty', 'shrunk', '2.376', '2.373.', '2.373,', 'won.', 'Person', 'forgetting', 'internet,', 'try--', 'verification', '2.3-whatever.', 'wrong--', '50%', 'executions', 'another--', 'coins--', '046,', 'matrices--', 'Boolean.', 'complexities', 'multiplies,', 'checker,', \"Freivald's\", 'straightforward,', 'randomness.', 'insanity.', 'all--', 'Br', 'Cr.', 'Else--', '6046.', 'cold.', 'Terrible!', 'owns', 'trial?', 'False', '[CLAPPING]', 'AB', 'associativity', 'multiplication--', 'columns--', 'negatives', 'Frievald', 'insight,', \"r's.\", 'randomly,', \"r's,\", 'ABr', 'Cr', 'wrongly,', 'r--', 'fraction--', 'Dr', 'Cr,', 'Dr,', 'show.', 'speaking--', 'r?', 'causing', 'crux', 'discovers', 'arts', 'Dij', 'Dij,', 'vj.', 'column-wise,', 'downward--', 'one-hot', 'Dv.', 'guaranteed,', 'non-zero,', 'Dv', 'j--', 'seventh', 'also--', 'Frisbee,', 'explain--', \"lady's\", 'DB', 'Dv,', 'white?', \"Yellow's\", 'this-', 'gotten,', 'loud', 'Dij--', \"Dij's.\", 'constructed,', 'one-to-one,', 'many-to-one', 'two-to-one.', 'twiddle', 'twiddle--', 'twiddle,', 'one-to-one.', 'twiddles', 'tweak--', 'sayiny--', 'half--', 'one-to-one', 'mapping.', \"weren't,\", 'top--', 'Majority', 'entry--', 'done--', 'Dvj.', 'specifics', 'result--', 'summarize--', '0.0001', 'incorrectly,', 'goodness.', 'practice--', 'performance--', 'in-place', 'quicksort,', 'primary', 'upfront', \"'62.\", 'Unlike', 'Mozart,', 'swapping.', 'allocate.', 'trillions.', 'mundane', 'split,', 'recurse.', 'balanced--', 'median', 'variants', 'The.', 'runtime.', 'variants,', 'elaborated', 'sub-arrays.', 'clearer.', 'finding,', 'than.', 'recurs', 'sub-arrays', 'Combine', 'trivial--', 'pivoting.', 'pivot,', 'Nontrivial', '171', 'partitioning', 'responding', 'amazingly,', 'A1.', 'A1,', '75.', '75,', 'An.', 'partition,', 'A1?', 'sorted--', 'T0,', 'unbalanced', 'randomize', 'shuffling', 'shuffle,', \"G's\", 'balanced,', 'intelligently.', 'finding.', 'gentleman', \"who'd\", 'chicken', 'Frisbee', 'A1--', 'medians', 'median,', 'median.', 'selecting', '2T', 'template', 'loses', 'calls,', 'quicksort?', 'flip--', 'n-sided', 'die--', 'variant,', 'paranoid', 'Perform', 'repeat.', 'exiting', 'pivot?', 'shows.', '3n', 'master', '4n', 'rules?', 'registered', '006', 'invocation--', '2Cn', '2Cn.', 'honestly', 'asymptotics.', 'seeing,', 'unbalanced.', 'pessimistic', '2C.', 'Drop'])"
      ]
     },
     "execution_count": 19,
     "metadata": {},
     "output_type": "execute_result"
    }
   ],
   "source": [
    "class_word_freq['Algorithms'].keys()"
   ]
  },
  {
   "cell_type": "code",
   "execution_count": null,
   "metadata": {},
   "outputs": [],
   "source": []
  },
  {
   "cell_type": "code",
   "execution_count": 20,
   "metadata": {},
   "outputs": [
    {
     "name": "stdout",
     "output_type": "stream",
     "text": [
      "Int64Index([729, 185, 294, 400, 677, 365, 599, 538, 481, 547, 822, 537, 281,\n",
      "            654, 533, 221, 277, 201, 690, 616, 136,  73, 309, 495, 239, 323,\n",
      "            476, 298, 432, 142,  58, 115, 839, 780, 465, 456,  77, 112, 364,\n",
      "            440, 561, 838, 750, 460, 549, 437, 273,  46, 841, 431, 286, 234,\n",
      "            808,  23, 316, 198, 129, 291, 778],\n",
      "           dtype='int64')\n"
     ]
    },
    {
     "data": {
      "text/plain": [
       "['The',\n",
       " 'following',\n",
       " 'content',\n",
       " 'is',\n",
       " 'provided',\n",
       " 'under',\n",
       " 'a',\n",
       " 'Creative',\n",
       " 'Commons',\n",
       " 'license.',\n",
       " 'Your',\n",
       " 'support',\n",
       " 'will',\n",
       " 'help',\n",
       " 'MIT',\n",
       " 'OpenCourseWare',\n",
       " 'continue',\n",
       " 'to',\n",
       " 'offer',\n",
       " 'high',\n",
       " 'quality',\n",
       " 'educational',\n",
       " 'resources',\n",
       " 'for',\n",
       " 'free.',\n",
       " 'To',\n",
       " 'make',\n",
       " 'a',\n",
       " 'donation',\n",
       " 'or',\n",
       " 'view',\n",
       " 'additional',\n",
       " 'materials',\n",
       " 'from',\n",
       " 'hundreds',\n",
       " 'of',\n",
       " 'MIT',\n",
       " 'courses,',\n",
       " 'visit',\n",
       " 'MIT',\n",
       " 'OpenCourseWare',\n",
       " 'at',\n",
       " 'ocw.mit.edu.',\n",
       " 'PROFESSOR:',\n",
       " 'OK.',\n",
       " 'So',\n",
       " \"let's\",\n",
       " 'get',\n",
       " 'started.',\n",
       " 'We',\n",
       " 'want',\n",
       " 'to',\n",
       " 'first',\n",
       " 'review',\n",
       " \"Wald's\",\n",
       " 'equality',\n",
       " 'a',\n",
       " 'little',\n",
       " 'bit.',\n",
       " \"Wald's\",\n",
       " 'equality',\n",
       " 'is',\n",
       " 'very',\n",
       " 'tricky',\n",
       " 'thing.',\n",
       " 'If',\n",
       " 'you',\n",
       " 'think',\n",
       " 'you',\n",
       " 'understand',\n",
       " 'it,',\n",
       " 'you',\n",
       " 'will',\n",
       " 'go',\n",
       " 'along.',\n",
       " 'And',\n",
       " 'at',\n",
       " 'some',\n",
       " 'point,',\n",
       " 'you',\n",
       " 'will',\n",
       " 'be',\n",
       " 'using',\n",
       " 'it',\n",
       " 'and',\n",
       " 'you',\n",
       " 'will',\n",
       " 'say,',\n",
       " 'I',\n",
       " \"don't\",\n",
       " 'understand',\n",
       " 'what',\n",
       " 'this',\n",
       " 'says.',\n",
       " 'And',\n",
       " 'that',\n",
       " 'will',\n",
       " 'happen',\n",
       " 'for',\n",
       " 'a',\n",
       " 'long',\n",
       " 'time.',\n",
       " 'It',\n",
       " 'still',\n",
       " 'happens',\n",
       " 'to',\n",
       " 'me',\n",
       " 'occasionally.',\n",
       " 'What',\n",
       " 'happens',\n",
       " 'is',\n",
       " 'you',\n",
       " 'work',\n",
       " 'with',\n",
       " 'it',\n",
       " 'for',\n",
       " 'longer',\n",
       " 'and',\n",
       " 'longer',\n",
       " 'times.',\n",
       " 'The',\n",
       " 'periods',\n",
       " 'when',\n",
       " 'it',\n",
       " 'becomes',\n",
       " 'confusing',\n",
       " 'become',\n",
       " 'rarer.',\n",
       " 'And',\n",
       " 'the',\n",
       " 'expected',\n",
       " 'time',\n",
       " 'to',\n",
       " 'straighten',\n",
       " 'it',\n",
       " 'out',\n",
       " 'becomes',\n",
       " 'smaller.',\n",
       " 'It',\n",
       " 'is',\n",
       " 'a',\n",
       " 'strange',\n",
       " 'kind',\n",
       " 'of',\n",
       " 'result.',\n",
       " 'So',\n",
       " 'we',\n",
       " 'started',\n",
       " 'out',\n",
       " 'with',\n",
       " 'a',\n",
       " 'stopping',\n",
       " 'trial',\n",
       " 'definition.',\n",
       " 'J',\n",
       " 'is',\n",
       " 'a',\n",
       " 'stopping',\n",
       " 'trial',\n",
       " 'for',\n",
       " 'a',\n",
       " 'sequence',\n",
       " 'of',\n",
       " 'random',\n",
       " 'variables.',\n",
       " 'If',\n",
       " \"it's\",\n",
       " 'a',\n",
       " 'random',\n",
       " 'variable',\n",
       " 'and',\n",
       " 'it',\n",
       " 'has',\n",
       " 'the',\n",
       " 'property',\n",
       " 'that',\n",
       " 'for',\n",
       " 'each',\n",
       " 'n',\n",
       " 'greater',\n",
       " 'than',\n",
       " 'or',\n",
       " 'equal',\n",
       " 'to',\n",
       " '1,',\n",
       " 'the',\n",
       " 'indicator',\n",
       " 'random',\n",
       " 'variable',\n",
       " 'indicator',\n",
       " 'of',\n",
       " 'J',\n",
       " 'equals',\n",
       " 'n',\n",
       " 'is',\n",
       " 'a',\n",
       " 'function',\n",
       " 'of',\n",
       " 'X1',\n",
       " 'to',\n",
       " 'X',\n",
       " 'sub',\n",
       " 'n.',\n",
       " 'In',\n",
       " 'other',\n",
       " 'words,',\n",
       " 'the',\n",
       " 'decision',\n",
       " 'of',\n",
       " 'whether',\n",
       " 'to',\n",
       " 'stop',\n",
       " 'at',\n",
       " 'time',\n",
       " 'n',\n",
       " 'is',\n",
       " 'a',\n",
       " 'function',\n",
       " 'of',\n",
       " '1',\n",
       " 'up',\n",
       " 'to',\n",
       " 'n.',\n",
       " 'A',\n",
       " 'possibly',\n",
       " 'effective',\n",
       " 'stopping',\n",
       " 'trial',\n",
       " 'is',\n",
       " 'the',\n",
       " 'same,',\n",
       " 'except',\n",
       " 'that',\n",
       " 'might',\n",
       " 'be',\n",
       " 'a',\n",
       " 'defective',\n",
       " 'random',\n",
       " 'variable.',\n",
       " 'And',\n",
       " 'the',\n",
       " 'reason',\n",
       " 'you',\n",
       " 'want',\n",
       " 'to',\n",
       " 'have',\n",
       " 'possibly',\n",
       " 'defective',\n",
       " 'random',\n",
       " 'variables',\n",
       " 'is',\n",
       " 'that',\n",
       " 'before',\n",
       " 'you',\n",
       " 'start',\n",
       " 'analyzing',\n",
       " 'something',\n",
       " 'that',\n",
       " 'might',\n",
       " 'be',\n",
       " 'a',\n",
       " 'stopping',\n",
       " 'rule,',\n",
       " 'you',\n",
       " 'generally',\n",
       " 'have',\n",
       " 'no',\n",
       " 'way',\n",
       " 'of',\n",
       " 'knowing',\n",
       " 'whether',\n",
       " 'that',\n",
       " 'actually',\n",
       " 'is',\n",
       " 'a',\n",
       " 'stopping',\n",
       " 'rule',\n",
       " 'or',\n",
       " 'whether',\n",
       " \"it's\",\n",
       " 'a',\n",
       " 'detective',\n",
       " 'stopping',\n",
       " 'rule.',\n",
       " 'So',\n",
       " 'you',\n",
       " 'might',\n",
       " 'as',\n",
       " 'well',\n",
       " 'just',\n",
       " 'say',\n",
       " \"it's\",\n",
       " 'a',\n",
       " 'defective',\n",
       " 'stopping',\n",
       " 'rule',\n",
       " 'to',\n",
       " 'start',\n",
       " 'with',\n",
       " 'and',\n",
       " 'show',\n",
       " 'that',\n",
       " \"it's\",\n",
       " 'not.',\n",
       " 'Then',\n",
       " 'from',\n",
       " 'that,',\n",
       " 'we',\n",
       " 'went',\n",
       " 'on',\n",
       " 'to',\n",
       " \"Wald's\",\n",
       " 'equality',\n",
       " 'which',\n",
       " 'added',\n",
       " 'the',\n",
       " 'condition',\n",
       " 'that',\n",
       " 'X',\n",
       " 'sub',\n",
       " 'n',\n",
       " 'that',\n",
       " 'this',\n",
       " 'is',\n",
       " 'based',\n",
       " 'on',\n",
       " 'is',\n",
       " 'a',\n",
       " 'sequence',\n",
       " 'of',\n",
       " 'IID',\n",
       " 'random',\n",
       " 'variables.',\n",
       " 'To',\n",
       " 'be',\n",
       " 'a',\n",
       " 'stopping',\n",
       " 'trial,',\n",
       " 'you',\n",
       " \"don't\",\n",
       " 'need',\n",
       " 'IID',\n",
       " 'random',\n",
       " 'variables.',\n",
       " 'You',\n",
       " \"don't\",\n",
       " 'need',\n",
       " 'any',\n",
       " 'restriction',\n",
       " 'at',\n",
       " 'all,',\n",
       " 'other',\n",
       " 'than',\n",
       " 'the',\n",
       " 'fact',\n",
       " 'that',\n",
       " 'you',\n",
       " 'can',\n",
       " 'make',\n",
       " 'a',\n",
       " 'decision',\n",
       " 'on',\n",
       " 'when',\n",
       " 'to',\n",
       " 'stop',\n",
       " 'based',\n",
       " 'on',\n",
       " 'what',\n",
       " \"you've\",\n",
       " 'already',\n",
       " 'seen.',\n",
       " \"That's\",\n",
       " 'the',\n",
       " 'only',\n",
       " 'condition',\n",
       " 'there.',\n",
       " \"Wald's\",\n",
       " 'equality',\n",
       " 'is',\n",
       " 'based',\n",
       " 'on',\n",
       " 'this',\n",
       " 'extra',\n",
       " 'condition',\n",
       " 'that',\n",
       " 'the',\n",
       " 'random',\n",
       " 'variables',\n",
       " 'are',\n",
       " 'IID.',\n",
       " 'Each',\n",
       " 'of',\n",
       " 'them,',\n",
       " 'with',\n",
       " 'some',\n",
       " 'mean,',\n",
       " 'X',\n",
       " 'bar.',\n",
       " 'If',\n",
       " 'J',\n",
       " 'is',\n",
       " 'a',\n",
       " 'stopping',\n",
       " 'trial',\n",
       " 'and',\n",
       " 'as',\n",
       " 'the',\n",
       " 'expected',\n",
       " 'value',\n",
       " 'of',\n",
       " 'J',\n",
       " 'is',\n",
       " 'less',\n",
       " 'than',\n",
       " 'infinity,',\n",
       " 'then',\n",
       " 'the',\n",
       " 'sum',\n",
       " 'S',\n",
       " 'sub',\n",
       " 'J',\n",
       " 'at',\n",
       " 'the',\n",
       " 'stopping',\n",
       " 'trial,',\n",
       " 'J,',\n",
       " 'satisfies',\n",
       " 'this',\n",
       " 'relationship',\n",
       " 'here.',\n",
       " 'And',\n",
       " 'remember',\n",
       " 'we',\n",
       " 'proved',\n",
       " 'that',\n",
       " 'last',\n",
       " 'time.',\n",
       " 'And',\n",
       " 'the',\n",
       " 'key',\n",
       " 'to',\n",
       " 'proving',\n",
       " 'it,',\n",
       " 'the',\n",
       " 'hard',\n",
       " 'part',\n",
       " 'of',\n",
       " 'it--',\n",
       " 'well,',\n",
       " \"it's\",\n",
       " 'not',\n",
       " 'hard',\n",
       " 'if',\n",
       " 'you',\n",
       " 'see',\n",
       " 'it.',\n",
       " 'But',\n",
       " \"what's\",\n",
       " 'difficult',\n",
       " 'is',\n",
       " 'when',\n",
       " 'you',\n",
       " 'start',\n",
       " 'looking',\n",
       " 'at',\n",
       " 'how',\n",
       " 'you',\n",
       " 'find',\n",
       " 'the',\n",
       " 'expected',\n",
       " 'value',\n",
       " 'of',\n",
       " 'S',\n",
       " 'sub',\n",
       " 'J',\n",
       " \"that's\",\n",
       " 'equal',\n",
       " 'to',\n",
       " 'a',\n",
       " 'sum',\n",
       " 'over',\n",
       " 'n',\n",
       " 'of',\n",
       " 'X',\n",
       " 'sub',\n",
       " 'n',\n",
       " 'times',\n",
       " 'the',\n",
       " 'indicator',\n",
       " 'function',\n",
       " 'of',\n",
       " 'J',\n",
       " 'being',\n",
       " 'greater',\n",
       " 'than',\n",
       " 'or',\n",
       " 'equal',\n",
       " 'to',\n",
       " 'n.',\n",
       " 'Now',\n",
       " 'the',\n",
       " 'condition',\n",
       " 'here',\n",
       " 'is',\n",
       " 'that',\n",
       " 'this',\n",
       " 'indicator',\n",
       " 'at',\n",
       " 'J',\n",
       " 'equals',\n",
       " 'n',\n",
       " 'is',\n",
       " 'a',\n",
       " 'function',\n",
       " 'of',\n",
       " 'these',\n",
       " 'quantities',\n",
       " 'here.',\n",
       " 'When',\n",
       " 'you',\n",
       " 'add',\n",
       " 'the',\n",
       " 'IID',\n",
       " 'quantity',\n",
       " 'down',\n",
       " 'here,',\n",
       " 'what',\n",
       " 'you',\n",
       " 'find',\n",
       " 'then',\n",
       " 'is',\n",
       " 'the',\n",
       " 'indicator',\n",
       " 'function',\n",
       " 'for',\n",
       " 'J',\n",
       " 'greater',\n",
       " 'than',\n",
       " 'or',\n",
       " 'equal',\n",
       " 'to',\n",
       " 'n.',\n",
       " \"It's\",\n",
       " 'also',\n",
       " 'the',\n",
       " 'indicator',\n",
       " 'function',\n",
       " 'for',\n",
       " 'J',\n",
       " '1',\n",
       " 'minus',\n",
       " 'the',\n",
       " 'indicator',\n",
       " 'function',\n",
       " 'for',\n",
       " 'J',\n",
       " 'less',\n",
       " 'than',\n",
       " 'n.',\n",
       " \"It's\",\n",
       " 'independent',\n",
       " 'of',\n",
       " 'X1',\n",
       " 'up',\n",
       " 'to',\n",
       " 'X',\n",
       " 'sub',\n",
       " 'blah,',\n",
       " 'blah,',\n",
       " 'blah.',\n",
       " 'That',\n",
       " 'indicator',\n",
       " 'random',\n",
       " 'variable',\n",
       " 'is',\n",
       " 'then',\n",
       " 'a',\n",
       " 'function',\n",
       " 'only',\n",
       " 'of',\n",
       " 'X1',\n",
       " 'up',\n",
       " 'to',\n",
       " 'X',\n",
       " 'sub',\n",
       " 'n',\n",
       " 'minus',\n",
       " '1,',\n",
       " 'because',\n",
       " \"it's\",\n",
       " '1',\n",
       " 'minus',\n",
       " 'the',\n",
       " 'indicator',\n",
       " 'of',\n",
       " 'J',\n",
       " 'less',\n",
       " 'than',\n",
       " 'or',\n",
       " 'equal',\n",
       " 'to',\n",
       " 'n',\n",
       " 'minus',\n",
       " '1.',\n",
       " 'J',\n",
       " 'less',\n",
       " 'than',\n",
       " 'n,',\n",
       " 'which',\n",
       " 'means',\n",
       " 'that',\n",
       " 'X1',\n",
       " 'up',\n",
       " 'to',\n",
       " 'X',\n",
       " 'n',\n",
       " 'minus',\n",
       " '1',\n",
       " 'is',\n",
       " 'independent',\n",
       " 'of',\n",
       " 'Xn.',\n",
       " 'And',\n",
       " 'X1',\n",
       " 'up',\n",
       " 'to',\n",
       " 'X',\n",
       " 'n',\n",
       " 'minus',\n",
       " '1',\n",
       " 'is',\n",
       " 'what',\n",
       " 'determines',\n",
       " 'this',\n",
       " 'indicator',\n",
       " 'function',\n",
       " 'J',\n",
       " 'less',\n",
       " 'than',\n",
       " 'n.',\n",
       " \"It's\",\n",
       " 'the',\n",
       " 'J',\n",
       " 'less',\n",
       " 'than',\n",
       " 'n',\n",
       " 'which',\n",
       " 'is',\n",
       " 'important.',\n",
       " 'So',\n",
       " 'we',\n",
       " 'got',\n",
       " 'that',\n",
       " \"Wald's\",\n",
       " 'equality.',\n",
       " 'What',\n",
       " 'I',\n",
       " 'want',\n",
       " 'to',\n",
       " 'do',\n",
       " 'today',\n",
       " 'to',\n",
       " 'start',\n",
       " 'off',\n",
       " 'with',\n",
       " 'is',\n",
       " 'to',\n",
       " 'do',\n",
       " 'the',\n",
       " 'elementary',\n",
       " 'renewal',\n",
       " 'theorem,',\n",
       " 'which',\n",
       " 'is',\n",
       " 'a',\n",
       " 'strange',\n",
       " 'result.',\n",
       " \"Wald's\",\n",
       " 'equality,',\n",
       " 'you',\n",
       " 'can',\n",
       " 'use',\n",
       " 'it',\n",
       " 'to',\n",
       " 'determine',\n",
       " 'the',\n",
       " 'expected',\n",
       " 'value',\n",
       " 'of',\n",
       " 'N',\n",
       " 'of',\n",
       " 't.',\n",
       " 'Now',\n",
       " 'why',\n",
       " 'do',\n",
       " 'we',\n",
       " 'want',\n",
       " 'to',\n",
       " 'determine',\n",
       " 'the',\n",
       " 'expected',\n",
       " 'value',\n",
       " 'of',\n",
       " 'N',\n",
       " 'of',\n",
       " 't?',\n",
       " 'We',\n",
       " 'already',\n",
       " 'have',\n",
       " 'shown',\n",
       " 'in',\n",
       " 'great',\n",
       " 'generality',\n",
       " 'that',\n",
       " \"there's\",\n",
       " 'a',\n",
       " 'very',\n",
       " 'nice,',\n",
       " 'with',\n",
       " 'probability,',\n",
       " 'one',\n",
       " 'type',\n",
       " 'limit',\n",
       " 'theorem',\n",
       " 'associated',\n",
       " 'with',\n",
       " 'N',\n",
       " 'of',\n",
       " 't',\n",
       " 'over',\n",
       " 't.',\n",
       " 'We',\n",
       " 'know',\n",
       " 'that',\n",
       " 'N',\n",
       " 'of',\n",
       " 't',\n",
       " 'over',\n",
       " 't',\n",
       " 'approaches',\n",
       " 't',\n",
       " 'with',\n",
       " 'probability',\n",
       " '1.',\n",
       " 'Namely,',\n",
       " 'all',\n",
       " 'the',\n",
       " 'sample',\n",
       " 'functions,',\n",
       " 'except',\n",
       " 'a',\n",
       " 'set',\n",
       " 'of',\n",
       " 'probability',\n",
       " '0,',\n",
       " 'all',\n",
       " 'approach',\n",
       " 'this',\n",
       " 'same',\n",
       " 'constant,',\n",
       " '1',\n",
       " 'over',\n",
       " 'X',\n",
       " 'bar.',\n",
       " 'So',\n",
       " 'it',\n",
       " 'seems',\n",
       " 'that',\n",
       " 'we',\n",
       " 'know',\n",
       " 'everything',\n",
       " 'we',\n",
       " 'want',\n",
       " 'to',\n",
       " 'know',\n",
       " 'about',\n",
       " 'the',\n",
       " 'expected',\n",
       " 'value',\n",
       " 'of',\n",
       " 'N',\n",
       " 'of',\n",
       " 't,',\n",
       " 'about',\n",
       " 'N',\n",
       " 'of',\n",
       " 't,',\n",
       " 'and',\n",
       " 'everything',\n",
       " 'else.',\n",
       " 'But',\n",
       " 'no.',\n",
       " 'And',\n",
       " 'there',\n",
       " 'are',\n",
       " 'two',\n",
       " 'reasons',\n",
       " 'why',\n",
       " 'you',\n",
       " 'want',\n",
       " 'to',\n",
       " 'do',\n",
       " 'something',\n",
       " 'more',\n",
       " 'than',\n",
       " 'that.',\n",
       " 'One',\n",
       " 'of',\n",
       " 'them',\n",
       " 'is',\n",
       " 'that',\n",
       " 'very',\n",
       " 'often',\n",
       " 'you',\n",
       " 'want',\n",
       " 'to',\n",
       " 'know',\n",
       " 'how',\n",
       " 'N',\n",
       " 'of',\n",
       " 't',\n",
       " 'over',\n",
       " 't',\n",
       " 'approaches',\n",
       " 'the',\n",
       " 'limit',\n",
       " 'of',\n",
       " '1',\n",
       " 'over',\n",
       " 'X',\n",
       " 'bar.',\n",
       " 'The',\n",
       " 'other',\n",
       " 'is',\n",
       " 'that',\n",
       " 'sometimes',\n",
       " 'you',\n",
       " 'really',\n",
       " 'are',\n",
       " 'interested',\n",
       " 'in,',\n",
       " 'what',\n",
       " 'is',\n",
       " 'N',\n",
       " 'of',\n",
       " 't',\n",
       " 'at',\n",
       " 'some',\n",
       " 'finite',\n",
       " 'value',\n",
       " 'of',\n",
       " 't?',\n",
       " 'N',\n",
       " 'of',\n",
       " 't',\n",
       " 'is',\n",
       " 'a',\n",
       " 'random',\n",
       " 'variable,',\n",
       " 'some',\n",
       " 'finite',\n",
       " 'value',\n",
       " 'of',\n",
       " 't.',\n",
       " 'So',\n",
       " 'you',\n",
       " \"can't\",\n",
       " 'evaluate',\n",
       " 'it.',\n",
       " 'But',\n",
       " 'at',\n",
       " 'least',\n",
       " 'you',\n",
       " 'would',\n",
       " 'like',\n",
       " 'to',\n",
       " 'know',\n",
       " 'what',\n",
       " 'its',\n",
       " 'expected',\n",
       " 'value',\n",
       " 'is.',\n",
       " 'You',\n",
       " 'might',\n",
       " 'want',\n",
       " 'to',\n",
       " 'know',\n",
       " 'what',\n",
       " \"it's\",\n",
       " 'variance',\n",
       " 'is',\n",
       " 'too.',\n",
       " 'But',\n",
       " 'people',\n",
       " 'who',\n",
       " 'study',\n",
       " 'renewal',\n",
       " 'theory',\n",
       " 'have',\n",
       " 'spent',\n",
       " 'an',\n",
       " 'enormous',\n",
       " 'amount',\n",
       " 'of',\n",
       " 'time',\n",
       " 'on',\n",
       " 'trying',\n",
       " 'to',\n",
       " 'find',\n",
       " 'the',\n",
       " 'expected',\n",
       " 'value',\n",
       " 'of',\n",
       " 'N',\n",
       " 'of',\n",
       " 't.',\n",
       " \"It's\",\n",
       " 'the',\n",
       " 'basic',\n",
       " 'problem',\n",
       " 'that',\n",
       " 'people',\n",
       " 'work',\n",
       " 'on',\n",
       " 'all',\n",
       " 'the',\n",
       " 'time.',\n",
       " 'The',\n",
       " 'elementary',\n",
       " 'renewal',\n",
       " 'theorem',\n",
       " 'is',\n",
       " 'something',\n",
       " 'which',\n",
       " 'says',\n",
       " 'a',\n",
       " 'little',\n",
       " 'more',\n",
       " 'for',\n",
       " 'finite',\n",
       " 'times.',\n",
       " 'And',\n",
       " 'it',\n",
       " 'actually',\n",
       " 'says',\n",
       " 'the',\n",
       " 'expected',\n",
       " 'value',\n",
       " 'of',\n",
       " 'N',\n",
       " 'of',\n",
       " 't',\n",
       " 'over',\n",
       " 't',\n",
       " 'and',\n",
       " 'the',\n",
       " 'limit',\n",
       " 'is',\n",
       " 'equal',\n",
       " 'to',\n",
       " '1',\n",
       " 'over',\n",
       " 'X',\n",
       " 'bar.',\n",
       " 'Sounds',\n",
       " 'like',\n",
       " 'much',\n",
       " 'less',\n",
       " 'than',\n",
       " 'what',\n",
       " \"we've\",\n",
       " 'done',\n",
       " 'before.',\n",
       " 'And',\n",
       " 'perhaps',\n",
       " 'this',\n",
       " 'is',\n",
       " 'because',\n",
       " 'this',\n",
       " 'was',\n",
       " 'a',\n",
       " 'computational',\n",
       " 'thing',\n",
       " 'that',\n",
       " 'people',\n",
       " 'could',\n",
       " 'do',\n",
       " 'without',\n",
       " 'computers,',\n",
       " 'before',\n",
       " 'computers',\n",
       " 'came',\n",
       " 'along.',\n",
       " 'And',\n",
       " 'all',\n",
       " 'the',\n",
       " 'work',\n",
       " 'on',\n",
       " 'renewal',\n",
       " 'theory',\n",
       " ...]"
      ]
     },
     "execution_count": 20,
     "metadata": {},
     "output_type": "execute_result"
    }
   ],
   "source": [
    "print(temp_df.index)\n",
    "temp_df['text'][729].split()\n"
   ]
  },
  {
   "cell_type": "code",
   "execution_count": 21,
   "metadata": {},
   "outputs": [
    {
     "name": "stdout",
     "output_type": "stream",
     "text": [
      "['Algorithms' 'Statistics']\n"
     ]
    }
   ],
   "source": [
    "print(train_df['label'].unique())"
   ]
  },
  {
   "cell_type": "code",
   "execution_count": 22,
   "metadata": {},
   "outputs": [
    {
     "data": {
      "text/html": [
       "<div>\n",
       "<style scoped>\n",
       "    .dataframe tbody tr th:only-of-type {\n",
       "        vertical-align: middle;\n",
       "    }\n",
       "\n",
       "    .dataframe tbody tr th {\n",
       "        vertical-align: top;\n",
       "    }\n",
       "\n",
       "    .dataframe thead th {\n",
       "        text-align: right;\n",
       "    }\n",
       "</style>\n",
       "<table border=\"1\" class=\"dataframe\">\n",
       "  <thead>\n",
       "    <tr style=\"text-align: right;\">\n",
       "      <th></th>\n",
       "      <th>text</th>\n",
       "      <th>label</th>\n",
       "    </tr>\n",
       "  </thead>\n",
       "  <tbody>\n",
       "    <tr>\n",
       "      <th>196</th>\n",
       "      <td>In our previous lesson, we saw what binary\\r\\n...</td>\n",
       "      <td>Algorithms</td>\n",
       "    </tr>\n",
       "    <tr>\n",
       "      <th>261</th>\n",
       "      <td>OK, here we go with, quiz\\r\\nreview for the th...</td>\n",
       "      <td>Algorithms</td>\n",
       "    </tr>\n",
       "    <tr>\n",
       "      <th>434</th>\n",
       "      <td>We have already seen\\r\\nan example in which we...</td>\n",
       "      <td>Algorithms</td>\n",
       "    </tr>\n",
       "    <tr>\n",
       "      <th>131</th>\n",
       "      <td>So, we're gonna start on our very\\r\\nlast topi...</td>\n",
       "      <td>Algorithms</td>\n",
       "    </tr>\n",
       "    <tr>\n",
       "      <th>647</th>\n",
       "      <td>A lot of what you'll learn in\\r\\ndifferential ...</td>\n",
       "      <td>Algorithms</td>\n",
       "    </tr>\n",
       "    <tr>\n",
       "      <th>...</th>\n",
       "      <td>...</td>\n",
       "      <td>...</td>\n",
       "    </tr>\n",
       "    <tr>\n",
       "      <th>355</th>\n",
       "      <td>The following content is\\r\\nprovided under a C...</td>\n",
       "      <td>Algorithms</td>\n",
       "    </tr>\n",
       "    <tr>\n",
       "      <th>167</th>\n",
       "      <td>[MUSIC] Stanford University. &amp;gt;&amp;gt; Alright!...</td>\n",
       "      <td>Algorithms</td>\n",
       "    </tr>\n",
       "    <tr>\n",
       "      <th>821</th>\n",
       "      <td>The following content is\\r\\nprovided under a C...</td>\n",
       "      <td>Algorithms</td>\n",
       "    </tr>\n",
       "    <tr>\n",
       "      <th>716</th>\n",
       "      <td>Let us now study a very\\r\\nimportant counting ...</td>\n",
       "      <td>Algorithms</td>\n",
       "    </tr>\n",
       "    <tr>\n",
       "      <th>566</th>\n",
       "      <td>The following content is\\r\\nprovided under a C...</td>\n",
       "      <td>Algorithms</td>\n",
       "    </tr>\n",
       "  </tbody>\n",
       "</table>\n",
       "<p>61 rows × 2 columns</p>\n",
       "</div>"
      ],
      "text/plain": [
       "                                                  text       label\n",
       "196  In our previous lesson, we saw what binary\\r\\n...  Algorithms\n",
       "261  OK, here we go with, quiz\\r\\nreview for the th...  Algorithms\n",
       "434  We have already seen\\r\\nan example in which we...  Algorithms\n",
       "131  So, we're gonna start on our very\\r\\nlast topi...  Algorithms\n",
       "647  A lot of what you'll learn in\\r\\ndifferential ...  Algorithms\n",
       "..                                                 ...         ...\n",
       "355  The following content is\\r\\nprovided under a C...  Algorithms\n",
       "167  [MUSIC] Stanford University. &gt;&gt; Alright!...  Algorithms\n",
       "821  The following content is\\r\\nprovided under a C...  Algorithms\n",
       "716  Let us now study a very\\r\\nimportant counting ...  Algorithms\n",
       "566  The following content is\\r\\nprovided under a C...  Algorithms\n",
       "\n",
       "[61 rows x 2 columns]"
      ]
     },
     "execution_count": 22,
     "metadata": {},
     "output_type": "execute_result"
    }
   ],
   "source": [
    "train_df [train_df.label=='Algorithms']"
   ]
  },
  {
   "cell_type": "code",
   "execution_count": 23,
   "metadata": {},
   "outputs": [
    {
     "data": {
      "text/plain": [
       "dict_keys(['Algorithms', 'Statistics'])"
      ]
     },
     "execution_count": 23,
     "metadata": {},
     "output_type": "execute_result"
    }
   ],
   "source": [
    "class_word_freq.keys()\n",
    "# class_word_freq['Algorithms'].keys()\n",
    "# class_word_freq['Algorithms'].values()\n"
   ]
  },
  {
   "cell_type": "markdown",
   "metadata": {},
   "source": [
    "## Count the total corpus words"
   ]
  },
  {
   "cell_type": "code",
   "execution_count": 24,
   "metadata": {},
   "outputs": [
    {
     "data": {
      "text/html": [
       "<div>\n",
       "<style scoped>\n",
       "    .dataframe tbody tr th:only-of-type {\n",
       "        vertical-align: middle;\n",
       "    }\n",
       "\n",
       "    .dataframe tbody tr th {\n",
       "        vertical-align: top;\n",
       "    }\n",
       "\n",
       "    .dataframe thead th {\n",
       "        text-align: right;\n",
       "    }\n",
       "</style>\n",
       "<table border=\"1\" class=\"dataframe\">\n",
       "  <thead>\n",
       "    <tr style=\"text-align: right;\">\n",
       "      <th></th>\n",
       "      <th>text</th>\n",
       "      <th>label</th>\n",
       "    </tr>\n",
       "  </thead>\n",
       "  <tbody>\n",
       "    <tr>\n",
       "      <th>196</th>\n",
       "      <td>In our previous lesson, we saw what binary\\r\\n...</td>\n",
       "      <td>Algorithms</td>\n",
       "    </tr>\n",
       "    <tr>\n",
       "      <th>729</th>\n",
       "      <td>The following content is\\r\\nprovided under a C...</td>\n",
       "      <td>Statistics</td>\n",
       "    </tr>\n",
       "    <tr>\n",
       "      <th>261</th>\n",
       "      <td>OK, here we go with, quiz\\r\\nreview for the th...</td>\n",
       "      <td>Algorithms</td>\n",
       "    </tr>\n",
       "    <tr>\n",
       "      <th>185</th>\n",
       "      <td>A lot of what we do with Laplace\\r\\ntransforms...</td>\n",
       "      <td>Statistics</td>\n",
       "    </tr>\n",
       "    <tr>\n",
       "      <th>294</th>\n",
       "      <td>Let us now discuss an\\r\\ninteresting fact abou...</td>\n",
       "      <td>Statistics</td>\n",
       "    </tr>\n",
       "  </tbody>\n",
       "</table>\n",
       "</div>"
      ],
      "text/plain": [
       "                                                  text       label\n",
       "196  In our previous lesson, we saw what binary\\r\\n...  Algorithms\n",
       "729  The following content is\\r\\nprovided under a C...  Statistics\n",
       "261  OK, here we go with, quiz\\r\\nreview for the th...  Algorithms\n",
       "185  A lot of what we do with Laplace\\r\\ntransforms...  Statistics\n",
       "294  Let us now discuss an\\r\\ninteresting fact abou...  Statistics"
      ]
     },
     "execution_count": 24,
     "metadata": {},
     "output_type": "execute_result"
    }
   ],
   "source": [
    "train_df.head()"
   ]
  },
  {
   "cell_type": "code",
   "execution_count": 25,
   "metadata": {},
   "outputs": [
    {
     "data": {
      "text/plain": [
       "23977"
      ]
     },
     "execution_count": 25,
     "metadata": {},
     "output_type": "execute_result"
    }
   ],
   "source": [
    "vocabulary = set()\n",
    "for text in train_df['text']:\n",
    "    for word in text.split():\n",
    "        vocabulary.add(word)\n",
    "V = len(vocabulary)\n",
    "V"
   ]
  },
  {
   "cell_type": "code",
   "execution_count": 26,
   "metadata": {},
   "outputs": [
    {
     "data": {
      "text/plain": [
       "{1, 2}"
      ]
     },
     "execution_count": 26,
     "metadata": {},
     "output_type": "execute_result"
    }
   ],
   "source": [
    "a=set()\n",
    "a.add(1)\n",
    "a.add(2)\n",
    "a.add(1)\n",
    "a"
   ]
  },
  {
   "cell_type": "markdown",
   "metadata": {},
   "source": [
    "## Create a bag of words function"
   ]
  },
  {
   "cell_type": "code",
   "execution_count": 27,
   "metadata": {},
   "outputs": [],
   "source": [
    "def bag_it(doc):\n",
    "    bag = {}\n",
    "    for word in doc.split():\n",
    "        bag[word] = bag.get(word, 0) + 1\n",
    "    return bag"
   ]
  },
  {
   "cell_type": "markdown",
   "metadata": {},
   "source": [
    "## Implement Naive Bayes"
   ]
  },
  {
   "cell_type": "code",
   "execution_count": 32,
   "metadata": {},
   "outputs": [],
   "source": [
    "import numpy as np\n",
    "def classify_doc(doc, class_word_freq, p_classes, V, return_posteriors=False):\n",
    "    # doc = one of the texts in train_df\n",
    "    # class_word_freq = word frequency dictionary for each class (algo or stat)\n",
    "    # p_classes= count of occurences for each class in df_train\n",
    "    # V total corpus words number\n",
    "    bag = bag_it(doc)\n",
    "    classes = []\n",
    "    posteriors = []\n",
    "    for class_ in class_word_freq.keys():\n",
    "        p = p_classes[class_]\n",
    "        for word in bag.keys():\n",
    "            num = bag[word]+1  #(laplacian smoothing formula)\n",
    "            denom = class_word_freq[class_].get(word, 0) + V  #(laplacian smoothing formula)\n",
    "            p *= (num/denom)\n",
    "        classes.append(class_)\n",
    "        posteriors.append(p)\n",
    "    if return_posteriors:\n",
    "        print(posteriors)\n",
    "    return classes[np.argmax(posteriors)]"
   ]
  },
  {
   "cell_type": "code",
   "execution_count": 33,
   "metadata": {},
   "outputs": [
    {
     "data": {
      "text/plain": [
       "{'Algorithms': 0.50625, 'Statistics': 0.49375}"
      ]
     },
     "execution_count": 33,
     "metadata": {},
     "output_type": "execute_result"
    }
   ],
   "source": [
    "p_classes\n"
   ]
  },
  {
   "cell_type": "code",
   "execution_count": 34,
   "metadata": {},
   "outputs": [
    {
     "name": "stdout",
     "output_type": "stream",
     "text": [
      "[0.0, 0.0]\n"
     ]
    },
    {
     "data": {
      "text/plain": [
       "'Algorithms'"
      ]
     },
     "execution_count": 34,
     "metadata": {},
     "output_type": "execute_result"
    }
   ],
   "source": [
    "classify_doc(train_df.iloc[0]['text'], class_word_freq, p_classes, V, return_posteriors=True)"
   ]
  },
  {
   "cell_type": "code",
   "execution_count": 38,
   "metadata": {},
   "outputs": [
    {
     "name": "stdout",
     "output_type": "stream",
     "text": [
      "[0.0, 0.0]\n"
     ]
    },
    {
     "data": {
      "text/plain": [
       "'Algorithms'"
      ]
     },
     "execution_count": 38,
     "metadata": {},
     "output_type": "execute_result"
    }
   ],
   "source": [
    "classify_doc(train_df.iloc[43]['text'], class_word_freq, p_classes, V, return_posteriors=True)"
   ]
  },
  {
   "cell_type": "markdown",
   "metadata": {},
   "source": [
    "## Avoid underflow\n",
    "\n",
    "As you can see from the output above, repeatedly multiplying small probabilities can lead to underflow; rounding to zero due to numerical approximation limitations. As such, a common alternative is to add the logarithms of the probabilities as opposed to multiplying the raw probabilities themselves. If this is alien to you, it might be worth reviewing some algebra rules of exponents and logarithms briefly:  \n",
    "\n",
    "$ e^x \\cdot e^y = e^{x+y}$  \n",
    "$ log_{e}(e)=1 $  \n",
    "$ e^{log(x)} = x$  \n",
    "\n",
    "With that, here's an updated version of the function using log probabilities to avoid underflow:"
   ]
  },
  {
   "cell_type": "code",
   "execution_count": 39,
   "metadata": {},
   "outputs": [],
   "source": [
    "def classify_doc2(doc, class_word_freq, p_classes, V, return_posteriors=False):\n",
    "    # doc = one of the texts in train_df\n",
    "    # class_word_freq = word frequency dictionary for each class (algo or stat)\n",
    "    # p_classes= count of occurences for each class in df_train\n",
    "    # V total corpus words number\n",
    "    bag = bag_it(doc)\n",
    "    classes = []\n",
    "    posteriors = []\n",
    "    for class_ in class_word_freq.keys():\n",
    "        p = np.log(p_classes[class_])\n",
    "        for word in bag.keys():\n",
    "            num = bag[word]+1  #(laplacian smoothing formula)\n",
    "            denom = class_word_freq[class_].get(word, 0) + V   #(laplacian smoothing formula)\n",
    "            p += np.log(num/denom)   # instead of p *= (num/denom)\n",
    "        classes.append(class_)\n",
    "        posteriors.append(p)\n",
    "    if return_posteriors:\n",
    "        print(posteriors)\n",
    "    return classes[np.argmax(posteriors)]"
   ]
  },
  {
   "cell_type": "code",
   "execution_count": 43,
   "metadata": {},
   "outputs": [
    {
     "name": "stdout",
     "output_type": "stream",
     "text": [
      "[0.0, 0.0]\n"
     ]
    },
    {
     "data": {
      "text/plain": [
       "'Algorithms'"
      ]
     },
     "execution_count": 43,
     "metadata": {},
     "output_type": "execute_result"
    }
   ],
   "source": [
    "classify_doc(train_df.iloc[0]['text'], class_word_freq, p_classes, V, return_posteriors=True)"
   ]
  },
  {
   "cell_type": "code",
   "execution_count": 40,
   "metadata": {},
   "outputs": [
    {
     "name": "stdout",
     "output_type": "stream",
     "text": [
      "[-5578.267536771343, -5577.213285866603]\n"
     ]
    },
    {
     "data": {
      "text/plain": [
       "'Statistics'"
      ]
     },
     "execution_count": 40,
     "metadata": {},
     "output_type": "execute_result"
    }
   ],
   "source": [
    "classify_doc2(train_df.iloc[0]['text'], class_word_freq, p_classes, V, return_posteriors=True)"
   ]
  },
  {
   "cell_type": "code",
   "execution_count": 44,
   "metadata": {},
   "outputs": [
    {
     "name": "stdout",
     "output_type": "stream",
     "text": [
      "[0.0, 0.0]\n"
     ]
    },
    {
     "data": {
      "text/plain": [
       "'Algorithms'"
      ]
     },
     "execution_count": 44,
     "metadata": {},
     "output_type": "execute_result"
    }
   ],
   "source": [
    "classify_doc(train_df.iloc[10]['text'], class_word_freq, p_classes, V, return_posteriors=True)"
   ]
  },
  {
   "cell_type": "code",
   "execution_count": 41,
   "metadata": {},
   "outputs": [
    {
     "name": "stdout",
     "output_type": "stream",
     "text": [
      "[-2572.1544445158343, -2571.311308656896]\n"
     ]
    },
    {
     "data": {
      "text/plain": [
       "'Statistics'"
      ]
     },
     "execution_count": 41,
     "metadata": {},
     "output_type": "execute_result"
    }
   ],
   "source": [
    "classify_doc2(train_df.iloc[10]['text'], class_word_freq, p_classes, V, return_posteriors=True)"
   ]
  },
  {
   "cell_type": "code",
   "execution_count": 45,
   "metadata": {},
   "outputs": [
    {
     "name": "stdout",
     "output_type": "stream",
     "text": [
      "[0.0, 0.0]\n"
     ]
    },
    {
     "data": {
      "text/plain": [
       "'Algorithms'"
      ]
     },
     "execution_count": 45,
     "metadata": {},
     "output_type": "execute_result"
    }
   ],
   "source": [
    "classify_doc(train_df.iloc[12]['text'], class_word_freq, p_classes, V, return_posteriors=True)"
   ]
  },
  {
   "cell_type": "code",
   "execution_count": 42,
   "metadata": {},
   "outputs": [
    {
     "name": "stdout",
     "output_type": "stream",
     "text": [
      "[-4602.602622507951, -4601.755644621728]\n"
     ]
    },
    {
     "data": {
      "text/plain": [
       "'Statistics'"
      ]
     },
     "execution_count": 42,
     "metadata": {},
     "output_type": "execute_result"
    }
   ],
   "source": [
    "classify_doc2(train_df.iloc[12]['text'], class_word_freq, p_classes, V, return_posteriors=True)"
   ]
  },
  {
   "cell_type": "code",
   "execution_count": 46,
   "metadata": {},
   "outputs": [
    {
     "data": {
      "text/plain": [
       "False    0.508333\n",
       "True     0.491667\n",
       "dtype: float64"
      ]
     },
     "execution_count": 46,
     "metadata": {},
     "output_type": "execute_result"
    }
   ],
   "source": [
    "y_hat_train = X_train.map(lambda x: classify_doc2(x, class_word_freq, p_classes, V))\n",
    "residuals = y_train == y_hat_train\n",
    "residuals.value_counts(normalize=True)"
   ]
  },
  {
   "cell_type": "markdown",
   "metadata": {},
   "source": [
    "As you can see, this algorithm leaves a lot to be desired. A measly 49% accuracy is nothing to write home about. (In fact, it's slightly worse than random guessing!) In practice, substantial additional preprocessing including removing stop words and using stemming or lemmatisation would be required. Even then, Naive Bayes might still not be the optimal algorithm. Nonetheless, it is a worthwhile exercise and a comprehendible algorithm. "
   ]
  },
  {
   "cell_type": "markdown",
   "metadata": {},
   "source": [
    "## Summary\n",
    "\n",
    "In this lesson, you got to see another application of Bayes' theorem as a means to do some rough documentation classification."
   ]
  }
 ],
 "metadata": {
  "kernelspec": {
   "display_name": "Python 3",
   "language": "python",
   "name": "python3"
  },
  "language_info": {
   "codemirror_mode": {
    "name": "ipython",
    "version": 3
   },
   "file_extension": ".py",
   "mimetype": "text/x-python",
   "name": "python",
   "nbconvert_exporter": "python",
   "pygments_lexer": "ipython3",
   "version": "3.6.9"
  }
 },
 "nbformat": 4,
 "nbformat_minor": 2
}
